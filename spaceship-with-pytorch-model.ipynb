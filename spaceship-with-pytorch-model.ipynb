{
 "cells": [
  {
   "cell_type": "code",
   "execution_count": 1,
   "id": "152f5a69",
   "metadata": {
    "_cell_guid": "b1076dfc-b9ad-4769-8c92-a6c4dae69d19",
    "_uuid": "8f2839f25d086af736a60e9eeb907d3b93b6e0e5",
    "execution": {
     "iopub.execute_input": "2023-10-27T23:06:30.431582Z",
     "iopub.status.busy": "2023-10-27T23:06:30.431153Z",
     "iopub.status.idle": "2023-10-27T23:06:35.685244Z",
     "shell.execute_reply": "2023-10-27T23:06:35.684079Z"
    },
    "papermill": {
     "duration": 5.27996,
     "end_time": "2023-10-27T23:06:35.688229",
     "exception": false,
     "start_time": "2023-10-27T23:06:30.408269",
     "status": "completed"
    },
    "tags": []
   },
   "outputs": [],
   "source": [
    "import numpy as np\n",
    "import pandas as pd\n",
    "import matplotlib.pyplot as plt\n",
    "\n",
    "from sklearn.preprocessing import StandardScaler\n",
    "from sklearn.model_selection import train_test_split\n",
    "from sklearn.metrics import accuracy_score, classification_report, confusion_matrix\n",
    "\n",
    "import torch\n",
    "import torch.nn as nn\n",
    "import torch.optim as optim\n"
   ]
  },
  {
   "cell_type": "markdown",
   "id": "fa216f71",
   "metadata": {
    "papermill": {
     "duration": 0.020288,
     "end_time": "2023-10-27T23:06:35.730339",
     "exception": false,
     "start_time": "2023-10-27T23:06:35.710051",
     "status": "completed"
    },
    "tags": []
   },
   "source": [
    "## DATA EXPLORATION\n",
    "Read data and display some examples."
   ]
  },
  {
   "cell_type": "code",
   "execution_count": 2,
   "id": "7cacfa59",
   "metadata": {
    "execution": {
     "iopub.execute_input": "2023-10-27T23:06:35.773161Z",
     "iopub.status.busy": "2023-10-27T23:06:35.772613Z",
     "iopub.status.idle": "2023-10-27T23:06:35.869207Z",
     "shell.execute_reply": "2023-10-27T23:06:35.867952Z"
    },
    "papermill": {
     "duration": 0.120904,
     "end_time": "2023-10-27T23:06:35.871977",
     "exception": false,
     "start_time": "2023-10-27T23:06:35.751073",
     "status": "completed"
    },
    "tags": []
   },
   "outputs": [],
   "source": [
    "train_df_org = pd.read_csv('/kaggle/input/spaceship-titanic/train.csv')\n",
    "test_df_org = pd.read_csv('/kaggle/input/spaceship-titanic/test.csv')"
   ]
  },
  {
   "cell_type": "code",
   "execution_count": 3,
   "id": "c78adc8c",
   "metadata": {
    "execution": {
     "iopub.execute_input": "2023-10-27T23:06:35.915417Z",
     "iopub.status.busy": "2023-10-27T23:06:35.914964Z",
     "iopub.status.idle": "2023-10-27T23:06:35.920698Z",
     "shell.execute_reply": "2023-10-27T23:06:35.919910Z"
    },
    "papermill": {
     "duration": 0.02996,
     "end_time": "2023-10-27T23:06:35.923067",
     "exception": false,
     "start_time": "2023-10-27T23:06:35.893107",
     "status": "completed"
    },
    "tags": []
   },
   "outputs": [],
   "source": [
    "train_df = train_df_org.copy()\n",
    "test_df = test_df_org.copy()"
   ]
  },
  {
   "cell_type": "code",
   "execution_count": 4,
   "id": "b5dc65e8",
   "metadata": {
    "execution": {
     "iopub.execute_input": "2023-10-27T23:06:35.967481Z",
     "iopub.status.busy": "2023-10-27T23:06:35.966752Z",
     "iopub.status.idle": "2023-10-27T23:06:35.974587Z",
     "shell.execute_reply": "2023-10-27T23:06:35.973793Z"
    },
    "papermill": {
     "duration": 0.032228,
     "end_time": "2023-10-27T23:06:35.976611",
     "exception": false,
     "start_time": "2023-10-27T23:06:35.944383",
     "status": "completed"
    },
    "tags": []
   },
   "outputs": [
    {
     "data": {
      "text/plain": [
       "Index(['PassengerId', 'HomePlanet', 'CryoSleep', 'Cabin', 'Destination', 'Age',\n",
       "       'VIP', 'RoomService', 'FoodCourt', 'ShoppingMall', 'Spa', 'VRDeck',\n",
       "       'Name', 'Transported'],\n",
       "      dtype='object')"
      ]
     },
     "execution_count": 4,
     "metadata": {},
     "output_type": "execute_result"
    }
   ],
   "source": [
    "train_df.columns"
   ]
  },
  {
   "cell_type": "code",
   "execution_count": 5,
   "id": "ecc80db1",
   "metadata": {
    "execution": {
     "iopub.execute_input": "2023-10-27T23:06:36.021018Z",
     "iopub.status.busy": "2023-10-27T23:06:36.020390Z",
     "iopub.status.idle": "2023-10-27T23:06:36.054514Z",
     "shell.execute_reply": "2023-10-27T23:06:36.053231Z"
    },
    "papermill": {
     "duration": 0.05932,
     "end_time": "2023-10-27T23:06:36.056924",
     "exception": false,
     "start_time": "2023-10-27T23:06:35.997604",
     "status": "completed"
    },
    "tags": []
   },
   "outputs": [
    {
     "data": {
      "text/html": [
       "<div>\n",
       "<style scoped>\n",
       "    .dataframe tbody tr th:only-of-type {\n",
       "        vertical-align: middle;\n",
       "    }\n",
       "\n",
       "    .dataframe tbody tr th {\n",
       "        vertical-align: top;\n",
       "    }\n",
       "\n",
       "    .dataframe thead th {\n",
       "        text-align: right;\n",
       "    }\n",
       "</style>\n",
       "<table border=\"1\" class=\"dataframe\">\n",
       "  <thead>\n",
       "    <tr style=\"text-align: right;\">\n",
       "      <th></th>\n",
       "      <th>PassengerId</th>\n",
       "      <th>HomePlanet</th>\n",
       "      <th>CryoSleep</th>\n",
       "      <th>Cabin</th>\n",
       "      <th>Destination</th>\n",
       "      <th>Age</th>\n",
       "      <th>VIP</th>\n",
       "      <th>RoomService</th>\n",
       "      <th>FoodCourt</th>\n",
       "      <th>ShoppingMall</th>\n",
       "      <th>Spa</th>\n",
       "      <th>VRDeck</th>\n",
       "      <th>Name</th>\n",
       "      <th>Transported</th>\n",
       "    </tr>\n",
       "  </thead>\n",
       "  <tbody>\n",
       "    <tr>\n",
       "      <th>0</th>\n",
       "      <td>0001_01</td>\n",
       "      <td>Europa</td>\n",
       "      <td>False</td>\n",
       "      <td>B/0/P</td>\n",
       "      <td>TRAPPIST-1e</td>\n",
       "      <td>39.0</td>\n",
       "      <td>False</td>\n",
       "      <td>0.0</td>\n",
       "      <td>0.0</td>\n",
       "      <td>0.0</td>\n",
       "      <td>0.0</td>\n",
       "      <td>0.0</td>\n",
       "      <td>Maham Ofracculy</td>\n",
       "      <td>False</td>\n",
       "    </tr>\n",
       "    <tr>\n",
       "      <th>1</th>\n",
       "      <td>0002_01</td>\n",
       "      <td>Earth</td>\n",
       "      <td>False</td>\n",
       "      <td>F/0/S</td>\n",
       "      <td>TRAPPIST-1e</td>\n",
       "      <td>24.0</td>\n",
       "      <td>False</td>\n",
       "      <td>109.0</td>\n",
       "      <td>9.0</td>\n",
       "      <td>25.0</td>\n",
       "      <td>549.0</td>\n",
       "      <td>44.0</td>\n",
       "      <td>Juanna Vines</td>\n",
       "      <td>True</td>\n",
       "    </tr>\n",
       "    <tr>\n",
       "      <th>2</th>\n",
       "      <td>0003_01</td>\n",
       "      <td>Europa</td>\n",
       "      <td>False</td>\n",
       "      <td>A/0/S</td>\n",
       "      <td>TRAPPIST-1e</td>\n",
       "      <td>58.0</td>\n",
       "      <td>True</td>\n",
       "      <td>43.0</td>\n",
       "      <td>3576.0</td>\n",
       "      <td>0.0</td>\n",
       "      <td>6715.0</td>\n",
       "      <td>49.0</td>\n",
       "      <td>Altark Susent</td>\n",
       "      <td>False</td>\n",
       "    </tr>\n",
       "    <tr>\n",
       "      <th>3</th>\n",
       "      <td>0003_02</td>\n",
       "      <td>Europa</td>\n",
       "      <td>False</td>\n",
       "      <td>A/0/S</td>\n",
       "      <td>TRAPPIST-1e</td>\n",
       "      <td>33.0</td>\n",
       "      <td>False</td>\n",
       "      <td>0.0</td>\n",
       "      <td>1283.0</td>\n",
       "      <td>371.0</td>\n",
       "      <td>3329.0</td>\n",
       "      <td>193.0</td>\n",
       "      <td>Solam Susent</td>\n",
       "      <td>False</td>\n",
       "    </tr>\n",
       "    <tr>\n",
       "      <th>4</th>\n",
       "      <td>0004_01</td>\n",
       "      <td>Earth</td>\n",
       "      <td>False</td>\n",
       "      <td>F/1/S</td>\n",
       "      <td>TRAPPIST-1e</td>\n",
       "      <td>16.0</td>\n",
       "      <td>False</td>\n",
       "      <td>303.0</td>\n",
       "      <td>70.0</td>\n",
       "      <td>151.0</td>\n",
       "      <td>565.0</td>\n",
       "      <td>2.0</td>\n",
       "      <td>Willy Santantines</td>\n",
       "      <td>True</td>\n",
       "    </tr>\n",
       "  </tbody>\n",
       "</table>\n",
       "</div>"
      ],
      "text/plain": [
       "  PassengerId HomePlanet CryoSleep  Cabin  Destination   Age    VIP  \\\n",
       "0     0001_01     Europa     False  B/0/P  TRAPPIST-1e  39.0  False   \n",
       "1     0002_01      Earth     False  F/0/S  TRAPPIST-1e  24.0  False   \n",
       "2     0003_01     Europa     False  A/0/S  TRAPPIST-1e  58.0   True   \n",
       "3     0003_02     Europa     False  A/0/S  TRAPPIST-1e  33.0  False   \n",
       "4     0004_01      Earth     False  F/1/S  TRAPPIST-1e  16.0  False   \n",
       "\n",
       "   RoomService  FoodCourt  ShoppingMall     Spa  VRDeck               Name  \\\n",
       "0          0.0        0.0           0.0     0.0     0.0    Maham Ofracculy   \n",
       "1        109.0        9.0          25.0   549.0    44.0       Juanna Vines   \n",
       "2         43.0     3576.0           0.0  6715.0    49.0      Altark Susent   \n",
       "3          0.0     1283.0         371.0  3329.0   193.0       Solam Susent   \n",
       "4        303.0       70.0         151.0   565.0     2.0  Willy Santantines   \n",
       "\n",
       "   Transported  \n",
       "0        False  \n",
       "1         True  \n",
       "2        False  \n",
       "3        False  \n",
       "4         True  "
      ]
     },
     "execution_count": 5,
     "metadata": {},
     "output_type": "execute_result"
    }
   ],
   "source": [
    "train_df.head()"
   ]
  },
  {
   "cell_type": "code",
   "execution_count": 6,
   "id": "c2716130",
   "metadata": {
    "execution": {
     "iopub.execute_input": "2023-10-27T23:06:36.101964Z",
     "iopub.status.busy": "2023-10-27T23:06:36.101557Z",
     "iopub.status.idle": "2023-10-27T23:06:36.118851Z",
     "shell.execute_reply": "2023-10-27T23:06:36.117828Z"
    },
    "papermill": {
     "duration": 0.042599,
     "end_time": "2023-10-27T23:06:36.121237",
     "exception": false,
     "start_time": "2023-10-27T23:06:36.078638",
     "status": "completed"
    },
    "tags": []
   },
   "outputs": [
    {
     "data": {
      "text/plain": [
       "PassengerId       0\n",
       "HomePlanet      201\n",
       "CryoSleep       217\n",
       "Cabin           199\n",
       "Destination     182\n",
       "Age             179\n",
       "VIP             203\n",
       "RoomService     181\n",
       "FoodCourt       183\n",
       "ShoppingMall    208\n",
       "Spa             183\n",
       "VRDeck          188\n",
       "Name            200\n",
       "Transported       0\n",
       "dtype: int64"
      ]
     },
     "execution_count": 6,
     "metadata": {},
     "output_type": "execute_result"
    }
   ],
   "source": [
    "# Checking null counts to later fill or discard according to the dtypes and distributions \n",
    "train_df.isnull().sum()"
   ]
  },
  {
   "cell_type": "code",
   "execution_count": 7,
   "id": "40d89c8e",
   "metadata": {
    "execution": {
     "iopub.execute_input": "2023-10-27T23:06:36.172835Z",
     "iopub.status.busy": "2023-10-27T23:06:36.171610Z",
     "iopub.status.idle": "2023-10-27T23:06:36.182008Z",
     "shell.execute_reply": "2023-10-27T23:06:36.180916Z"
    },
    "papermill": {
     "duration": 0.040347,
     "end_time": "2023-10-27T23:06:36.184406",
     "exception": false,
     "start_time": "2023-10-27T23:06:36.144059",
     "status": "completed"
    },
    "tags": []
   },
   "outputs": [
    {
     "data": {
      "text/plain": [
       "PassengerId      object\n",
       "HomePlanet       object\n",
       "CryoSleep        object\n",
       "Cabin            object\n",
       "Destination      object\n",
       "Age             float64\n",
       "VIP              object\n",
       "RoomService     float64\n",
       "FoodCourt       float64\n",
       "ShoppingMall    float64\n",
       "Spa             float64\n",
       "VRDeck          float64\n",
       "Name             object\n",
       "Transported        bool\n",
       "dtype: object"
      ]
     },
     "execution_count": 7,
     "metadata": {},
     "output_type": "execute_result"
    }
   ],
   "source": [
    "# Checking dtypes to adjust data by their dtypes (numeric or not)\n",
    "train_df.dtypes"
   ]
  },
  {
   "cell_type": "code",
   "execution_count": 8,
   "id": "4b564c2e",
   "metadata": {
    "execution": {
     "iopub.execute_input": "2023-10-27T23:06:36.233016Z",
     "iopub.status.busy": "2023-10-27T23:06:36.232364Z",
     "iopub.status.idle": "2023-10-27T23:06:36.241754Z",
     "shell.execute_reply": "2023-10-27T23:06:36.240025Z"
    },
    "papermill": {
     "duration": 0.035055,
     "end_time": "2023-10-27T23:06:36.244655",
     "exception": false,
     "start_time": "2023-10-27T23:06:36.209600",
     "status": "completed"
    },
    "tags": []
   },
   "outputs": [
    {
     "name": "stdout",
     "output_type": "stream",
     "text": [
      "['Age', 'RoomService', 'FoodCourt', 'ShoppingMall', 'Spa', 'VRDeck']\n",
      "['PassengerId', 'HomePlanet', 'CryoSleep', 'Cabin', 'Destination', 'VIP', 'Name']\n"
     ]
    }
   ],
   "source": [
    "num_columns = [col for col, dtype in train_df.dtypes.items() if dtype == 'float64']\n",
    "str_columns = [col for col, dtype in train_df.dtypes.items() if dtype == 'object']\n",
    "\n",
    "print(num_columns) \n",
    "print(str_columns)"
   ]
  },
  {
   "cell_type": "markdown",
   "id": "f9321ec3",
   "metadata": {
    "papermill": {
     "duration": 0.030954,
     "end_time": "2023-10-27T23:06:36.307660",
     "exception": false,
     "start_time": "2023-10-27T23:06:36.276706",
     "status": "completed"
    },
    "tags": []
   },
   "source": [
    "## DATA PREPROCESSING"
   ]
  },
  {
   "cell_type": "code",
   "execution_count": 9,
   "id": "c4d34315",
   "metadata": {
    "execution": {
     "iopub.execute_input": "2023-10-27T23:06:36.359210Z",
     "iopub.status.busy": "2023-10-27T23:06:36.358052Z",
     "iopub.status.idle": "2023-10-27T23:06:36.364639Z",
     "shell.execute_reply": "2023-10-27T23:06:36.363409Z"
    },
    "papermill": {
     "duration": 0.032526,
     "end_time": "2023-10-27T23:06:36.367195",
     "exception": false,
     "start_time": "2023-10-27T23:06:36.334669",
     "status": "completed"
    },
    "tags": []
   },
   "outputs": [],
   "source": [
    "# Remove columns that don't affect the decision.\n",
    "def remove_unneccessary_cols(df, col_names_to_remove):\n",
    "    for col in col_names_to_remove:\n",
    "        if col in df.columns:\n",
    "            df.drop(col_names_to_remove, axis=1, inplace=True)\n",
    "    print(\"Columns removed:\", col_names_to_remove)\n",
    "    return df"
   ]
  },
  {
   "cell_type": "code",
   "execution_count": 10,
   "id": "f6a06de3",
   "metadata": {
    "execution": {
     "iopub.execute_input": "2023-10-27T23:06:36.475624Z",
     "iopub.status.busy": "2023-10-27T23:06:36.474944Z",
     "iopub.status.idle": "2023-10-27T23:06:36.496484Z",
     "shell.execute_reply": "2023-10-27T23:06:36.495248Z"
    },
    "papermill": {
     "duration": 0.05114,
     "end_time": "2023-10-27T23:06:36.498989",
     "exception": false,
     "start_time": "2023-10-27T23:06:36.447849",
     "status": "completed"
    },
    "tags": []
   },
   "outputs": [
    {
     "name": "stdout",
     "output_type": "stream",
     "text": [
      "Columns removed: ['Name', 'PassengerId']\n"
     ]
    },
    {
     "data": {
      "text/plain": [
       "Index(['HomePlanet', 'CryoSleep', 'Cabin', 'Destination', 'Age', 'VIP',\n",
       "       'RoomService', 'FoodCourt', 'ShoppingMall', 'Spa', 'VRDeck',\n",
       "       'Transported'],\n",
       "      dtype='object')"
      ]
     },
     "execution_count": 10,
     "metadata": {},
     "output_type": "execute_result"
    }
   ],
   "source": [
    "cols = ['Name', 'PassengerId']\n",
    "train_df = remove_unneccessary_cols(train_df, cols)\n",
    "train_df.columns"
   ]
  },
  {
   "cell_type": "markdown",
   "id": "3ed349f1",
   "metadata": {
    "papermill": {
     "duration": 0.022122,
     "end_time": "2023-10-27T23:06:36.543479",
     "exception": false,
     "start_time": "2023-10-27T23:06:36.521357",
     "status": "completed"
    },
    "tags": []
   },
   "source": [
    "### Numeric Columns Preprocessing"
   ]
  },
  {
   "cell_type": "code",
   "execution_count": 11,
   "id": "09b1dea2",
   "metadata": {
    "execution": {
     "iopub.execute_input": "2023-10-27T23:06:36.593766Z",
     "iopub.status.busy": "2023-10-27T23:06:36.593391Z",
     "iopub.status.idle": "2023-10-27T23:06:36.630774Z",
     "shell.execute_reply": "2023-10-27T23:06:36.629566Z"
    },
    "papermill": {
     "duration": 0.064526,
     "end_time": "2023-10-27T23:06:36.633168",
     "exception": false,
     "start_time": "2023-10-27T23:06:36.568642",
     "status": "completed"
    },
    "tags": []
   },
   "outputs": [
    {
     "data": {
      "text/html": [
       "<div>\n",
       "<style scoped>\n",
       "    .dataframe tbody tr th:only-of-type {\n",
       "        vertical-align: middle;\n",
       "    }\n",
       "\n",
       "    .dataframe tbody tr th {\n",
       "        vertical-align: top;\n",
       "    }\n",
       "\n",
       "    .dataframe thead th {\n",
       "        text-align: right;\n",
       "    }\n",
       "</style>\n",
       "<table border=\"1\" class=\"dataframe\">\n",
       "  <thead>\n",
       "    <tr style=\"text-align: right;\">\n",
       "      <th></th>\n",
       "      <th>HomePlanet</th>\n",
       "      <th>CryoSleep</th>\n",
       "      <th>Cabin</th>\n",
       "      <th>Destination</th>\n",
       "      <th>Age</th>\n",
       "      <th>VIP</th>\n",
       "      <th>RoomService</th>\n",
       "      <th>FoodCourt</th>\n",
       "      <th>ShoppingMall</th>\n",
       "      <th>Spa</th>\n",
       "      <th>VRDeck</th>\n",
       "      <th>Transported</th>\n",
       "    </tr>\n",
       "  </thead>\n",
       "  <tbody>\n",
       "    <tr>\n",
       "      <th>0</th>\n",
       "      <td>Europa</td>\n",
       "      <td>False</td>\n",
       "      <td>B/0/P</td>\n",
       "      <td>TRAPPIST-1e</td>\n",
       "      <td>39.0</td>\n",
       "      <td>False</td>\n",
       "      <td>0.0</td>\n",
       "      <td>0.0</td>\n",
       "      <td>0.0</td>\n",
       "      <td>0.0</td>\n",
       "      <td>0.0</td>\n",
       "      <td>False</td>\n",
       "    </tr>\n",
       "    <tr>\n",
       "      <th>1</th>\n",
       "      <td>Earth</td>\n",
       "      <td>False</td>\n",
       "      <td>F/0/S</td>\n",
       "      <td>TRAPPIST-1e</td>\n",
       "      <td>24.0</td>\n",
       "      <td>False</td>\n",
       "      <td>109.0</td>\n",
       "      <td>9.0</td>\n",
       "      <td>25.0</td>\n",
       "      <td>549.0</td>\n",
       "      <td>44.0</td>\n",
       "      <td>True</td>\n",
       "    </tr>\n",
       "    <tr>\n",
       "      <th>2</th>\n",
       "      <td>Europa</td>\n",
       "      <td>False</td>\n",
       "      <td>A/0/S</td>\n",
       "      <td>TRAPPIST-1e</td>\n",
       "      <td>58.0</td>\n",
       "      <td>True</td>\n",
       "      <td>43.0</td>\n",
       "      <td>3576.0</td>\n",
       "      <td>0.0</td>\n",
       "      <td>6715.0</td>\n",
       "      <td>49.0</td>\n",
       "      <td>False</td>\n",
       "    </tr>\n",
       "    <tr>\n",
       "      <th>3</th>\n",
       "      <td>Europa</td>\n",
       "      <td>False</td>\n",
       "      <td>A/0/S</td>\n",
       "      <td>TRAPPIST-1e</td>\n",
       "      <td>33.0</td>\n",
       "      <td>False</td>\n",
       "      <td>0.0</td>\n",
       "      <td>1283.0</td>\n",
       "      <td>371.0</td>\n",
       "      <td>3329.0</td>\n",
       "      <td>193.0</td>\n",
       "      <td>False</td>\n",
       "    </tr>\n",
       "    <tr>\n",
       "      <th>4</th>\n",
       "      <td>Earth</td>\n",
       "      <td>False</td>\n",
       "      <td>F/1/S</td>\n",
       "      <td>TRAPPIST-1e</td>\n",
       "      <td>16.0</td>\n",
       "      <td>False</td>\n",
       "      <td>303.0</td>\n",
       "      <td>70.0</td>\n",
       "      <td>151.0</td>\n",
       "      <td>565.0</td>\n",
       "      <td>2.0</td>\n",
       "      <td>True</td>\n",
       "    </tr>\n",
       "    <tr>\n",
       "      <th>...</th>\n",
       "      <td>...</td>\n",
       "      <td>...</td>\n",
       "      <td>...</td>\n",
       "      <td>...</td>\n",
       "      <td>...</td>\n",
       "      <td>...</td>\n",
       "      <td>...</td>\n",
       "      <td>...</td>\n",
       "      <td>...</td>\n",
       "      <td>...</td>\n",
       "      <td>...</td>\n",
       "      <td>...</td>\n",
       "    </tr>\n",
       "    <tr>\n",
       "      <th>8688</th>\n",
       "      <td>Europa</td>\n",
       "      <td>False</td>\n",
       "      <td>A/98/P</td>\n",
       "      <td>55 Cancri e</td>\n",
       "      <td>41.0</td>\n",
       "      <td>True</td>\n",
       "      <td>0.0</td>\n",
       "      <td>6819.0</td>\n",
       "      <td>0.0</td>\n",
       "      <td>1643.0</td>\n",
       "      <td>74.0</td>\n",
       "      <td>False</td>\n",
       "    </tr>\n",
       "    <tr>\n",
       "      <th>8689</th>\n",
       "      <td>Earth</td>\n",
       "      <td>True</td>\n",
       "      <td>G/1499/S</td>\n",
       "      <td>PSO J318.5-22</td>\n",
       "      <td>18.0</td>\n",
       "      <td>False</td>\n",
       "      <td>0.0</td>\n",
       "      <td>0.0</td>\n",
       "      <td>0.0</td>\n",
       "      <td>0.0</td>\n",
       "      <td>0.0</td>\n",
       "      <td>False</td>\n",
       "    </tr>\n",
       "    <tr>\n",
       "      <th>8690</th>\n",
       "      <td>Earth</td>\n",
       "      <td>False</td>\n",
       "      <td>G/1500/S</td>\n",
       "      <td>TRAPPIST-1e</td>\n",
       "      <td>26.0</td>\n",
       "      <td>False</td>\n",
       "      <td>0.0</td>\n",
       "      <td>0.0</td>\n",
       "      <td>1872.0</td>\n",
       "      <td>1.0</td>\n",
       "      <td>0.0</td>\n",
       "      <td>True</td>\n",
       "    </tr>\n",
       "    <tr>\n",
       "      <th>8691</th>\n",
       "      <td>Europa</td>\n",
       "      <td>False</td>\n",
       "      <td>E/608/S</td>\n",
       "      <td>55 Cancri e</td>\n",
       "      <td>32.0</td>\n",
       "      <td>False</td>\n",
       "      <td>0.0</td>\n",
       "      <td>1049.0</td>\n",
       "      <td>0.0</td>\n",
       "      <td>353.0</td>\n",
       "      <td>3235.0</td>\n",
       "      <td>False</td>\n",
       "    </tr>\n",
       "    <tr>\n",
       "      <th>8692</th>\n",
       "      <td>Europa</td>\n",
       "      <td>False</td>\n",
       "      <td>E/608/S</td>\n",
       "      <td>TRAPPIST-1e</td>\n",
       "      <td>44.0</td>\n",
       "      <td>False</td>\n",
       "      <td>126.0</td>\n",
       "      <td>4688.0</td>\n",
       "      <td>0.0</td>\n",
       "      <td>0.0</td>\n",
       "      <td>12.0</td>\n",
       "      <td>True</td>\n",
       "    </tr>\n",
       "  </tbody>\n",
       "</table>\n",
       "<p>8514 rows × 12 columns</p>\n",
       "</div>"
      ],
      "text/plain": [
       "     HomePlanet CryoSleep     Cabin    Destination   Age    VIP  RoomService  \\\n",
       "0        Europa     False     B/0/P    TRAPPIST-1e  39.0  False          0.0   \n",
       "1         Earth     False     F/0/S    TRAPPIST-1e  24.0  False        109.0   \n",
       "2        Europa     False     A/0/S    TRAPPIST-1e  58.0   True         43.0   \n",
       "3        Europa     False     A/0/S    TRAPPIST-1e  33.0  False          0.0   \n",
       "4         Earth     False     F/1/S    TRAPPIST-1e  16.0  False        303.0   \n",
       "...         ...       ...       ...            ...   ...    ...          ...   \n",
       "8688     Europa     False    A/98/P    55 Cancri e  41.0   True          0.0   \n",
       "8689      Earth      True  G/1499/S  PSO J318.5-22  18.0  False          0.0   \n",
       "8690      Earth     False  G/1500/S    TRAPPIST-1e  26.0  False          0.0   \n",
       "8691     Europa     False   E/608/S    55 Cancri e  32.0  False          0.0   \n",
       "8692     Europa     False   E/608/S    TRAPPIST-1e  44.0  False        126.0   \n",
       "\n",
       "      FoodCourt  ShoppingMall     Spa  VRDeck  Transported  \n",
       "0           0.0           0.0     0.0     0.0        False  \n",
       "1           9.0          25.0   549.0    44.0         True  \n",
       "2        3576.0           0.0  6715.0    49.0        False  \n",
       "3        1283.0         371.0  3329.0   193.0        False  \n",
       "4          70.0         151.0   565.0     2.0         True  \n",
       "...         ...           ...     ...     ...          ...  \n",
       "8688     6819.0           0.0  1643.0    74.0        False  \n",
       "8689        0.0           0.0     0.0     0.0        False  \n",
       "8690        0.0        1872.0     1.0     0.0         True  \n",
       "8691     1049.0           0.0   353.0  3235.0        False  \n",
       "8692     4688.0           0.0     0.0    12.0         True  \n",
       "\n",
       "[8514 rows x 12 columns]"
      ]
     },
     "execution_count": 11,
     "metadata": {},
     "output_type": "execute_result"
    }
   ],
   "source": [
    "train_df[train_df['Age'].notna()]"
   ]
  },
  {
   "cell_type": "code",
   "execution_count": 12,
   "id": "781d5c7c",
   "metadata": {
    "execution": {
     "iopub.execute_input": "2023-10-27T23:06:36.680724Z",
     "iopub.status.busy": "2023-10-27T23:06:36.679833Z",
     "iopub.status.idle": "2023-10-27T23:06:39.666031Z",
     "shell.execute_reply": "2023-10-27T23:06:39.664857Z"
    },
    "papermill": {
     "duration": 3.012294,
     "end_time": "2023-10-27T23:06:39.668489",
     "exception": false,
     "start_time": "2023-10-27T23:06:36.656195",
     "status": "completed"
    },
    "tags": []
   },
   "outputs": [
    {
     "name": "stdout",
     "output_type": "stream",
     "text": [
      "min:0.0 | max: 79.0 | skew: 0.41909658301471536 | mean: 28.82793046746535\n"
     ]
    },
    {
     "data": {
      "image/png": "[encoded data removed]",
      "text/plain": [
       "<Figure size 800x400 with 1 Axes>"
      ]
     },
     "metadata": {},
     "output_type": "display_data"
    },
    {
     "name": "stdout",
     "output_type": "stream",
     "text": [
      "min:0.0 | max: 14327.0 | skew: 6.333014062092135 | mean: 224.687617481203\n"
     ]
    },
    {
     "data": {
      "image/png": "[encoded data removed]",
      "text/plain": [
       "<Figure size 800x400 with 1 Axes>"
      ]
     },
     "metadata": {},
     "output_type": "display_data"
    },
    {
     "name": "stdout",
     "output_type": "stream",
     "text": [
      "min:0.0 | max: 29813.0 | skew: 7.102227852514122 | mean: 458.07720329024676\n"
     ]
    },
    {
     "data": {
      "image/png": "[encoded data removed]",
      "text/plain": [
       "<Figure size 800x400 with 1 Axes>"
      ]
     },
     "metadata": {},
     "output_type": "display_data"
    },
    {
     "name": "stdout",
     "output_type": "stream",
     "text": [
      "min:0.0 | max: 23492.0 | skew: 12.62756203889759 | mean: 173.72916912197996\n"
     ]
    },
    {
     "data": {
      "image/png": "[encoded data removed]",
      "text/plain": [
       "<Figure size 800x400 with 1 Axes>"
      ]
     },
     "metadata": {},
     "output_type": "display_data"
    },
    {
     "name": "stdout",
     "output_type": "stream",
     "text": [
      "min:0.0 | max: 22408.0 | skew: 7.63601988471242 | mean: 311.1387779083431\n"
     ]
    },
    {
     "data": {
      "image/png": "[encoded data removed]",
      "text/plain": [
       "<Figure size 800x400 with 1 Axes>"
      ]
     },
     "metadata": {},
     "output_type": "display_data"
    },
    {
     "name": "stdout",
     "output_type": "stream",
     "text": [
      "min:0.0 | max: 24133.0 | skew: 7.819731592048683 | mean: 304.8547912992357\n"
     ]
    },
    {
     "data": {
      "image/png": "[encoded data removed]",
      "text/plain": [
       "<Figure size 800x400 with 1 Axes>"
      ]
     },
     "metadata": {},
     "output_type": "display_data"
    }
   ],
   "source": [
    "# Checkinge distributions of the numeric columns.\n",
    "for col in num_columns:\n",
    "#     train_df2 = train_df.copy()\n",
    "#     null_df = train_df2[train_df2[col].isna()]\n",
    "    column = train_df[col]\n",
    "    \n",
    "    min_val = column.min()\n",
    "    max_val = column.max()\n",
    "    skew = column.skew()\n",
    "    \n",
    "#     train_df2 = train_df2[train_df2[col].notna()]\n",
    "    \n",
    "    \n",
    "#     divider = max_val - min_val\n",
    "#     train_df2[col] = 1 + (train_df2[col] - min_val) / (divider) \n",
    "#     train_df2[col] = np.log(train_df2[col])\n",
    "    \n",
    "#     train_df2 = pd.concat([train_df2, null_df])\n",
    "    \n",
    "    plt.figure(figsize=(8, 4))\n",
    "    plt.title(col)\n",
    "    plt.ylabel('Count')\n",
    "    \n",
    "    print(f\"min:{column.min()} | max: {column.max()} | skew: {column.skew()} | mean: {column.mean()}\")\n",
    "    \n",
    "    train_df[col].plot(kind='kde')\n",
    "\n",
    "    plt.show()\n",
    "#     train_df = train_df2\n"
   ]
  },
  {
   "cell_type": "code",
   "execution_count": 13,
   "id": "203c0159",
   "metadata": {
    "execution": {
     "iopub.execute_input": "2023-10-27T23:06:39.723151Z",
     "iopub.status.busy": "2023-10-27T23:06:39.722714Z",
     "iopub.status.idle": "2023-10-27T23:06:39.754751Z",
     "shell.execute_reply": "2023-10-27T23:06:39.753569Z"
    },
    "papermill": {
     "duration": 0.062159,
     "end_time": "2023-10-27T23:06:39.757120",
     "exception": false,
     "start_time": "2023-10-27T23:06:39.694961",
     "status": "completed"
    },
    "tags": []
   },
   "outputs": [
    {
     "data": {
      "text/html": [
       "<div>\n",
       "<style scoped>\n",
       "    .dataframe tbody tr th:only-of-type {\n",
       "        vertical-align: middle;\n",
       "    }\n",
       "\n",
       "    .dataframe tbody tr th {\n",
       "        vertical-align: top;\n",
       "    }\n",
       "\n",
       "    .dataframe thead th {\n",
       "        text-align: right;\n",
       "    }\n",
       "</style>\n",
       "<table border=\"1\" class=\"dataframe\">\n",
       "  <thead>\n",
       "    <tr style=\"text-align: right;\">\n",
       "      <th></th>\n",
       "      <th>HomePlanet</th>\n",
       "      <th>CryoSleep</th>\n",
       "      <th>Cabin</th>\n",
       "      <th>Destination</th>\n",
       "      <th>VIP</th>\n",
       "      <th>RoomService</th>\n",
       "      <th>FoodCourt</th>\n",
       "      <th>ShoppingMall</th>\n",
       "      <th>Spa</th>\n",
       "      <th>VRDeck</th>\n",
       "      <th>Transported</th>\n",
       "      <th>AgeGroup</th>\n",
       "    </tr>\n",
       "  </thead>\n",
       "  <tbody>\n",
       "    <tr>\n",
       "      <th>0</th>\n",
       "      <td>Europa</td>\n",
       "      <td>False</td>\n",
       "      <td>B/0/P</td>\n",
       "      <td>TRAPPIST-1e</td>\n",
       "      <td>False</td>\n",
       "      <td>0.0</td>\n",
       "      <td>0.0</td>\n",
       "      <td>0.0</td>\n",
       "      <td>0.0</td>\n",
       "      <td>0.0</td>\n",
       "      <td>False</td>\n",
       "      <td>Adult</td>\n",
       "    </tr>\n",
       "    <tr>\n",
       "      <th>1</th>\n",
       "      <td>Earth</td>\n",
       "      <td>False</td>\n",
       "      <td>F/0/S</td>\n",
       "      <td>TRAPPIST-1e</td>\n",
       "      <td>False</td>\n",
       "      <td>109.0</td>\n",
       "      <td>9.0</td>\n",
       "      <td>25.0</td>\n",
       "      <td>549.0</td>\n",
       "      <td>44.0</td>\n",
       "      <td>True</td>\n",
       "      <td>Teen</td>\n",
       "    </tr>\n",
       "    <tr>\n",
       "      <th>2</th>\n",
       "      <td>Europa</td>\n",
       "      <td>False</td>\n",
       "      <td>A/0/S</td>\n",
       "      <td>TRAPPIST-1e</td>\n",
       "      <td>True</td>\n",
       "      <td>43.0</td>\n",
       "      <td>3576.0</td>\n",
       "      <td>0.0</td>\n",
       "      <td>6715.0</td>\n",
       "      <td>49.0</td>\n",
       "      <td>False</td>\n",
       "      <td>Senior</td>\n",
       "    </tr>\n",
       "    <tr>\n",
       "      <th>3</th>\n",
       "      <td>Europa</td>\n",
       "      <td>False</td>\n",
       "      <td>A/0/S</td>\n",
       "      <td>TRAPPIST-1e</td>\n",
       "      <td>False</td>\n",
       "      <td>0.0</td>\n",
       "      <td>1283.0</td>\n",
       "      <td>371.0</td>\n",
       "      <td>3329.0</td>\n",
       "      <td>193.0</td>\n",
       "      <td>False</td>\n",
       "      <td>Adult</td>\n",
       "    </tr>\n",
       "    <tr>\n",
       "      <th>4</th>\n",
       "      <td>Earth</td>\n",
       "      <td>False</td>\n",
       "      <td>F/1/S</td>\n",
       "      <td>TRAPPIST-1e</td>\n",
       "      <td>False</td>\n",
       "      <td>303.0</td>\n",
       "      <td>70.0</td>\n",
       "      <td>151.0</td>\n",
       "      <td>565.0</td>\n",
       "      <td>2.0</td>\n",
       "      <td>True</td>\n",
       "      <td>Child</td>\n",
       "    </tr>\n",
       "  </tbody>\n",
       "</table>\n",
       "</div>"
      ],
      "text/plain": [
       "  HomePlanet CryoSleep  Cabin  Destination    VIP  RoomService  FoodCourt  \\\n",
       "0     Europa     False  B/0/P  TRAPPIST-1e  False          0.0        0.0   \n",
       "1      Earth     False  F/0/S  TRAPPIST-1e  False        109.0        9.0   \n",
       "2     Europa     False  A/0/S  TRAPPIST-1e   True         43.0     3576.0   \n",
       "3     Europa     False  A/0/S  TRAPPIST-1e  False          0.0     1283.0   \n",
       "4      Earth     False  F/1/S  TRAPPIST-1e  False        303.0       70.0   \n",
       "\n",
       "   ShoppingMall     Spa  VRDeck  Transported AgeGroup  \n",
       "0           0.0     0.0     0.0        False    Adult  \n",
       "1          25.0   549.0    44.0         True     Teen  \n",
       "2           0.0  6715.0    49.0        False   Senior  \n",
       "3         371.0  3329.0   193.0        False    Adult  \n",
       "4         151.0   565.0     2.0         True    Child  "
      ]
     },
     "execution_count": 13,
     "metadata": {},
     "output_type": "execute_result"
    }
   ],
   "source": [
    "# Make the age column categorical.\n",
    "def make_age_categorical(df):\n",
    "    \n",
    "    age_bins = [-1, 18, 30, 45, 60, 100]\n",
    "    age_labels = ['Child', 'Teen', 'Adult', 'Senior', 'Old']\n",
    "    df['AgeGroup'] = pd.cut(df.loc[~df['Age'].isna(), 'Age'], bins=age_bins, labels=age_labels)\n",
    "    # drop the original age column because it is unnecessary anymore\n",
    "    df.drop('Age', axis=1, inplace=True)\n",
    "    \n",
    "    return df\n",
    "\n",
    "\n",
    "num_columns.remove('Age')\n",
    "train_df = make_age_categorical(train_df)\n",
    "train_df.head()"
   ]
  },
  {
   "cell_type": "markdown",
   "id": "5f6808be",
   "metadata": {
    "papermill": {
     "duration": 0.026786,
     "end_time": "2023-10-27T23:06:39.810587",
     "exception": false,
     "start_time": "2023-10-27T23:06:39.783801",
     "status": "completed"
    },
    "tags": []
   },
   "source": [
    "### Anomaly Detection using IQR\n",
    "\n"
   ]
  },
  {
   "cell_type": "markdown",
   "id": "a2680691",
   "metadata": {
    "papermill": {
     "duration": 0.026189,
     "end_time": "2023-10-27T23:06:39.864134",
     "exception": false,
     "start_time": "2023-10-27T23:06:39.837945",
     "status": "completed"
    },
    "tags": []
   },
   "source": [
    "When I apply anomaly detection null values are vanishing for a column. So first, I keep the null values in a different variable, then merge it after removing the anomalies. After anomalies are removed, null values can be imputed more accuractely."
   ]
  },
  {
   "cell_type": "code",
   "execution_count": 14,
   "id": "3e5a3e5d",
   "metadata": {
    "execution": {
     "iopub.execute_input": "2023-10-27T23:06:39.920005Z",
     "iopub.status.busy": "2023-10-27T23:06:39.919327Z",
     "iopub.status.idle": "2023-10-27T23:06:39.926877Z",
     "shell.execute_reply": "2023-10-27T23:06:39.926076Z"
    },
    "papermill": {
     "duration": 0.038447,
     "end_time": "2023-10-27T23:06:39.929036",
     "exception": false,
     "start_time": "2023-10-27T23:06:39.890589",
     "status": "completed"
    },
    "tags": []
   },
   "outputs": [],
   "source": [
    "def remove_anomalies(df, column_names, multiplier=1.5):\n",
    "    \n",
    "    for col in column_names:\n",
    "        \n",
    "        null_df = df[df[col].isna()]\n",
    "        \n",
    "        Q1 = df[col].quantile(0.01)\n",
    "        Q3 = df[col].quantile(0.99)\n",
    "\n",
    "        IQR = Q3 - Q1\n",
    "\n",
    "        lower_bound = Q1 - (multiplier * IQR)\n",
    "        upper_bound = Q3 + (multiplier * IQR)\n",
    "\n",
    "        df = df[(df[col] >= lower_bound) & (df[col] <= upper_bound)]\n",
    "        df = pd.concat([df, null_df])\n",
    "        \n",
    "    return df"
   ]
  },
  {
   "cell_type": "code",
   "execution_count": 15,
   "id": "20ebffed",
   "metadata": {
    "execution": {
     "iopub.execute_input": "2023-10-27T23:06:39.983971Z",
     "iopub.status.busy": "2023-10-27T23:06:39.983325Z",
     "iopub.status.idle": "2023-10-27T23:06:39.989867Z",
     "shell.execute_reply": "2023-10-27T23:06:39.988959Z"
    },
    "papermill": {
     "duration": 0.036542,
     "end_time": "2023-10-27T23:06:39.991981",
     "exception": false,
     "start_time": "2023-10-27T23:06:39.955439",
     "status": "completed"
    },
    "tags": []
   },
   "outputs": [
    {
     "data": {
      "text/plain": [
       "(8693, 12)"
      ]
     },
     "execution_count": 15,
     "metadata": {},
     "output_type": "execute_result"
    }
   ],
   "source": [
    "train_df.shape"
   ]
  },
  {
   "cell_type": "code",
   "execution_count": 16,
   "id": "ecfd43d9",
   "metadata": {
    "execution": {
     "iopub.execute_input": "2023-10-27T23:06:40.047717Z",
     "iopub.status.busy": "2023-10-27T23:06:40.047068Z",
     "iopub.status.idle": "2023-10-27T23:06:40.094119Z",
     "shell.execute_reply": "2023-10-27T23:06:40.092956Z"
    },
    "papermill": {
     "duration": 0.077645,
     "end_time": "2023-10-27T23:06:40.096495",
     "exception": false,
     "start_time": "2023-10-27T23:06:40.018850",
     "status": "completed"
    },
    "tags": []
   },
   "outputs": [
    {
     "name": "stdout",
     "output_type": "stream",
     "text": [
      "8693\n"
     ]
    },
    {
     "data": {
      "text/plain": [
       "(  HomePlanet CryoSleep  Cabin  Destination    VIP  RoomService  FoodCourt  \\\n",
       " 0     Europa     False  B/0/P  TRAPPIST-1e  False          0.0        0.0   \n",
       " 1      Earth     False  F/0/S  TRAPPIST-1e  False        109.0        9.0   \n",
       " 2     Europa     False  A/0/S  TRAPPIST-1e   True         43.0     3576.0   \n",
       " 3     Europa     False  A/0/S  TRAPPIST-1e  False          0.0     1283.0   \n",
       " 4      Earth     False  F/1/S  TRAPPIST-1e  False        303.0       70.0   \n",
       " \n",
       "    ShoppingMall     Spa  VRDeck  Transported AgeGroup  \n",
       " 0           0.0     0.0     0.0        False    Adult  \n",
       " 1          25.0   549.0    44.0         True     Teen  \n",
       " 2           0.0  6715.0    49.0        False   Senior  \n",
       " 3         371.0  3329.0   193.0        False    Adult  \n",
       " 4         151.0   565.0     2.0         True    Child  ,\n",
       " 8649)"
      ]
     },
     "execution_count": 16,
     "metadata": {},
     "output_type": "execute_result"
    }
   ],
   "source": [
    "print(len(train_df)) # check len before removing anomalies to see how many data is removed.\n",
    "train_df = remove_anomalies(train_df, num_columns)\n",
    "train_df.head(), len(train_df)"
   ]
  },
  {
   "cell_type": "markdown",
   "id": "08cea771",
   "metadata": {
    "papermill": {
     "duration": 0.026388,
     "end_time": "2023-10-27T23:06:40.149649",
     "exception": false,
     "start_time": "2023-10-27T23:06:40.123261",
     "status": "completed"
    },
    "tags": []
   },
   "source": [
    "### Standardizing numerical columns"
   ]
  },
  {
   "cell_type": "code",
   "execution_count": 17,
   "id": "7b10619a",
   "metadata": {
    "execution": {
     "iopub.execute_input": "2023-10-27T23:06:40.207413Z",
     "iopub.status.busy": "2023-10-27T23:06:40.206495Z",
     "iopub.status.idle": "2023-10-27T23:06:40.212961Z",
     "shell.execute_reply": "2023-10-27T23:06:40.211973Z"
    },
    "papermill": {
     "duration": 0.038591,
     "end_time": "2023-10-27T23:06:40.215187",
     "exception": false,
     "start_time": "2023-10-27T23:06:40.176596",
     "status": "completed"
    },
    "tags": []
   },
   "outputs": [],
   "source": [
    "def standardize_num_columns(df, columns):\n",
    "    \n",
    "    scaler = StandardScaler()\n",
    "    df[columns] = scaler.fit_transform(df[columns])\n",
    "    \n",
    "    return df"
   ]
  },
  {
   "cell_type": "code",
   "execution_count": 18,
   "id": "845645b9",
   "metadata": {
    "execution": {
     "iopub.execute_input": "2023-10-27T23:06:40.270353Z",
     "iopub.status.busy": "2023-10-27T23:06:40.269922Z",
     "iopub.status.idle": "2023-10-27T23:06:40.276787Z",
     "shell.execute_reply": "2023-10-27T23:06:40.275667Z"
    },
    "papermill": {
     "duration": 0.036999,
     "end_time": "2023-10-27T23:06:40.279126",
     "exception": false,
     "start_time": "2023-10-27T23:06:40.242127",
     "status": "completed"
    },
    "tags": []
   },
   "outputs": [
    {
     "data": {
      "text/plain": [
       "['RoomService', 'FoodCourt', 'ShoppingMall', 'Spa', 'VRDeck']"
      ]
     },
     "execution_count": 18,
     "metadata": {},
     "output_type": "execute_result"
    }
   ],
   "source": [
    "num_columns"
   ]
  },
  {
   "cell_type": "code",
   "execution_count": 19,
   "id": "c68ca0f0",
   "metadata": {
    "execution": {
     "iopub.execute_input": "2023-10-27T23:06:40.335368Z",
     "iopub.status.busy": "2023-10-27T23:06:40.334631Z",
     "iopub.status.idle": "2023-10-27T23:06:40.345618Z",
     "shell.execute_reply": "2023-10-27T23:06:40.344823Z"
    },
    "papermill": {
     "duration": 0.04179,
     "end_time": "2023-10-27T23:06:40.347840",
     "exception": false,
     "start_time": "2023-10-27T23:06:40.306050",
     "status": "completed"
    },
    "tags": []
   },
   "outputs": [],
   "source": [
    "train_df = standardize_num_columns(train_df, num_columns)"
   ]
  },
  {
   "cell_type": "code",
   "execution_count": 20,
   "id": "9ffb0302",
   "metadata": {
    "execution": {
     "iopub.execute_input": "2023-10-27T23:06:40.405065Z",
     "iopub.status.busy": "2023-10-27T23:06:40.404654Z",
     "iopub.status.idle": "2023-10-27T23:06:40.423580Z",
     "shell.execute_reply": "2023-10-27T23:06:40.422506Z"
    },
    "papermill": {
     "duration": 0.0507,
     "end_time": "2023-10-27T23:06:40.425772",
     "exception": false,
     "start_time": "2023-10-27T23:06:40.375072",
     "status": "completed"
    },
    "tags": []
   },
   "outputs": [
    {
     "data": {
      "text/html": [
       "<div>\n",
       "<style scoped>\n",
       "    .dataframe tbody tr th:only-of-type {\n",
       "        vertical-align: middle;\n",
       "    }\n",
       "\n",
       "    .dataframe tbody tr th {\n",
       "        vertical-align: top;\n",
       "    }\n",
       "\n",
       "    .dataframe thead th {\n",
       "        text-align: right;\n",
       "    }\n",
       "</style>\n",
       "<table border=\"1\" class=\"dataframe\">\n",
       "  <thead>\n",
       "    <tr style=\"text-align: right;\">\n",
       "      <th></th>\n",
       "      <th>HomePlanet</th>\n",
       "      <th>CryoSleep</th>\n",
       "      <th>Cabin</th>\n",
       "      <th>Destination</th>\n",
       "      <th>VIP</th>\n",
       "      <th>RoomService</th>\n",
       "      <th>FoodCourt</th>\n",
       "      <th>ShoppingMall</th>\n",
       "      <th>Spa</th>\n",
       "      <th>VRDeck</th>\n",
       "      <th>Transported</th>\n",
       "      <th>AgeGroup</th>\n",
       "    </tr>\n",
       "  </thead>\n",
       "  <tbody>\n",
       "    <tr>\n",
       "      <th>0</th>\n",
       "      <td>Europa</td>\n",
       "      <td>False</td>\n",
       "      <td>B/0/P</td>\n",
       "      <td>TRAPPIST-1e</td>\n",
       "      <td>False</td>\n",
       "      <td>-0.359961</td>\n",
       "      <td>-0.297860</td>\n",
       "      <td>-0.352491</td>\n",
       "      <td>-0.293324</td>\n",
       "      <td>-0.280320</td>\n",
       "      <td>False</td>\n",
       "      <td>Adult</td>\n",
       "    </tr>\n",
       "    <tr>\n",
       "      <th>1</th>\n",
       "      <td>Earth</td>\n",
       "      <td>False</td>\n",
       "      <td>F/0/S</td>\n",
       "      <td>TRAPPIST-1e</td>\n",
       "      <td>False</td>\n",
       "      <td>-0.177836</td>\n",
       "      <td>-0.291700</td>\n",
       "      <td>-0.297105</td>\n",
       "      <td>0.264363</td>\n",
       "      <td>-0.237639</td>\n",
       "      <td>True</td>\n",
       "      <td>Teen</td>\n",
       "    </tr>\n",
       "    <tr>\n",
       "      <th>2</th>\n",
       "      <td>Europa</td>\n",
       "      <td>False</td>\n",
       "      <td>A/0/S</td>\n",
       "      <td>TRAPPIST-1e</td>\n",
       "      <td>True</td>\n",
       "      <td>-0.288114</td>\n",
       "      <td>2.150043</td>\n",
       "      <td>-0.352491</td>\n",
       "      <td>6.527927</td>\n",
       "      <td>-0.232789</td>\n",
       "      <td>False</td>\n",
       "      <td>Senior</td>\n",
       "    </tr>\n",
       "    <tr>\n",
       "      <th>3</th>\n",
       "      <td>Europa</td>\n",
       "      <td>False</td>\n",
       "      <td>A/0/S</td>\n",
       "      <td>TRAPPIST-1e</td>\n",
       "      <td>False</td>\n",
       "      <td>-0.359961</td>\n",
       "      <td>0.580400</td>\n",
       "      <td>0.469440</td>\n",
       "      <td>3.088351</td>\n",
       "      <td>-0.093104</td>\n",
       "      <td>False</td>\n",
       "      <td>Adult</td>\n",
       "    </tr>\n",
       "    <tr>\n",
       "      <th>4</th>\n",
       "      <td>Earth</td>\n",
       "      <td>False</td>\n",
       "      <td>F/1/S</td>\n",
       "      <td>TRAPPIST-1e</td>\n",
       "      <td>False</td>\n",
       "      <td>0.146315</td>\n",
       "      <td>-0.249943</td>\n",
       "      <td>-0.017958</td>\n",
       "      <td>0.280616</td>\n",
       "      <td>-0.278380</td>\n",
       "      <td>True</td>\n",
       "      <td>Child</td>\n",
       "    </tr>\n",
       "  </tbody>\n",
       "</table>\n",
       "</div>"
      ],
      "text/plain": [
       "  HomePlanet CryoSleep  Cabin  Destination    VIP  RoomService  FoodCourt  \\\n",
       "0     Europa     False  B/0/P  TRAPPIST-1e  False    -0.359961  -0.297860   \n",
       "1      Earth     False  F/0/S  TRAPPIST-1e  False    -0.177836  -0.291700   \n",
       "2     Europa     False  A/0/S  TRAPPIST-1e   True    -0.288114   2.150043   \n",
       "3     Europa     False  A/0/S  TRAPPIST-1e  False    -0.359961   0.580400   \n",
       "4      Earth     False  F/1/S  TRAPPIST-1e  False     0.146315  -0.249943   \n",
       "\n",
       "   ShoppingMall       Spa    VRDeck  Transported AgeGroup  \n",
       "0     -0.352491 -0.293324 -0.280320        False    Adult  \n",
       "1     -0.297105  0.264363 -0.237639         True     Teen  \n",
       "2     -0.352491  6.527927 -0.232789        False   Senior  \n",
       "3      0.469440  3.088351 -0.093104        False    Adult  \n",
       "4     -0.017958  0.280616 -0.278380         True    Child  "
      ]
     },
     "execution_count": 20,
     "metadata": {},
     "output_type": "execute_result"
    }
   ],
   "source": [
    "train_df.head()"
   ]
  },
  {
   "cell_type": "markdown",
   "id": "bf1abb2d",
   "metadata": {
    "papermill": {
     "duration": 0.027322,
     "end_time": "2023-10-27T23:06:40.480424",
     "exception": false,
     "start_time": "2023-10-27T23:06:40.453102",
     "status": "completed"
    },
    "tags": []
   },
   "source": [
    "### Imputing null values for numeric columns"
   ]
  },
  {
   "cell_type": "code",
   "execution_count": 21,
   "id": "ae8a46e0",
   "metadata": {
    "execution": {
     "iopub.execute_input": "2023-10-27T23:06:40.537197Z",
     "iopub.status.busy": "2023-10-27T23:06:40.536746Z",
     "iopub.status.idle": "2023-10-27T23:06:40.542333Z",
     "shell.execute_reply": "2023-10-27T23:06:40.541512Z"
    },
    "papermill": {
     "duration": 0.036723,
     "end_time": "2023-10-27T23:06:40.544597",
     "exception": false,
     "start_time": "2023-10-27T23:06:40.507874",
     "status": "completed"
    },
    "tags": []
   },
   "outputs": [],
   "source": [
    "def impute_numeric_cols(df, columns):\n",
    "    \n",
    "    for column in columns:\n",
    "        col = df[column]\n",
    "        col.fillna(col.median(), inplace=True)\n",
    "\n",
    "    return df"
   ]
  },
  {
   "cell_type": "code",
   "execution_count": 22,
   "id": "9a309237",
   "metadata": {
    "execution": {
     "iopub.execute_input": "2023-10-27T23:06:40.601176Z",
     "iopub.status.busy": "2023-10-27T23:06:40.600772Z",
     "iopub.status.idle": "2023-10-27T23:06:40.609824Z",
     "shell.execute_reply": "2023-10-27T23:06:40.608737Z"
    },
    "papermill": {
     "duration": 0.04004,
     "end_time": "2023-10-27T23:06:40.612322",
     "exception": false,
     "start_time": "2023-10-27T23:06:40.572282",
     "status": "completed"
    },
    "tags": []
   },
   "outputs": [],
   "source": [
    "train_df = impute_numeric_cols(train_df, num_columns)"
   ]
  },
  {
   "cell_type": "code",
   "execution_count": 23,
   "id": "590dcdae",
   "metadata": {
    "execution": {
     "iopub.execute_input": "2023-10-27T23:06:40.671021Z",
     "iopub.status.busy": "2023-10-27T23:06:40.669939Z",
     "iopub.status.idle": "2023-10-27T23:06:40.684185Z",
     "shell.execute_reply": "2023-10-27T23:06:40.683010Z"
    },
    "papermill": {
     "duration": 0.045778,
     "end_time": "2023-10-27T23:06:40.686806",
     "exception": false,
     "start_time": "2023-10-27T23:06:40.641028",
     "status": "completed"
    },
    "tags": []
   },
   "outputs": [
    {
     "data": {
      "text/plain": [
       "HomePlanet      200\n",
       "CryoSleep       216\n",
       "Cabin           197\n",
       "Destination     181\n",
       "VIP             202\n",
       "RoomService       0\n",
       "FoodCourt         0\n",
       "ShoppingMall      0\n",
       "Spa               0\n",
       "VRDeck            0\n",
       "Transported       0\n",
       "AgeGroup        179\n",
       "dtype: int64"
      ]
     },
     "execution_count": 23,
     "metadata": {},
     "output_type": "execute_result"
    }
   ],
   "source": [
    "train_df.isna().sum()"
   ]
  },
  {
   "cell_type": "markdown",
   "id": "6583f961",
   "metadata": {
    "papermill": {
     "duration": 0.030222,
     "end_time": "2023-10-27T23:06:40.745332",
     "exception": false,
     "start_time": "2023-10-27T23:06:40.715110",
     "status": "completed"
    },
    "tags": []
   },
   "source": [
    "## Categorical Columns Preprocessing"
   ]
  },
  {
   "cell_type": "code",
   "execution_count": 24,
   "id": "66f13f6a",
   "metadata": {
    "execution": {
     "iopub.execute_input": "2023-10-27T23:06:40.801774Z",
     "iopub.status.busy": "2023-10-27T23:06:40.801360Z",
     "iopub.status.idle": "2023-10-27T23:06:40.808322Z",
     "shell.execute_reply": "2023-10-27T23:06:40.807472Z"
    },
    "papermill": {
     "duration": 0.038199,
     "end_time": "2023-10-27T23:06:40.810855",
     "exception": false,
     "start_time": "2023-10-27T23:06:40.772656",
     "status": "completed"
    },
    "tags": []
   },
   "outputs": [
    {
     "data": {
      "text/plain": [
       "['HomePlanet', 'CryoSleep', 'Cabin', 'Destination', 'VIP', 'AgeGroup']"
      ]
     },
     "execution_count": 24,
     "metadata": {},
     "output_type": "execute_result"
    }
   ],
   "source": [
    "str_columns.append('AgeGroup')\n",
    "str_columns.remove('PassengerId')\n",
    "str_columns.remove('Name')\n",
    "\n",
    "str_columns"
   ]
  },
  {
   "cell_type": "code",
   "execution_count": 25,
   "id": "30051e38",
   "metadata": {
    "execution": {
     "iopub.execute_input": "2023-10-27T23:06:40.869152Z",
     "iopub.status.busy": "2023-10-27T23:06:40.868761Z",
     "iopub.status.idle": "2023-10-27T23:06:40.886831Z",
     "shell.execute_reply": "2023-10-27T23:06:40.885747Z"
    },
    "papermill": {
     "duration": 0.05004,
     "end_time": "2023-10-27T23:06:40.889280",
     "exception": false,
     "start_time": "2023-10-27T23:06:40.839240",
     "status": "completed"
    },
    "tags": []
   },
   "outputs": [
    {
     "data": {
      "text/plain": [
       "HomePlanet        3\n",
       "CryoSleep         2\n",
       "Cabin          6540\n",
       "Destination       3\n",
       "VIP               2\n",
       "AgeGroup          5\n",
       "dtype: int64"
      ]
     },
     "execution_count": 25,
     "metadata": {},
     "output_type": "execute_result"
    }
   ],
   "source": [
    "train_df[str_columns].nunique()"
   ]
  },
  {
   "cell_type": "markdown",
   "id": "12879301",
   "metadata": {
    "papermill": {
     "duration": 0.027827,
     "end_time": "2023-10-27T23:06:40.945415",
     "exception": false,
     "start_time": "2023-10-27T23:06:40.917588",
     "status": "completed"
    },
    "tags": []
   },
   "source": [
    "### VIP and CyroSleep columns are mapped to 0 and 1"
   ]
  },
  {
   "cell_type": "code",
   "execution_count": 26,
   "id": "7c48f8c9",
   "metadata": {
    "execution": {
     "iopub.execute_input": "2023-10-27T23:06:41.002823Z",
     "iopub.status.busy": "2023-10-27T23:06:41.002399Z",
     "iopub.status.idle": "2023-10-27T23:06:41.008649Z",
     "shell.execute_reply": "2023-10-27T23:06:41.007465Z"
    },
    "papermill": {
     "duration": 0.037728,
     "end_time": "2023-10-27T23:06:41.011034",
     "exception": false,
     "start_time": "2023-10-27T23:06:40.973306",
     "status": "completed"
    },
    "tags": []
   },
   "outputs": [],
   "source": [
    "# VIP and CyroSleep columns are true or false values. So we can convert them as 0 and 1 using mapping easily.\n",
    "\n",
    "def map_vip_and_cryosleep(df):\n",
    "    \n",
    "    mapping = {False: 0., True:1.}\n",
    "    df['VIP'] = df['VIP'].map(mapping)\n",
    "    df['CryoSleep'] = df['CryoSleep'].map(mapping)\n",
    "    \n",
    "    return df"
   ]
  },
  {
   "cell_type": "code",
   "execution_count": 27,
   "id": "9058e10d",
   "metadata": {
    "execution": {
     "iopub.execute_input": "2023-10-27T23:06:41.068998Z",
     "iopub.status.busy": "2023-10-27T23:06:41.068563Z",
     "iopub.status.idle": "2023-10-27T23:06:41.077745Z",
     "shell.execute_reply": "2023-10-27T23:06:41.076552Z"
    },
    "papermill": {
     "duration": 0.040764,
     "end_time": "2023-10-27T23:06:41.079997",
     "exception": false,
     "start_time": "2023-10-27T23:06:41.039233",
     "status": "completed"
    },
    "tags": []
   },
   "outputs": [],
   "source": [
    "train_df = map_vip_and_cryosleep(train_df)"
   ]
  },
  {
   "cell_type": "code",
   "execution_count": 28,
   "id": "a2662689",
   "metadata": {
    "execution": {
     "iopub.execute_input": "2023-10-27T23:06:41.137548Z",
     "iopub.status.busy": "2023-10-27T23:06:41.137148Z",
     "iopub.status.idle": "2023-10-27T23:06:41.147033Z",
     "shell.execute_reply": "2023-10-27T23:06:41.145969Z"
    },
    "papermill": {
     "duration": 0.041936,
     "end_time": "2023-10-27T23:06:41.150026",
     "exception": false,
     "start_time": "2023-10-27T23:06:41.108090",
     "status": "completed"
    },
    "tags": []
   },
   "outputs": [
    {
     "name": "stdout",
     "output_type": "stream",
     "text": [
      "VIP\n",
      "0.0    8253\n",
      "1.0     194\n",
      "Name: count, dtype: int64\n",
      "CryoSleep\n",
      "0.0    5396\n",
      "1.0    3037\n",
      "Name: count, dtype: int64\n"
     ]
    }
   ],
   "source": [
    "print(train_df['VIP'].value_counts())\n",
    "print(train_df['CryoSleep'].value_counts())"
   ]
  },
  {
   "cell_type": "markdown",
   "id": "92238f84",
   "metadata": {
    "papermill": {
     "duration": 0.028312,
     "end_time": "2023-10-27T23:06:41.206941",
     "exception": false,
     "start_time": "2023-10-27T23:06:41.178629",
     "status": "completed"
    },
    "tags": []
   },
   "source": [
    "### Cabin Column"
   ]
  },
  {
   "cell_type": "code",
   "execution_count": 29,
   "id": "cd5b146a",
   "metadata": {
    "execution": {
     "iopub.execute_input": "2023-10-27T23:06:41.265009Z",
     "iopub.status.busy": "2023-10-27T23:06:41.264596Z",
     "iopub.status.idle": "2023-10-27T23:06:41.270944Z",
     "shell.execute_reply": "2023-10-27T23:06:41.269784Z"
    },
    "papermill": {
     "duration": 0.03785,
     "end_time": "2023-10-27T23:06:41.273215",
     "exception": false,
     "start_time": "2023-10-27T23:06:41.235365",
     "status": "completed"
    },
    "tags": []
   },
   "outputs": [],
   "source": [
    "# cabin column is splitted 3 by `/` as deck, num and side as indicated in Data part of the Competition\n",
    "\n",
    "def split_cabin(df):\n",
    "    \n",
    "    df[['deck','num', 'side']] = df['Cabin'].str.split('/',expand=True)\n",
    "    df['num'] = df['num'].astype(float)\n",
    "    df.drop('Cabin', axis=1, inplace=True)\n",
    "    return df"
   ]
  },
  {
   "cell_type": "code",
   "execution_count": 30,
   "id": "dba8b47c",
   "metadata": {
    "execution": {
     "iopub.execute_input": "2023-10-27T23:06:41.331081Z",
     "iopub.status.busy": "2023-10-27T23:06:41.330394Z",
     "iopub.status.idle": "2023-10-27T23:06:41.362801Z",
     "shell.execute_reply": "2023-10-27T23:06:41.361579Z"
    },
    "papermill": {
     "duration": 0.064571,
     "end_time": "2023-10-27T23:06:41.365692",
     "exception": false,
     "start_time": "2023-10-27T23:06:41.301121",
     "status": "completed"
    },
    "tags": []
   },
   "outputs": [],
   "source": [
    "train_df = split_cabin(train_df)"
   ]
  },
  {
   "cell_type": "code",
   "execution_count": 31,
   "id": "d2b51521",
   "metadata": {
    "execution": {
     "iopub.execute_input": "2023-10-27T23:06:41.425075Z",
     "iopub.status.busy": "2023-10-27T23:06:41.424629Z",
     "iopub.status.idle": "2023-10-27T23:06:41.437380Z",
     "shell.execute_reply": "2023-10-27T23:06:41.436207Z"
    },
    "papermill": {
     "duration": 0.045845,
     "end_time": "2023-10-27T23:06:41.439593",
     "exception": false,
     "start_time": "2023-10-27T23:06:41.393748",
     "status": "completed"
    },
    "tags": []
   },
   "outputs": [
    {
     "data": {
      "text/plain": [
       "deck       8\n",
       "num     1816\n",
       "side       2\n",
       "dtype: int64"
      ]
     },
     "execution_count": 31,
     "metadata": {},
     "output_type": "execute_result"
    }
   ],
   "source": [
    "train_df[['deck', 'num', 'side']].nunique() # checking unique values for deck, num  and side"
   ]
  },
  {
   "cell_type": "markdown",
   "id": "05942932",
   "metadata": {
    "papermill": {
     "duration": 0.028122,
     "end_time": "2023-10-27T23:06:41.495627",
     "exception": false,
     "start_time": "2023-10-27T23:06:41.467505",
     "status": "completed"
    },
    "tags": []
   },
   "source": [
    "### One-Hot Encoding"
   ]
  },
  {
   "cell_type": "code",
   "execution_count": 32,
   "id": "865406b0",
   "metadata": {
    "execution": {
     "iopub.execute_input": "2023-10-27T23:06:41.553524Z",
     "iopub.status.busy": "2023-10-27T23:06:41.552830Z",
     "iopub.status.idle": "2023-10-27T23:06:41.559215Z",
     "shell.execute_reply": "2023-10-27T23:06:41.558320Z"
    },
    "papermill": {
     "duration": 0.037951,
     "end_time": "2023-10-27T23:06:41.561533",
     "exception": false,
     "start_time": "2023-10-27T23:06:41.523582",
     "status": "completed"
    },
    "tags": []
   },
   "outputs": [],
   "source": [
    "def one_hot_encode_columns(df, columns):\n",
    "    \n",
    "    for column in columns:\n",
    "        \n",
    "        df_encoded = pd.get_dummies(df[column], prefix=column)\n",
    "        df.drop(columns=[column], inplace=True)\n",
    "        df = pd.concat([df, df_encoded], axis=1)\n",
    "\n",
    "    return df"
   ]
  },
  {
   "cell_type": "code",
   "execution_count": 33,
   "id": "2676f9fc",
   "metadata": {
    "execution": {
     "iopub.execute_input": "2023-10-27T23:06:41.620536Z",
     "iopub.status.busy": "2023-10-27T23:06:41.619493Z",
     "iopub.status.idle": "2023-10-27T23:06:41.667383Z",
     "shell.execute_reply": "2023-10-27T23:06:41.666200Z"
    },
    "papermill": {
     "duration": 0.079638,
     "end_time": "2023-10-27T23:06:41.669806",
     "exception": false,
     "start_time": "2023-10-27T23:06:41.590168",
     "status": "completed"
    },
    "tags": []
   },
   "outputs": [
    {
     "data": {
      "text/html": [
       "<div>\n",
       "<style scoped>\n",
       "    .dataframe tbody tr th:only-of-type {\n",
       "        vertical-align: middle;\n",
       "    }\n",
       "\n",
       "    .dataframe tbody tr th {\n",
       "        vertical-align: top;\n",
       "    }\n",
       "\n",
       "    .dataframe thead th {\n",
       "        text-align: right;\n",
       "    }\n",
       "</style>\n",
       "<table border=\"1\" class=\"dataframe\">\n",
       "  <thead>\n",
       "    <tr style=\"text-align: right;\">\n",
       "      <th></th>\n",
       "      <th>CryoSleep</th>\n",
       "      <th>VIP</th>\n",
       "      <th>RoomService</th>\n",
       "      <th>FoodCourt</th>\n",
       "      <th>ShoppingMall</th>\n",
       "      <th>Spa</th>\n",
       "      <th>VRDeck</th>\n",
       "      <th>Transported</th>\n",
       "      <th>num</th>\n",
       "      <th>side</th>\n",
       "      <th>...</th>\n",
       "      <th>AgeGroup_Senior</th>\n",
       "      <th>AgeGroup_Old</th>\n",
       "      <th>deck_A</th>\n",
       "      <th>deck_B</th>\n",
       "      <th>deck_C</th>\n",
       "      <th>deck_D</th>\n",
       "      <th>deck_E</th>\n",
       "      <th>deck_F</th>\n",
       "      <th>deck_G</th>\n",
       "      <th>deck_T</th>\n",
       "    </tr>\n",
       "  </thead>\n",
       "  <tbody>\n",
       "    <tr>\n",
       "      <th>0</th>\n",
       "      <td>0.0</td>\n",
       "      <td>0.0</td>\n",
       "      <td>-0.359961</td>\n",
       "      <td>-0.297860</td>\n",
       "      <td>-0.352491</td>\n",
       "      <td>-0.293324</td>\n",
       "      <td>-0.280320</td>\n",
       "      <td>False</td>\n",
       "      <td>0.0</td>\n",
       "      <td>P</td>\n",
       "      <td>...</td>\n",
       "      <td>False</td>\n",
       "      <td>False</td>\n",
       "      <td>False</td>\n",
       "      <td>True</td>\n",
       "      <td>False</td>\n",
       "      <td>False</td>\n",
       "      <td>False</td>\n",
       "      <td>False</td>\n",
       "      <td>False</td>\n",
       "      <td>False</td>\n",
       "    </tr>\n",
       "    <tr>\n",
       "      <th>1</th>\n",
       "      <td>0.0</td>\n",
       "      <td>0.0</td>\n",
       "      <td>-0.177836</td>\n",
       "      <td>-0.291700</td>\n",
       "      <td>-0.297105</td>\n",
       "      <td>0.264363</td>\n",
       "      <td>-0.237639</td>\n",
       "      <td>True</td>\n",
       "      <td>0.0</td>\n",
       "      <td>S</td>\n",
       "      <td>...</td>\n",
       "      <td>False</td>\n",
       "      <td>False</td>\n",
       "      <td>False</td>\n",
       "      <td>False</td>\n",
       "      <td>False</td>\n",
       "      <td>False</td>\n",
       "      <td>False</td>\n",
       "      <td>True</td>\n",
       "      <td>False</td>\n",
       "      <td>False</td>\n",
       "    </tr>\n",
       "    <tr>\n",
       "      <th>2</th>\n",
       "      <td>0.0</td>\n",
       "      <td>1.0</td>\n",
       "      <td>-0.288114</td>\n",
       "      <td>2.150043</td>\n",
       "      <td>-0.352491</td>\n",
       "      <td>6.527927</td>\n",
       "      <td>-0.232789</td>\n",
       "      <td>False</td>\n",
       "      <td>0.0</td>\n",
       "      <td>S</td>\n",
       "      <td>...</td>\n",
       "      <td>True</td>\n",
       "      <td>False</td>\n",
       "      <td>True</td>\n",
       "      <td>False</td>\n",
       "      <td>False</td>\n",
       "      <td>False</td>\n",
       "      <td>False</td>\n",
       "      <td>False</td>\n",
       "      <td>False</td>\n",
       "      <td>False</td>\n",
       "    </tr>\n",
       "    <tr>\n",
       "      <th>3</th>\n",
       "      <td>0.0</td>\n",
       "      <td>0.0</td>\n",
       "      <td>-0.359961</td>\n",
       "      <td>0.580400</td>\n",
       "      <td>0.469440</td>\n",
       "      <td>3.088351</td>\n",
       "      <td>-0.093104</td>\n",
       "      <td>False</td>\n",
       "      <td>0.0</td>\n",
       "      <td>S</td>\n",
       "      <td>...</td>\n",
       "      <td>False</td>\n",
       "      <td>False</td>\n",
       "      <td>True</td>\n",
       "      <td>False</td>\n",
       "      <td>False</td>\n",
       "      <td>False</td>\n",
       "      <td>False</td>\n",
       "      <td>False</td>\n",
       "      <td>False</td>\n",
       "      <td>False</td>\n",
       "    </tr>\n",
       "    <tr>\n",
       "      <th>4</th>\n",
       "      <td>0.0</td>\n",
       "      <td>0.0</td>\n",
       "      <td>0.146315</td>\n",
       "      <td>-0.249943</td>\n",
       "      <td>-0.017958</td>\n",
       "      <td>0.280616</td>\n",
       "      <td>-0.278380</td>\n",
       "      <td>True</td>\n",
       "      <td>1.0</td>\n",
       "      <td>S</td>\n",
       "      <td>...</td>\n",
       "      <td>False</td>\n",
       "      <td>False</td>\n",
       "      <td>False</td>\n",
       "      <td>False</td>\n",
       "      <td>False</td>\n",
       "      <td>False</td>\n",
       "      <td>False</td>\n",
       "      <td>True</td>\n",
       "      <td>False</td>\n",
       "      <td>False</td>\n",
       "    </tr>\n",
       "  </tbody>\n",
       "</table>\n",
       "<p>5 rows × 29 columns</p>\n",
       "</div>"
      ],
      "text/plain": [
       "   CryoSleep  VIP  RoomService  FoodCourt  ShoppingMall       Spa    VRDeck  \\\n",
       "0        0.0  0.0    -0.359961  -0.297860     -0.352491 -0.293324 -0.280320   \n",
       "1        0.0  0.0    -0.177836  -0.291700     -0.297105  0.264363 -0.237639   \n",
       "2        0.0  1.0    -0.288114   2.150043     -0.352491  6.527927 -0.232789   \n",
       "3        0.0  0.0    -0.359961   0.580400      0.469440  3.088351 -0.093104   \n",
       "4        0.0  0.0     0.146315  -0.249943     -0.017958  0.280616 -0.278380   \n",
       "\n",
       "   Transported  num side  ...  AgeGroup_Senior  AgeGroup_Old  deck_A  deck_B  \\\n",
       "0        False  0.0    P  ...            False         False   False    True   \n",
       "1         True  0.0    S  ...            False         False   False   False   \n",
       "2        False  0.0    S  ...             True         False    True   False   \n",
       "3        False  0.0    S  ...            False         False    True   False   \n",
       "4         True  1.0    S  ...            False         False   False   False   \n",
       "\n",
       "   deck_C  deck_D  deck_E  deck_F  deck_G  deck_T  \n",
       "0   False   False   False   False   False   False  \n",
       "1   False   False   False    True   False   False  \n",
       "2   False   False   False   False   False   False  \n",
       "3   False   False   False   False   False   False  \n",
       "4   False   False   False    True   False   False  \n",
       "\n",
       "[5 rows x 29 columns]"
      ]
     },
     "execution_count": 33,
     "metadata": {},
     "output_type": "execute_result"
    }
   ],
   "source": [
    "train_df = one_hot_encode_columns(train_df, ['HomePlanet', 'Destination', 'AgeGroup', 'deck'])\n",
    "train_df.head()"
   ]
  },
  {
   "cell_type": "markdown",
   "id": "5bb33a88",
   "metadata": {
    "papermill": {
     "duration": 0.028592,
     "end_time": "2023-10-27T23:06:41.726978",
     "exception": false,
     "start_time": "2023-10-27T23:06:41.698386",
     "status": "completed"
    },
    "tags": []
   },
   "source": [
    "### Encoding `deck`, `num` and `side`"
   ]
  },
  {
   "cell_type": "code",
   "execution_count": 34,
   "id": "11ecf082",
   "metadata": {
    "execution": {
     "iopub.execute_input": "2023-10-27T23:06:41.786050Z",
     "iopub.status.busy": "2023-10-27T23:06:41.785368Z",
     "iopub.status.idle": "2023-10-27T23:06:41.790931Z",
     "shell.execute_reply": "2023-10-27T23:06:41.790106Z"
    },
    "papermill": {
     "duration": 0.0377,
     "end_time": "2023-10-27T23:06:41.793144",
     "exception": false,
     "start_time": "2023-10-27T23:06:41.755444",
     "status": "completed"
    },
    "tags": []
   },
   "outputs": [],
   "source": [
    "def map_side_column(df):\n",
    "    \n",
    "    side_mapping = {'P':0., 'S':1.}\n",
    "    df['side'] = df['side'].map(side_mapping)    \n",
    "    return df"
   ]
  },
  {
   "cell_type": "code",
   "execution_count": 35,
   "id": "699ece53",
   "metadata": {
    "execution": {
     "iopub.execute_input": "2023-10-27T23:06:41.852034Z",
     "iopub.status.busy": "2023-10-27T23:06:41.851583Z",
     "iopub.status.idle": "2023-10-27T23:06:41.858738Z",
     "shell.execute_reply": "2023-10-27T23:06:41.857584Z"
    },
    "papermill": {
     "duration": 0.039377,
     "end_time": "2023-10-27T23:06:41.861082",
     "exception": false,
     "start_time": "2023-10-27T23:06:41.821705",
     "status": "completed"
    },
    "tags": []
   },
   "outputs": [],
   "source": [
    "train_df = map_side_column(train_df)"
   ]
  },
  {
   "cell_type": "markdown",
   "id": "67bec55b",
   "metadata": {
    "papermill": {
     "duration": 0.028767,
     "end_time": "2023-10-27T23:06:41.918342",
     "exception": false,
     "start_time": "2023-10-27T23:06:41.889575",
     "status": "completed"
    },
    "tags": []
   },
   "source": [
    "Num variable goes from 0 to 1800. It determines the passenger's region of the ship in a roughly and in my opinion.\n",
    "So I decide to group the column."
   ]
  },
  {
   "cell_type": "code",
   "execution_count": 36,
   "id": "32fb795d",
   "metadata": {
    "execution": {
     "iopub.execute_input": "2023-10-27T23:06:41.977970Z",
     "iopub.status.busy": "2023-10-27T23:06:41.977249Z",
     "iopub.status.idle": "2023-10-27T23:06:41.983556Z",
     "shell.execute_reply": "2023-10-27T23:06:41.982742Z"
    },
    "papermill": {
     "duration": 0.039417,
     "end_time": "2023-10-27T23:06:41.985848",
     "exception": false,
     "start_time": "2023-10-27T23:06:41.946431",
     "status": "completed"
    },
    "tags": []
   },
   "outputs": [],
   "source": [
    "def categorize_num_column(df):\n",
    "\n",
    "    bins = [0, 600, 1200, 1801]\n",
    "    labels = [0, 1, 2]\n",
    "\n",
    "    df['num_label'] = pd.cut(df['num'], bins=bins, labels=labels, include_lowest=True)\n",
    "    df.drop('num', axis=1, inplace=True)\n",
    "    \n",
    "    return df"
   ]
  },
  {
   "cell_type": "code",
   "execution_count": 37,
   "id": "23aa97ac",
   "metadata": {
    "execution": {
     "iopub.execute_input": "2023-10-27T23:06:42.044639Z",
     "iopub.status.busy": "2023-10-27T23:06:42.044246Z",
     "iopub.status.idle": "2023-10-27T23:06:42.053449Z",
     "shell.execute_reply": "2023-10-27T23:06:42.052389Z"
    },
    "papermill": {
     "duration": 0.041728,
     "end_time": "2023-10-27T23:06:42.055887",
     "exception": false,
     "start_time": "2023-10-27T23:06:42.014159",
     "status": "completed"
    },
    "tags": []
   },
   "outputs": [],
   "source": [
    "train_df = categorize_num_column(train_df)"
   ]
  },
  {
   "cell_type": "code",
   "execution_count": 38,
   "id": "092e5848",
   "metadata": {
    "execution": {
     "iopub.execute_input": "2023-10-27T23:06:42.114009Z",
     "iopub.status.busy": "2023-10-27T23:06:42.113586Z",
     "iopub.status.idle": "2023-10-27T23:06:42.167484Z",
     "shell.execute_reply": "2023-10-27T23:06:42.165982Z"
    },
    "papermill": {
     "duration": 0.086032,
     "end_time": "2023-10-27T23:06:42.170245",
     "exception": false,
     "start_time": "2023-10-27T23:06:42.084213",
     "status": "completed"
    },
    "tags": []
   },
   "outputs": [],
   "source": [
    "train_df.replace({True:1., False:0.}, inplace=True)"
   ]
  },
  {
   "cell_type": "code",
   "execution_count": 39,
   "id": "13097cbb",
   "metadata": {
    "execution": {
     "iopub.execute_input": "2023-10-27T23:06:42.229925Z",
     "iopub.status.busy": "2023-10-27T23:06:42.229523Z",
     "iopub.status.idle": "2023-10-27T23:06:42.237957Z",
     "shell.execute_reply": "2023-10-27T23:06:42.236953Z"
    },
    "papermill": {
     "duration": 0.041637,
     "end_time": "2023-10-27T23:06:42.240307",
     "exception": false,
     "start_time": "2023-10-27T23:06:42.198670",
     "status": "completed"
    },
    "tags": []
   },
   "outputs": [
    {
     "data": {
      "text/plain": [
       "CryoSleep                     float64\n",
       "VIP                           float64\n",
       "RoomService                   float64\n",
       "FoodCourt                     float64\n",
       "ShoppingMall                  float64\n",
       "Spa                           float64\n",
       "VRDeck                        float64\n",
       "Transported                   float64\n",
       "side                          float64\n",
       "HomePlanet_Earth              float64\n",
       "HomePlanet_Europa             float64\n",
       "HomePlanet_Mars               float64\n",
       "Destination_55 Cancri e       float64\n",
       "Destination_PSO J318.5-22     float64\n",
       "Destination_TRAPPIST-1e       float64\n",
       "AgeGroup_Child                float64\n",
       "AgeGroup_Teen                 float64\n",
       "AgeGroup_Adult                float64\n",
       "AgeGroup_Senior               float64\n",
       "AgeGroup_Old                  float64\n",
       "deck_A                        float64\n",
       "deck_B                        float64\n",
       "deck_C                        float64\n",
       "deck_D                        float64\n",
       "deck_E                        float64\n",
       "deck_F                        float64\n",
       "deck_G                        float64\n",
       "deck_T                        float64\n",
       "num_label                    category\n",
       "dtype: object"
      ]
     },
     "execution_count": 39,
     "metadata": {},
     "output_type": "execute_result"
    }
   ],
   "source": [
    "train_df.dtypes"
   ]
  },
  {
   "cell_type": "code",
   "execution_count": 40,
   "id": "76692b2d",
   "metadata": {
    "execution": {
     "iopub.execute_input": "2023-10-27T23:06:42.300122Z",
     "iopub.status.busy": "2023-10-27T23:06:42.298955Z",
     "iopub.status.idle": "2023-10-27T23:06:42.331983Z",
     "shell.execute_reply": "2023-10-27T23:06:42.330892Z"
    },
    "papermill": {
     "duration": 0.065786,
     "end_time": "2023-10-27T23:06:42.334706",
     "exception": false,
     "start_time": "2023-10-27T23:06:42.268920",
     "status": "completed"
    },
    "tags": []
   },
   "outputs": [
    {
     "data": {
      "text/html": [
       "<div>\n",
       "<style scoped>\n",
       "    .dataframe tbody tr th:only-of-type {\n",
       "        vertical-align: middle;\n",
       "    }\n",
       "\n",
       "    .dataframe tbody tr th {\n",
       "        vertical-align: top;\n",
       "    }\n",
       "\n",
       "    .dataframe thead th {\n",
       "        text-align: right;\n",
       "    }\n",
       "</style>\n",
       "<table border=\"1\" class=\"dataframe\">\n",
       "  <thead>\n",
       "    <tr style=\"text-align: right;\">\n",
       "      <th></th>\n",
       "      <th>CryoSleep</th>\n",
       "      <th>VIP</th>\n",
       "      <th>RoomService</th>\n",
       "      <th>FoodCourt</th>\n",
       "      <th>ShoppingMall</th>\n",
       "      <th>Spa</th>\n",
       "      <th>VRDeck</th>\n",
       "      <th>Transported</th>\n",
       "      <th>side</th>\n",
       "      <th>HomePlanet_Earth</th>\n",
       "      <th>...</th>\n",
       "      <th>AgeGroup_Old</th>\n",
       "      <th>deck_A</th>\n",
       "      <th>deck_B</th>\n",
       "      <th>deck_C</th>\n",
       "      <th>deck_D</th>\n",
       "      <th>deck_E</th>\n",
       "      <th>deck_F</th>\n",
       "      <th>deck_G</th>\n",
       "      <th>deck_T</th>\n",
       "      <th>num_label</th>\n",
       "    </tr>\n",
       "  </thead>\n",
       "  <tbody>\n",
       "    <tr>\n",
       "      <th>0</th>\n",
       "      <td>0.0</td>\n",
       "      <td>0.0</td>\n",
       "      <td>-0.359961</td>\n",
       "      <td>-0.297860</td>\n",
       "      <td>-0.352491</td>\n",
       "      <td>-0.293324</td>\n",
       "      <td>-0.280320</td>\n",
       "      <td>0</td>\n",
       "      <td>0.0</td>\n",
       "      <td>0.0</td>\n",
       "      <td>...</td>\n",
       "      <td>0.0</td>\n",
       "      <td>0.0</td>\n",
       "      <td>1.0</td>\n",
       "      <td>0.0</td>\n",
       "      <td>0.0</td>\n",
       "      <td>0.0</td>\n",
       "      <td>0.0</td>\n",
       "      <td>0.0</td>\n",
       "      <td>0.0</td>\n",
       "      <td>0</td>\n",
       "    </tr>\n",
       "    <tr>\n",
       "      <th>1</th>\n",
       "      <td>0.0</td>\n",
       "      <td>0.0</td>\n",
       "      <td>-0.177836</td>\n",
       "      <td>-0.291700</td>\n",
       "      <td>-0.297105</td>\n",
       "      <td>0.264363</td>\n",
       "      <td>-0.237639</td>\n",
       "      <td>1</td>\n",
       "      <td>1.0</td>\n",
       "      <td>1.0</td>\n",
       "      <td>...</td>\n",
       "      <td>0.0</td>\n",
       "      <td>0.0</td>\n",
       "      <td>0.0</td>\n",
       "      <td>0.0</td>\n",
       "      <td>0.0</td>\n",
       "      <td>0.0</td>\n",
       "      <td>1.0</td>\n",
       "      <td>0.0</td>\n",
       "      <td>0.0</td>\n",
       "      <td>0</td>\n",
       "    </tr>\n",
       "    <tr>\n",
       "      <th>2</th>\n",
       "      <td>0.0</td>\n",
       "      <td>1.0</td>\n",
       "      <td>-0.288114</td>\n",
       "      <td>2.150043</td>\n",
       "      <td>-0.352491</td>\n",
       "      <td>6.527927</td>\n",
       "      <td>-0.232789</td>\n",
       "      <td>0</td>\n",
       "      <td>1.0</td>\n",
       "      <td>0.0</td>\n",
       "      <td>...</td>\n",
       "      <td>0.0</td>\n",
       "      <td>1.0</td>\n",
       "      <td>0.0</td>\n",
       "      <td>0.0</td>\n",
       "      <td>0.0</td>\n",
       "      <td>0.0</td>\n",
       "      <td>0.0</td>\n",
       "      <td>0.0</td>\n",
       "      <td>0.0</td>\n",
       "      <td>0</td>\n",
       "    </tr>\n",
       "    <tr>\n",
       "      <th>3</th>\n",
       "      <td>0.0</td>\n",
       "      <td>0.0</td>\n",
       "      <td>-0.359961</td>\n",
       "      <td>0.580400</td>\n",
       "      <td>0.469440</td>\n",
       "      <td>3.088351</td>\n",
       "      <td>-0.093104</td>\n",
       "      <td>0</td>\n",
       "      <td>1.0</td>\n",
       "      <td>0.0</td>\n",
       "      <td>...</td>\n",
       "      <td>0.0</td>\n",
       "      <td>1.0</td>\n",
       "      <td>0.0</td>\n",
       "      <td>0.0</td>\n",
       "      <td>0.0</td>\n",
       "      <td>0.0</td>\n",
       "      <td>0.0</td>\n",
       "      <td>0.0</td>\n",
       "      <td>0.0</td>\n",
       "      <td>0</td>\n",
       "    </tr>\n",
       "    <tr>\n",
       "      <th>4</th>\n",
       "      <td>0.0</td>\n",
       "      <td>0.0</td>\n",
       "      <td>0.146315</td>\n",
       "      <td>-0.249943</td>\n",
       "      <td>-0.017958</td>\n",
       "      <td>0.280616</td>\n",
       "      <td>-0.278380</td>\n",
       "      <td>1</td>\n",
       "      <td>1.0</td>\n",
       "      <td>1.0</td>\n",
       "      <td>...</td>\n",
       "      <td>0.0</td>\n",
       "      <td>0.0</td>\n",
       "      <td>0.0</td>\n",
       "      <td>0.0</td>\n",
       "      <td>0.0</td>\n",
       "      <td>0.0</td>\n",
       "      <td>1.0</td>\n",
       "      <td>0.0</td>\n",
       "      <td>0.0</td>\n",
       "      <td>0</td>\n",
       "    </tr>\n",
       "  </tbody>\n",
       "</table>\n",
       "<p>5 rows × 29 columns</p>\n",
       "</div>"
      ],
      "text/plain": [
       "   CryoSleep  VIP  RoomService  FoodCourt  ShoppingMall       Spa    VRDeck  \\\n",
       "0        0.0  0.0    -0.359961  -0.297860     -0.352491 -0.293324 -0.280320   \n",
       "1        0.0  0.0    -0.177836  -0.291700     -0.297105  0.264363 -0.237639   \n",
       "2        0.0  1.0    -0.288114   2.150043     -0.352491  6.527927 -0.232789   \n",
       "3        0.0  0.0    -0.359961   0.580400      0.469440  3.088351 -0.093104   \n",
       "4        0.0  0.0     0.146315  -0.249943     -0.017958  0.280616 -0.278380   \n",
       "\n",
       "   Transported  side  HomePlanet_Earth  ...  AgeGroup_Old  deck_A  deck_B  \\\n",
       "0            0   0.0               0.0  ...           0.0     0.0     1.0   \n",
       "1            1   1.0               1.0  ...           0.0     0.0     0.0   \n",
       "2            0   1.0               0.0  ...           0.0     1.0     0.0   \n",
       "3            0   1.0               0.0  ...           0.0     1.0     0.0   \n",
       "4            1   1.0               1.0  ...           0.0     0.0     0.0   \n",
       "\n",
       "   deck_C  deck_D  deck_E  deck_F  deck_G  deck_T  num_label  \n",
       "0     0.0     0.0     0.0     0.0     0.0     0.0          0  \n",
       "1     0.0     0.0     0.0     1.0     0.0     0.0          0  \n",
       "2     0.0     0.0     0.0     0.0     0.0     0.0          0  \n",
       "3     0.0     0.0     0.0     0.0     0.0     0.0          0  \n",
       "4     0.0     0.0     0.0     1.0     0.0     0.0          0  \n",
       "\n",
       "[5 rows x 29 columns]"
      ]
     },
     "execution_count": 40,
     "metadata": {},
     "output_type": "execute_result"
    }
   ],
   "source": [
    "train_df['Transported'] = train_df['Transported'].astype(int)\n",
    "train_df.head()"
   ]
  },
  {
   "cell_type": "code",
   "execution_count": 41,
   "id": "52e529f5",
   "metadata": {
    "execution": {
     "iopub.execute_input": "2023-10-27T23:06:42.395381Z",
     "iopub.status.busy": "2023-10-27T23:06:42.395005Z",
     "iopub.status.idle": "2023-10-27T23:06:42.404940Z",
     "shell.execute_reply": "2023-10-27T23:06:42.403795Z"
    },
    "papermill": {
     "duration": 0.042779,
     "end_time": "2023-10-27T23:06:42.407340",
     "exception": false,
     "start_time": "2023-10-27T23:06:42.364561",
     "status": "completed"
    },
    "tags": []
   },
   "outputs": [
    {
     "data": {
      "text/plain": [
       "CryoSleep\n",
       "0.0    5396\n",
       "1.0    3037\n",
       "Name: count, dtype: int64"
      ]
     },
     "execution_count": 41,
     "metadata": {},
     "output_type": "execute_result"
    }
   ],
   "source": [
    "train_df['CryoSleep'].value_counts()"
   ]
  },
  {
   "cell_type": "markdown",
   "id": "dec30de6",
   "metadata": {
    "papermill": {
     "duration": 0.028625,
     "end_time": "2023-10-27T23:06:42.466333",
     "exception": false,
     "start_time": "2023-10-27T23:06:42.437708",
     "status": "completed"
    },
    "tags": []
   },
   "source": [
    "### VIP\n",
    "Most of the passengers are not VIP likely. So filling with 0s seems okey to me."
   ]
  },
  {
   "cell_type": "code",
   "execution_count": 42,
   "id": "2a1e9f8f",
   "metadata": {
    "execution": {
     "iopub.execute_input": "2023-10-27T23:06:42.526822Z",
     "iopub.status.busy": "2023-10-27T23:06:42.526430Z",
     "iopub.status.idle": "2023-10-27T23:06:42.532440Z",
     "shell.execute_reply": "2023-10-27T23:06:42.531147Z"
    },
    "papermill": {
     "duration": 0.039259,
     "end_time": "2023-10-27T23:06:42.534751",
     "exception": false,
     "start_time": "2023-10-27T23:06:42.495492",
     "status": "completed"
    },
    "tags": []
   },
   "outputs": [],
   "source": [
    "train_df['VIP'].fillna(0, inplace=True)"
   ]
  },
  {
   "cell_type": "markdown",
   "id": "09df19eb",
   "metadata": {
    "papermill": {
     "duration": 0.028895,
     "end_time": "2023-10-27T23:06:42.592659",
     "exception": false,
     "start_time": "2023-10-27T23:06:42.563764",
     "status": "completed"
    },
    "tags": []
   },
   "source": [
    "### Rest of the categorical columns are filled with most frequent."
   ]
  },
  {
   "cell_type": "code",
   "execution_count": 43,
   "id": "354adc59",
   "metadata": {
    "execution": {
     "iopub.execute_input": "2023-10-27T23:06:42.653021Z",
     "iopub.status.busy": "2023-10-27T23:06:42.651792Z",
     "iopub.status.idle": "2023-10-27T23:06:42.658128Z",
     "shell.execute_reply": "2023-10-27T23:06:42.657264Z"
    },
    "papermill": {
     "duration": 0.03887,
     "end_time": "2023-10-27T23:06:42.660468",
     "exception": false,
     "start_time": "2023-10-27T23:06:42.621598",
     "status": "completed"
    },
    "tags": []
   },
   "outputs": [],
   "source": [
    "def fill_most_freq(df, cols):\n",
    "    \n",
    "    for col in df.columns:\n",
    "        \n",
    "        val = df[col].mode()[0]\n",
    "        df[col].fillna(val, inplace=True)\n",
    "        \n",
    "    return df"
   ]
  },
  {
   "cell_type": "code",
   "execution_count": 44,
   "id": "ce101eaa",
   "metadata": {
    "execution": {
     "iopub.execute_input": "2023-10-27T23:06:42.721121Z",
     "iopub.status.busy": "2023-10-27T23:06:42.719812Z",
     "iopub.status.idle": "2023-10-27T23:06:42.743677Z",
     "shell.execute_reply": "2023-10-27T23:06:42.742861Z"
    },
    "papermill": {
     "duration": 0.056484,
     "end_time": "2023-10-27T23:06:42.746110",
     "exception": false,
     "start_time": "2023-10-27T23:06:42.689626",
     "status": "completed"
    },
    "tags": []
   },
   "outputs": [],
   "source": [
    "columns_with_nan = ['CryoSleep', 'side', 'num_label']\n",
    "train_df = fill_most_freq(train_df, columns_with_nan)"
   ]
  },
  {
   "cell_type": "code",
   "execution_count": 45,
   "id": "c4ef0237",
   "metadata": {
    "execution": {
     "iopub.execute_input": "2023-10-27T23:06:42.807640Z",
     "iopub.status.busy": "2023-10-27T23:06:42.807182Z",
     "iopub.status.idle": "2023-10-27T23:06:42.843412Z",
     "shell.execute_reply": "2023-10-27T23:06:42.842651Z"
    },
    "papermill": {
     "duration": 0.070127,
     "end_time": "2023-10-27T23:06:42.845503",
     "exception": false,
     "start_time": "2023-10-27T23:06:42.775376",
     "status": "completed"
    },
    "tags": []
   },
   "outputs": [
    {
     "data": {
      "text/html": [
       "<div>\n",
       "<style scoped>\n",
       "    .dataframe tbody tr th:only-of-type {\n",
       "        vertical-align: middle;\n",
       "    }\n",
       "\n",
       "    .dataframe tbody tr th {\n",
       "        vertical-align: top;\n",
       "    }\n",
       "\n",
       "    .dataframe thead th {\n",
       "        text-align: right;\n",
       "    }\n",
       "</style>\n",
       "<table border=\"1\" class=\"dataframe\">\n",
       "  <thead>\n",
       "    <tr style=\"text-align: right;\">\n",
       "      <th></th>\n",
       "      <th>CryoSleep</th>\n",
       "      <th>VIP</th>\n",
       "      <th>RoomService</th>\n",
       "      <th>FoodCourt</th>\n",
       "      <th>ShoppingMall</th>\n",
       "      <th>Spa</th>\n",
       "      <th>VRDeck</th>\n",
       "      <th>Transported</th>\n",
       "      <th>side</th>\n",
       "      <th>HomePlanet_Earth</th>\n",
       "      <th>...</th>\n",
       "      <th>AgeGroup_Old</th>\n",
       "      <th>deck_A</th>\n",
       "      <th>deck_B</th>\n",
       "      <th>deck_C</th>\n",
       "      <th>deck_D</th>\n",
       "      <th>deck_E</th>\n",
       "      <th>deck_F</th>\n",
       "      <th>deck_G</th>\n",
       "      <th>deck_T</th>\n",
       "      <th>num_label</th>\n",
       "    </tr>\n",
       "  </thead>\n",
       "  <tbody>\n",
       "    <tr>\n",
       "      <th>0</th>\n",
       "      <td>0.0</td>\n",
       "      <td>0.0</td>\n",
       "      <td>-0.359961</td>\n",
       "      <td>-0.297860</td>\n",
       "      <td>-0.352491</td>\n",
       "      <td>-0.293324</td>\n",
       "      <td>-0.280320</td>\n",
       "      <td>0</td>\n",
       "      <td>0.0</td>\n",
       "      <td>0.0</td>\n",
       "      <td>...</td>\n",
       "      <td>0.0</td>\n",
       "      <td>0.0</td>\n",
       "      <td>1.0</td>\n",
       "      <td>0.0</td>\n",
       "      <td>0.0</td>\n",
       "      <td>0.0</td>\n",
       "      <td>0.0</td>\n",
       "      <td>0.0</td>\n",
       "      <td>0.0</td>\n",
       "      <td>0</td>\n",
       "    </tr>\n",
       "    <tr>\n",
       "      <th>1</th>\n",
       "      <td>0.0</td>\n",
       "      <td>0.0</td>\n",
       "      <td>-0.177836</td>\n",
       "      <td>-0.291700</td>\n",
       "      <td>-0.297105</td>\n",
       "      <td>0.264363</td>\n",
       "      <td>-0.237639</td>\n",
       "      <td>1</td>\n",
       "      <td>1.0</td>\n",
       "      <td>1.0</td>\n",
       "      <td>...</td>\n",
       "      <td>0.0</td>\n",
       "      <td>0.0</td>\n",
       "      <td>0.0</td>\n",
       "      <td>0.0</td>\n",
       "      <td>0.0</td>\n",
       "      <td>0.0</td>\n",
       "      <td>1.0</td>\n",
       "      <td>0.0</td>\n",
       "      <td>0.0</td>\n",
       "      <td>0</td>\n",
       "    </tr>\n",
       "    <tr>\n",
       "      <th>2</th>\n",
       "      <td>0.0</td>\n",
       "      <td>1.0</td>\n",
       "      <td>-0.288114</td>\n",
       "      <td>2.150043</td>\n",
       "      <td>-0.352491</td>\n",
       "      <td>6.527927</td>\n",
       "      <td>-0.232789</td>\n",
       "      <td>0</td>\n",
       "      <td>1.0</td>\n",
       "      <td>0.0</td>\n",
       "      <td>...</td>\n",
       "      <td>0.0</td>\n",
       "      <td>1.0</td>\n",
       "      <td>0.0</td>\n",
       "      <td>0.0</td>\n",
       "      <td>0.0</td>\n",
       "      <td>0.0</td>\n",
       "      <td>0.0</td>\n",
       "      <td>0.0</td>\n",
       "      <td>0.0</td>\n",
       "      <td>0</td>\n",
       "    </tr>\n",
       "    <tr>\n",
       "      <th>3</th>\n",
       "      <td>0.0</td>\n",
       "      <td>0.0</td>\n",
       "      <td>-0.359961</td>\n",
       "      <td>0.580400</td>\n",
       "      <td>0.469440</td>\n",
       "      <td>3.088351</td>\n",
       "      <td>-0.093104</td>\n",
       "      <td>0</td>\n",
       "      <td>1.0</td>\n",
       "      <td>0.0</td>\n",
       "      <td>...</td>\n",
       "      <td>0.0</td>\n",
       "      <td>1.0</td>\n",
       "      <td>0.0</td>\n",
       "      <td>0.0</td>\n",
       "      <td>0.0</td>\n",
       "      <td>0.0</td>\n",
       "      <td>0.0</td>\n",
       "      <td>0.0</td>\n",
       "      <td>0.0</td>\n",
       "      <td>0</td>\n",
       "    </tr>\n",
       "    <tr>\n",
       "      <th>4</th>\n",
       "      <td>0.0</td>\n",
       "      <td>0.0</td>\n",
       "      <td>0.146315</td>\n",
       "      <td>-0.249943</td>\n",
       "      <td>-0.017958</td>\n",
       "      <td>0.280616</td>\n",
       "      <td>-0.278380</td>\n",
       "      <td>1</td>\n",
       "      <td>1.0</td>\n",
       "      <td>1.0</td>\n",
       "      <td>...</td>\n",
       "      <td>0.0</td>\n",
       "      <td>0.0</td>\n",
       "      <td>0.0</td>\n",
       "      <td>0.0</td>\n",
       "      <td>0.0</td>\n",
       "      <td>0.0</td>\n",
       "      <td>1.0</td>\n",
       "      <td>0.0</td>\n",
       "      <td>0.0</td>\n",
       "      <td>0</td>\n",
       "    </tr>\n",
       "  </tbody>\n",
       "</table>\n",
       "<p>5 rows × 29 columns</p>\n",
       "</div>"
      ],
      "text/plain": [
       "   CryoSleep  VIP  RoomService  FoodCourt  ShoppingMall       Spa    VRDeck  \\\n",
       "0        0.0  0.0    -0.359961  -0.297860     -0.352491 -0.293324 -0.280320   \n",
       "1        0.0  0.0    -0.177836  -0.291700     -0.297105  0.264363 -0.237639   \n",
       "2        0.0  1.0    -0.288114   2.150043     -0.352491  6.527927 -0.232789   \n",
       "3        0.0  0.0    -0.359961   0.580400      0.469440  3.088351 -0.093104   \n",
       "4        0.0  0.0     0.146315  -0.249943     -0.017958  0.280616 -0.278380   \n",
       "\n",
       "   Transported  side  HomePlanet_Earth  ...  AgeGroup_Old  deck_A  deck_B  \\\n",
       "0            0   0.0               0.0  ...           0.0     0.0     1.0   \n",
       "1            1   1.0               1.0  ...           0.0     0.0     0.0   \n",
       "2            0   1.0               0.0  ...           0.0     1.0     0.0   \n",
       "3            0   1.0               0.0  ...           0.0     1.0     0.0   \n",
       "4            1   1.0               1.0  ...           0.0     0.0     0.0   \n",
       "\n",
       "   deck_C  deck_D  deck_E  deck_F  deck_G  deck_T  num_label  \n",
       "0     0.0     0.0     0.0     0.0     0.0     0.0          0  \n",
       "1     0.0     0.0     0.0     1.0     0.0     0.0          0  \n",
       "2     0.0     0.0     0.0     0.0     0.0     0.0          0  \n",
       "3     0.0     0.0     0.0     0.0     0.0     0.0          0  \n",
       "4     0.0     0.0     0.0     1.0     0.0     0.0          0  \n",
       "\n",
       "[5 rows x 29 columns]"
      ]
     },
     "execution_count": 45,
     "metadata": {},
     "output_type": "execute_result"
    }
   ],
   "source": [
    "train_df.dropna()\n",
    "train_df.head()"
   ]
  },
  {
   "cell_type": "markdown",
   "id": "b3fc950e",
   "metadata": {
    "papermill": {
     "duration": 0.029166,
     "end_time": "2023-10-27T23:06:42.904755",
     "exception": false,
     "start_time": "2023-10-27T23:06:42.875589",
     "status": "completed"
    },
    "tags": []
   },
   "source": [
    "## TRAINING"
   ]
  },
  {
   "cell_type": "code",
   "execution_count": 46,
   "id": "a3727443",
   "metadata": {
    "execution": {
     "iopub.execute_input": "2023-10-27T23:06:42.966278Z",
     "iopub.status.busy": "2023-10-27T23:06:42.965431Z",
     "iopub.status.idle": "2023-10-27T23:06:42.975934Z",
     "shell.execute_reply": "2023-10-27T23:06:42.974947Z"
    },
    "papermill": {
     "duration": 0.044031,
     "end_time": "2023-10-27T23:06:42.978810",
     "exception": false,
     "start_time": "2023-10-27T23:06:42.934779",
     "status": "completed"
    },
    "tags": []
   },
   "outputs": [],
   "source": [
    "train_df['num_label'] = train_df['num_label'].astype(float)\n",
    "X = train_df.drop('Transported', axis=1)\n",
    "y = train_df['Transported']\n",
    "\n",
    "X_train, X_test, y_train, y_test = train_test_split(X, y, test_size=0.2, random_state=42)"
   ]
  },
  {
   "cell_type": "code",
   "execution_count": 47,
   "id": "04cbede2",
   "metadata": {
    "execution": {
     "iopub.execute_input": "2023-10-27T23:06:43.040400Z",
     "iopub.status.busy": "2023-10-27T23:06:43.040009Z",
     "iopub.status.idle": "2023-10-27T23:06:43.049505Z",
     "shell.execute_reply": "2023-10-27T23:06:43.048691Z"
    },
    "papermill": {
     "duration": 0.042803,
     "end_time": "2023-10-27T23:06:43.051506",
     "exception": false,
     "start_time": "2023-10-27T23:06:43.008703",
     "status": "completed"
    },
    "tags": []
   },
   "outputs": [],
   "source": [
    "class SimpleBinaryClassifier(nn.Module):\n",
    "    def __init__(self, input_size):\n",
    "        super(SimpleBinaryClassifier, self).__init__()\n",
    "        self.input_size = input_size\n",
    "\n",
    "        # Define the layers\n",
    "        self.hidden_layers = nn.Sequential(\n",
    "            nn.Linear(input_size, 64),\n",
    "            nn.BatchNorm1d(64),  # BatchNorm layer\n",
    "            nn.ReLU(),\n",
    "            nn.Dropout(0.5),\n",
    "            nn.Linear(64, 128),\n",
    "            nn.BatchNorm1d(128),  \n",
    "            nn.ReLU(),\n",
    "            nn.Dropout(0.5),\n",
    "            nn.Linear(128, 64),\n",
    "            nn.BatchNorm1d(64),  \n",
    "            nn.ReLU(),\n",
    "            nn.Dropout(0.5),\n",
    "            nn.Linear(64, 32),\n",
    "            nn.BatchNorm1d(32), \n",
    "            nn.ReLU(),\n",
    "            nn.Dropout(0.5),\n",
    "            nn.Linear(32, 1)\n",
    "        )\n",
    "        \n",
    "        self.sigmoid = nn.Sigmoid()  # Sigmoid activation for binary classification\n",
    "\n",
    "    def forward(self, x):\n",
    "        x = self.sigmoid(self.hidden_layers(x))  # Apply sigmoid activation for binary classification\n",
    "        return x"
   ]
  },
  {
   "cell_type": "code",
   "execution_count": 48,
   "id": "a9dcbb42",
   "metadata": {
    "execution": {
     "iopub.execute_input": "2023-10-27T23:06:43.112587Z",
     "iopub.status.busy": "2023-10-27T23:06:43.111845Z",
     "iopub.status.idle": "2023-10-27T23:06:43.170783Z",
     "shell.execute_reply": "2023-10-27T23:06:43.169632Z"
    },
    "papermill": {
     "duration": 0.092408,
     "end_time": "2023-10-27T23:06:43.173697",
     "exception": false,
     "start_time": "2023-10-27T23:06:43.081289",
     "status": "completed"
    },
    "tags": []
   },
   "outputs": [],
   "source": [
    "model = SimpleBinaryClassifier(X_train.shape[1])\n",
    "criterion = nn.BCELoss()  # Binary Cross-Entropy Loss\n",
    "optimizer = optim.Adam(model.parameters(), lr=0.0001)  # Adjust optimizer and learning rate\n",
    "num_epochs = 2000"
   ]
  },
  {
   "cell_type": "code",
   "execution_count": 49,
   "id": "2cbd3097",
   "metadata": {
    "execution": {
     "iopub.execute_input": "2023-10-27T23:06:43.235893Z",
     "iopub.status.busy": "2023-10-27T23:06:43.235479Z",
     "iopub.status.idle": "2023-10-27T23:07:37.596310Z",
     "shell.execute_reply": "2023-10-27T23:07:37.595206Z"
    },
    "papermill": {
     "duration": 54.396051,
     "end_time": "2023-10-27T23:07:37.599244",
     "exception": false,
     "start_time": "2023-10-27T23:06:43.203193",
     "status": "completed"
    },
    "tags": []
   },
   "outputs": [
    {
     "name": "stdout",
     "output_type": "stream",
     "text": [
      "Epoch [1/2000], Loss_train: 0.7341819405555725, Loss_val: 0.6999276280403137\n",
      "Epoch [11/2000], Loss_train: 0.7186081409454346, Loss_val: 0.6968157291412354\n",
      "Epoch [21/2000], Loss_train: 0.7069266438484192, Loss_val: 0.6907126307487488\n",
      "Epoch [31/2000], Loss_train: 0.7026070952415466, Loss_val: 0.6813900470733643\n",
      "Epoch [41/2000], Loss_train: 0.6910011172294617, Loss_val: 0.6723548769950867\n",
      "Epoch [51/2000], Loss_train: 0.6842378377914429, Loss_val: 0.6638087630271912\n",
      "Epoch [61/2000], Loss_train: 0.6827399134635925, Loss_val: 0.6555815935134888\n",
      "Epoch [71/2000], Loss_train: 0.6718690991401672, Loss_val: 0.6476458311080933\n",
      "Epoch [81/2000], Loss_train: 0.6575092077255249, Loss_val: 0.6383565664291382\n",
      "Epoch [91/2000], Loss_train: 0.6524530649185181, Loss_val: 0.6300560832023621\n",
      "Epoch [101/2000], Loss_train: 0.6449571251869202, Loss_val: 0.6213648915290833\n",
      "Epoch [111/2000], Loss_train: 0.6389392614364624, Loss_val: 0.6111418008804321\n",
      "Epoch [121/2000], Loss_train: 0.6300913691520691, Loss_val: 0.6014798283576965\n",
      "Epoch [131/2000], Loss_train: 0.6233758330345154, Loss_val: 0.59158855676651\n",
      "Epoch [141/2000], Loss_train: 0.6146206855773926, Loss_val: 0.5812212228775024\n",
      "Epoch [151/2000], Loss_train: 0.6079112887382507, Loss_val: 0.5719858407974243\n",
      "Epoch [161/2000], Loss_train: 0.6014934778213501, Loss_val: 0.5625524520874023\n",
      "Epoch [171/2000], Loss_train: 0.5939785838127136, Loss_val: 0.5541458129882812\n",
      "Epoch [181/2000], Loss_train: 0.5829829573631287, Loss_val: 0.5464089512825012\n",
      "Epoch [191/2000], Loss_train: 0.58072429895401, Loss_val: 0.5380328893661499\n",
      "Epoch [201/2000], Loss_train: 0.5823944807052612, Loss_val: 0.5298888683319092\n",
      "Epoch [211/2000], Loss_train: 0.570121169090271, Loss_val: 0.5226189494132996\n",
      "Epoch [221/2000], Loss_train: 0.5602189898490906, Loss_val: 0.5157672762870789\n",
      "Epoch [231/2000], Loss_train: 0.5578899383544922, Loss_val: 0.510113537311554\n",
      "Epoch [241/2000], Loss_train: 0.5493226647377014, Loss_val: 0.5034788250923157\n",
      "Epoch [251/2000], Loss_train: 0.5459702014923096, Loss_val: 0.49826741218566895\n",
      "Epoch [261/2000], Loss_train: 0.544001579284668, Loss_val: 0.4928848147392273\n",
      "Epoch [271/2000], Loss_train: 0.5412840247154236, Loss_val: 0.48802125453948975\n",
      "Epoch [281/2000], Loss_train: 0.5359798073768616, Loss_val: 0.4842066168785095\n",
      "Epoch [291/2000], Loss_train: 0.5312585830688477, Loss_val: 0.4802568852901459\n",
      "Epoch [301/2000], Loss_train: 0.5308954119682312, Loss_val: 0.4764849543571472\n",
      "Epoch [311/2000], Loss_train: 0.5249468684196472, Loss_val: 0.4727762043476105\n",
      "Epoch [321/2000], Loss_train: 0.5190715789794922, Loss_val: 0.4688388407230377\n",
      "Epoch [331/2000], Loss_train: 0.5166672468185425, Loss_val: 0.465730220079422\n",
      "Epoch [341/2000], Loss_train: 0.5210681557655334, Loss_val: 0.46337470412254333\n",
      "Epoch [351/2000], Loss_train: 0.5154913663864136, Loss_val: 0.460406094789505\n",
      "Epoch [361/2000], Loss_train: 0.5107550024986267, Loss_val: 0.45789653062820435\n",
      "Epoch [371/2000], Loss_train: 0.5086324214935303, Loss_val: 0.45503029227256775\n",
      "Epoch [381/2000], Loss_train: 0.5096964240074158, Loss_val: 0.45315083861351013\n",
      "Epoch [391/2000], Loss_train: 0.5083372592926025, Loss_val: 0.45062559843063354\n",
      "Epoch [401/2000], Loss_train: 0.5058345794677734, Loss_val: 0.44849613308906555\n",
      "Epoch [411/2000], Loss_train: 0.50013667345047, Loss_val: 0.4469214379787445\n",
      "Epoch [421/2000], Loss_train: 0.49786704778671265, Loss_val: 0.4450628459453583\n",
      "Epoch [431/2000], Loss_train: 0.48817235231399536, Loss_val: 0.4425739347934723\n",
      "Epoch [441/2000], Loss_train: 0.4929751753807068, Loss_val: 0.44066673517227173\n",
      "Epoch [451/2000], Loss_train: 0.49145832657814026, Loss_val: 0.43838953971862793\n",
      "Epoch [461/2000], Loss_train: 0.49363985657691956, Loss_val: 0.4367867410182953\n",
      "Epoch [471/2000], Loss_train: 0.4883679747581482, Loss_val: 0.4357359707355499\n",
      "Epoch [481/2000], Loss_train: 0.48411136865615845, Loss_val: 0.4341394901275635\n",
      "Epoch [491/2000], Loss_train: 0.4889317750930786, Loss_val: 0.4323844015598297\n",
      "Epoch [501/2000], Loss_train: 0.4824109971523285, Loss_val: 0.4310830533504486\n",
      "Epoch [511/2000], Loss_train: 0.48795610666275024, Loss_val: 0.4296490550041199\n",
      "Epoch [521/2000], Loss_train: 0.48398178815841675, Loss_val: 0.42896416783332825\n",
      "Epoch [531/2000], Loss_train: 0.4817432165145874, Loss_val: 0.4278721213340759\n",
      "Epoch [541/2000], Loss_train: 0.48491600155830383, Loss_val: 0.4269452691078186\n",
      "Epoch [551/2000], Loss_train: 0.47910329699516296, Loss_val: 0.4258712828159332\n",
      "Epoch [561/2000], Loss_train: 0.478631854057312, Loss_val: 0.4248425364494324\n",
      "Epoch [571/2000], Loss_train: 0.482231467962265, Loss_val: 0.4239697754383087\n",
      "Epoch [581/2000], Loss_train: 0.47958698868751526, Loss_val: 0.422912061214447\n",
      "Epoch [591/2000], Loss_train: 0.47659391164779663, Loss_val: 0.4218963384628296\n",
      "Epoch [601/2000], Loss_train: 0.4714775085449219, Loss_val: 0.4210919141769409\n",
      "Epoch [611/2000], Loss_train: 0.4724785089492798, Loss_val: 0.42038458585739136\n",
      "Epoch [621/2000], Loss_train: 0.4691963195800781, Loss_val: 0.41910320520401\n",
      "Epoch [631/2000], Loss_train: 0.47328177094459534, Loss_val: 0.4184001684188843\n",
      "Epoch [641/2000], Loss_train: 0.47185081243515015, Loss_val: 0.41746392846107483\n",
      "Epoch [651/2000], Loss_train: 0.46632465720176697, Loss_val: 0.41670459508895874\n",
      "Epoch [661/2000], Loss_train: 0.4658857583999634, Loss_val: 0.4159944951534271\n",
      "Epoch [671/2000], Loss_train: 0.4742681682109833, Loss_val: 0.415279746055603\n",
      "Epoch [681/2000], Loss_train: 0.4716529846191406, Loss_val: 0.4149923026561737\n",
      "Epoch [691/2000], Loss_train: 0.45848220586776733, Loss_val: 0.41420090198516846\n",
      "Epoch [701/2000], Loss_train: 0.4623411297798157, Loss_val: 0.41379672288894653\n",
      "Epoch [711/2000], Loss_train: 0.46329450607299805, Loss_val: 0.4127672612667084\n",
      "Epoch [721/2000], Loss_train: 0.4710235595703125, Loss_val: 0.41202476620674133\n",
      "Epoch [731/2000], Loss_train: 0.46202898025512695, Loss_val: 0.41121819615364075\n",
      "Epoch [741/2000], Loss_train: 0.4634123146533966, Loss_val: 0.41070640087127686\n",
      "Epoch [751/2000], Loss_train: 0.45701947808265686, Loss_val: 0.4103768467903137\n",
      "Epoch [761/2000], Loss_train: 0.45584240555763245, Loss_val: 0.41009852290153503\n",
      "Epoch [771/2000], Loss_train: 0.45921027660369873, Loss_val: 0.40953221917152405\n",
      "Epoch [781/2000], Loss_train: 0.4617558717727661, Loss_val: 0.40919530391693115\n",
      "Epoch [791/2000], Loss_train: 0.46029794216156006, Loss_val: 0.4083443880081177\n",
      "Epoch [801/2000], Loss_train: 0.4574825167655945, Loss_val: 0.4079136550426483\n",
      "Epoch [811/2000], Loss_train: 0.4590871036052704, Loss_val: 0.4075843393802643\n",
      "Epoch [821/2000], Loss_train: 0.4555054306983948, Loss_val: 0.407122403383255\n",
      "Epoch [831/2000], Loss_train: 0.45761027932167053, Loss_val: 0.4066474437713623\n",
      "Epoch [841/2000], Loss_train: 0.45526665449142456, Loss_val: 0.4061000645160675\n",
      "Epoch [851/2000], Loss_train: 0.4607538878917694, Loss_val: 0.405703604221344\n",
      "Epoch [861/2000], Loss_train: 0.4565986394882202, Loss_val: 0.40554094314575195\n",
      "Epoch [871/2000], Loss_train: 0.45164111256599426, Loss_val: 0.4049840271472931\n",
      "Epoch [881/2000], Loss_train: 0.4529627859592438, Loss_val: 0.4045541286468506\n",
      "Epoch [891/2000], Loss_train: 0.45674848556518555, Loss_val: 0.4041638970375061\n",
      "Epoch [901/2000], Loss_train: 0.45004403591156006, Loss_val: 0.40395426750183105\n",
      "Epoch [911/2000], Loss_train: 0.4526095390319824, Loss_val: 0.40343064069747925\n",
      "Epoch [921/2000], Loss_train: 0.44999969005584717, Loss_val: 0.4032602608203888\n",
      "Epoch [931/2000], Loss_train: 0.44953954219818115, Loss_val: 0.4026874303817749\n",
      "Epoch [941/2000], Loss_train: 0.45273613929748535, Loss_val: 0.40248408913612366\n",
      "Epoch [951/2000], Loss_train: 0.445525586605072, Loss_val: 0.402127206325531\n",
      "Epoch [961/2000], Loss_train: 0.4513816833496094, Loss_val: 0.4020300507545471\n",
      "Epoch [971/2000], Loss_train: 0.4479290544986725, Loss_val: 0.40172719955444336\n",
      "Epoch [981/2000], Loss_train: 0.44762274622917175, Loss_val: 0.4013892412185669\n",
      "Epoch [991/2000], Loss_train: 0.4422672986984253, Loss_val: 0.40118488669395447\n",
      "Epoch [1001/2000], Loss_train: 0.45016244053840637, Loss_val: 0.4007374048233032\n",
      "Epoch [1011/2000], Loss_train: 0.4503421485424042, Loss_val: 0.4002141058444977\n",
      "Epoch [1021/2000], Loss_train: 0.448590487241745, Loss_val: 0.3997470438480377\n",
      "Epoch [1031/2000], Loss_train: 0.4462429881095886, Loss_val: 0.3992835581302643\n",
      "Epoch [1041/2000], Loss_train: 0.44865649938583374, Loss_val: 0.39917632937431335\n",
      "Epoch [1051/2000], Loss_train: 0.4488169252872467, Loss_val: 0.3990204632282257\n",
      "Epoch [1061/2000], Loss_train: 0.44531017541885376, Loss_val: 0.3986159563064575\n",
      "Epoch [1071/2000], Loss_train: 0.44512060284614563, Loss_val: 0.3987027108669281\n",
      "Epoch [1081/2000], Loss_train: 0.43436187505722046, Loss_val: 0.3983912169933319\n",
      "Epoch [1091/2000], Loss_train: 0.44476303458213806, Loss_val: 0.39799919724464417\n",
      "Epoch [1101/2000], Loss_train: 0.43998271226882935, Loss_val: 0.39791396260261536\n",
      "Epoch [1111/2000], Loss_train: 0.45165619254112244, Loss_val: 0.397676557302475\n",
      "Epoch [1121/2000], Loss_train: 0.4445088505744934, Loss_val: 0.397408127784729\n",
      "Epoch [1131/2000], Loss_train: 0.44523870944976807, Loss_val: 0.3970165550708771\n",
      "Epoch [1141/2000], Loss_train: 0.44323819875717163, Loss_val: 0.3967442214488983\n",
      "Epoch [1151/2000], Loss_train: 0.44221076369285583, Loss_val: 0.3967039883136749\n",
      "Epoch [1161/2000], Loss_train: 0.43716856837272644, Loss_val: 0.3967534899711609\n",
      "Epoch [1171/2000], Loss_train: 0.4416898787021637, Loss_val: 0.3962845504283905\n",
      "Epoch [1181/2000], Loss_train: 0.4385412633419037, Loss_val: 0.395984023809433\n",
      "Epoch [1191/2000], Loss_train: 0.4401155710220337, Loss_val: 0.3957211673259735\n",
      "Epoch [1201/2000], Loss_train: 0.4431183636188507, Loss_val: 0.39567041397094727\n",
      "Epoch [1211/2000], Loss_train: 0.4363493323326111, Loss_val: 0.39544349908828735\n",
      "Epoch [1221/2000], Loss_train: 0.4373212158679962, Loss_val: 0.39524295926094055\n",
      "Epoch [1231/2000], Loss_train: 0.4380252957344055, Loss_val: 0.3951619565486908\n",
      "Epoch [1241/2000], Loss_train: 0.4357362985610962, Loss_val: 0.3949417471885681\n",
      "Epoch [1251/2000], Loss_train: 0.43721169233322144, Loss_val: 0.3946108818054199\n",
      "Epoch [1261/2000], Loss_train: 0.43939101696014404, Loss_val: 0.39448291063308716\n",
      "Epoch [1271/2000], Loss_train: 0.4372946321964264, Loss_val: 0.3940640389919281\n",
      "Epoch [1281/2000], Loss_train: 0.43469396233558655, Loss_val: 0.39380502700805664\n",
      "Epoch [1291/2000], Loss_train: 0.4405076801776886, Loss_val: 0.3936343193054199\n",
      "Epoch [1301/2000], Loss_train: 0.43193158507347107, Loss_val: 0.39364734292030334\n",
      "Epoch [1311/2000], Loss_train: 0.43661177158355713, Loss_val: 0.3935387134552002\n",
      "Epoch [1321/2000], Loss_train: 0.43446558713912964, Loss_val: 0.39350512623786926\n",
      "Epoch [1331/2000], Loss_train: 0.43555495142936707, Loss_val: 0.3932383358478546\n",
      "Epoch [1341/2000], Loss_train: 0.4362458884716034, Loss_val: 0.39304837584495544\n",
      "Epoch [1351/2000], Loss_train: 0.43269968032836914, Loss_val: 0.3926151692867279\n",
      "Epoch [1361/2000], Loss_train: 0.43266060948371887, Loss_val: 0.3923402428627014\n",
      "Epoch [1371/2000], Loss_train: 0.4303746819496155, Loss_val: 0.39235779643058777\n",
      "Epoch [1381/2000], Loss_train: 0.43551596999168396, Loss_val: 0.3922494053840637\n",
      "Epoch [1391/2000], Loss_train: 0.43324559926986694, Loss_val: 0.3918793499469757\n",
      "Epoch [1401/2000], Loss_train: 0.43244343996047974, Loss_val: 0.39194244146347046\n",
      "Epoch [1411/2000], Loss_train: 0.43341192603111267, Loss_val: 0.39186108112335205\n",
      "Epoch [1421/2000], Loss_train: 0.436097115278244, Loss_val: 0.39174532890319824\n",
      "Epoch [1431/2000], Loss_train: 0.4299655258655548, Loss_val: 0.3915487229824066\n",
      "Epoch [1441/2000], Loss_train: 0.43471524119377136, Loss_val: 0.39140045642852783\n",
      "Epoch [1451/2000], Loss_train: 0.42925238609313965, Loss_val: 0.3911912739276886\n",
      "Epoch [1461/2000], Loss_train: 0.4384278655052185, Loss_val: 0.3910669684410095\n",
      "Epoch [1471/2000], Loss_train: 0.4356324076652527, Loss_val: 0.3910413682460785\n",
      "Epoch [1481/2000], Loss_train: 0.4300561845302582, Loss_val: 0.39090943336486816\n",
      "Epoch [1491/2000], Loss_train: 0.4277772605419159, Loss_val: 0.3907262086868286\n",
      "Epoch [1501/2000], Loss_train: 0.43545135855674744, Loss_val: 0.3904564380645752\n",
      "Epoch [1511/2000], Loss_train: 0.43160519003868103, Loss_val: 0.3903902769088745\n",
      "Epoch [1521/2000], Loss_train: 0.4280727207660675, Loss_val: 0.39009812474250793\n",
      "Epoch [1531/2000], Loss_train: 0.4303686022758484, Loss_val: 0.38979196548461914\n",
      "Epoch [1541/2000], Loss_train: 0.42896029353141785, Loss_val: 0.3894244432449341\n",
      "Epoch [1551/2000], Loss_train: 0.4338461458683014, Loss_val: 0.3892764747142792\n",
      "Epoch [1561/2000], Loss_train: 0.4266897141933441, Loss_val: 0.3893996477127075\n",
      "Epoch [1571/2000], Loss_train: 0.4313695728778839, Loss_val: 0.38916972279548645\n",
      "Epoch [1581/2000], Loss_train: 0.43149638175964355, Loss_val: 0.3891102969646454\n",
      "Epoch [1591/2000], Loss_train: 0.42175915837287903, Loss_val: 0.38911712169647217\n",
      "Epoch [1601/2000], Loss_train: 0.42776820063591003, Loss_val: 0.3891308009624481\n",
      "Epoch [1611/2000], Loss_train: 0.4326246380805969, Loss_val: 0.3888736069202423\n",
      "Epoch [1621/2000], Loss_train: 0.42859944701194763, Loss_val: 0.38872119784355164\n",
      "Epoch [1631/2000], Loss_train: 0.4260908365249634, Loss_val: 0.38860514760017395\n",
      "Epoch [1641/2000], Loss_train: 0.429587721824646, Loss_val: 0.38816022872924805\n",
      "Epoch [1651/2000], Loss_train: 0.4200780391693115, Loss_val: 0.38807913661003113\n",
      "Epoch [1661/2000], Loss_train: 0.4227052330970764, Loss_val: 0.38833948969841003\n",
      "Epoch [1671/2000], Loss_train: 0.4250660240650177, Loss_val: 0.3882812559604645\n",
      "Epoch [1681/2000], Loss_train: 0.4255695343017578, Loss_val: 0.38813188672065735\n",
      "Epoch [1691/2000], Loss_train: 0.4330522119998932, Loss_val: 0.3877919018268585\n",
      "Epoch [1701/2000], Loss_train: 0.42438799142837524, Loss_val: 0.3876049518585205\n",
      "Epoch [1711/2000], Loss_train: 0.42710375785827637, Loss_val: 0.3872518837451935\n",
      "Epoch [1721/2000], Loss_train: 0.4226912260055542, Loss_val: 0.38727885484695435\n",
      "Epoch [1731/2000], Loss_train: 0.42406609654426575, Loss_val: 0.38781341910362244\n",
      "Epoch [1741/2000], Loss_train: 0.42647507786750793, Loss_val: 0.38749241828918457\n",
      "Epoch [1751/2000], Loss_train: 0.4189591109752655, Loss_val: 0.387371301651001\n",
      "Epoch [1761/2000], Loss_train: 0.421074241399765, Loss_val: 0.3872918486595154\n",
      "Epoch [1771/2000], Loss_train: 0.42350172996520996, Loss_val: 0.38714665174484253\n",
      "Epoch [1781/2000], Loss_train: 0.42597201466560364, Loss_val: 0.3872615396976471\n",
      "Epoch [1791/2000], Loss_train: 0.42347633838653564, Loss_val: 0.3868400752544403\n",
      "Epoch [1801/2000], Loss_train: 0.42353639006614685, Loss_val: 0.3871409595012665\n",
      "Epoch [1811/2000], Loss_train: 0.41614779829978943, Loss_val: 0.3869287967681885\n",
      "Epoch [1821/2000], Loss_train: 0.42164939641952515, Loss_val: 0.3866402506828308\n",
      "Epoch [1831/2000], Loss_train: 0.4181060194969177, Loss_val: 0.3867594599723816\n",
      "Epoch [1841/2000], Loss_train: 0.4231579899787903, Loss_val: 0.386425256729126\n",
      "Epoch [1851/2000], Loss_train: 0.4228464365005493, Loss_val: 0.3863014876842499\n",
      "Epoch [1861/2000], Loss_train: 0.42397212982177734, Loss_val: 0.3862885534763336\n",
      "Epoch [1871/2000], Loss_train: 0.4197176694869995, Loss_val: 0.3864077627658844\n",
      "Epoch [1881/2000], Loss_train: 0.415380597114563, Loss_val: 0.38622066378593445\n",
      "Epoch [1891/2000], Loss_train: 0.41829150915145874, Loss_val: 0.38602694869041443\n",
      "Epoch [1901/2000], Loss_train: 0.4205382466316223, Loss_val: 0.3859808146953583\n",
      "Epoch [1911/2000], Loss_train: 0.42565712332725525, Loss_val: 0.3859916925430298\n",
      "Epoch [1921/2000], Loss_train: 0.42264020442962646, Loss_val: 0.38571855425834656\n",
      "Epoch [1931/2000], Loss_train: 0.41652172803878784, Loss_val: 0.3858303427696228\n",
      "Epoch [1941/2000], Loss_train: 0.4241373538970947, Loss_val: 0.3858721852302551\n",
      "Epoch [1951/2000], Loss_train: 0.41838642954826355, Loss_val: 0.3855658769607544\n",
      "Epoch [1961/2000], Loss_train: 0.41898927092552185, Loss_val: 0.3855513334274292\n",
      "Epoch [1971/2000], Loss_train: 0.4229314923286438, Loss_val: 0.38540396094322205\n",
      "Epoch [1981/2000], Loss_train: 0.4181208312511444, Loss_val: 0.38515985012054443\n",
      "Epoch [1991/2000], Loss_train: 0.41876786947250366, Loss_val: 0.38531213998794556\n"
     ]
    }
   ],
   "source": [
    "loss_train_values = []  \n",
    "loss_val_values = []  \n",
    "for epoch in range(num_epochs):\n",
    "    model.train()  # Set the model in training mode\n",
    "    optimizer.zero_grad()  # Zero the gradient buffers\n",
    "\n",
    "    # Forward pass\n",
    "    outputs = model(torch.tensor(X_train.values, dtype=torch.float32))\n",
    "    loss = criterion(outputs, torch.tensor(y_train.values, dtype=torch.float32).view(-1, 1))\n",
    "\n",
    "    # Backpropagation and optimization\n",
    "    loss.backward()\n",
    "    optimizer.step()\n",
    "\n",
    "    if epoch % 10 == 0:\n",
    "        model.eval()  # Set the model in evaluation mode\n",
    "        with torch.no_grad():\n",
    "            val_outputs = model(torch.tensor(X_test.values, dtype=torch.float32))\n",
    "\n",
    "            # Clamp the validation output to be between 0 and 1\n",
    "            val_outputs = torch.clamp(val_outputs, 0, 1)\n",
    "\n",
    "            val_loss = criterion(val_outputs, torch.tensor(y_test.values, dtype=torch.float32).view(-1, 1))\n",
    "\n",
    "        print(f'Epoch [{epoch + 1}/{num_epochs}], Loss_train: {loss.item()}, Loss_val: {val_loss.item()}')\n",
    "\n",
    "        loss_train_values.append(loss.item())\n",
    "        loss_val_values.append(val_loss.item())\n",
    "        \n"
   ]
  },
  {
   "cell_type": "code",
   "execution_count": 50,
   "id": "27adbb47",
   "metadata": {
    "execution": {
     "iopub.execute_input": "2023-10-27T23:07:37.698150Z",
     "iopub.status.busy": "2023-10-27T23:07:37.697735Z",
     "iopub.status.idle": "2023-10-27T23:07:37.983140Z",
     "shell.execute_reply": "2023-10-27T23:07:37.981701Z"
    },
    "papermill": {
     "duration": 0.336857,
     "end_time": "2023-10-27T23:07:37.985890",
     "exception": false,
     "start_time": "2023-10-27T23:07:37.649033",
     "status": "completed"
    },
    "tags": []
   },
   "outputs": [
    {
     "data": {
      "image/png": "[encoded data removed]",
      "text/plain": [
       "<Figure size 640x480 with 1 Axes>"
      ]
     },
     "metadata": {},
     "output_type": "display_data"
    }
   ],
   "source": [
    "plt.plot(loss_train_values, label='TRAINING', color='red')\n",
    "plt.plot(loss_val_values, label='EVAL', color='blue')\n",
    "\n",
    "\n",
    "plt.xlabel('Epoch')\n",
    "plt.ylabel('Loss')\n",
    "plt.title('Loss over epochs')\n",
    "plt.legend()\n",
    "plt.show()\n",
    "\n"
   ]
  },
  {
   "cell_type": "code",
   "execution_count": 51,
   "id": "8d110681",
   "metadata": {
    "execution": {
     "iopub.execute_input": "2023-10-27T23:07:38.083848Z",
     "iopub.status.busy": "2023-10-27T23:07:38.083071Z",
     "iopub.status.idle": "2023-10-27T23:07:38.111998Z",
     "shell.execute_reply": "2023-10-27T23:07:38.110875Z"
    },
    "papermill": {
     "duration": 0.080411,
     "end_time": "2023-10-27T23:07:38.114206",
     "exception": false,
     "start_time": "2023-10-27T23:07:38.033795",
     "status": "completed"
    },
    "tags": []
   },
   "outputs": [
    {
     "name": "stdout",
     "output_type": "stream",
     "text": [
      "              precision    recall  f1-score   support\n",
      "\n",
      "           0       0.83      0.80      0.82       897\n",
      "           1       0.80      0.82      0.81       833\n",
      "\n",
      "    accuracy                           0.81      1730\n",
      "   macro avg       0.81      0.81      0.81      1730\n",
      "weighted avg       0.81      0.81      0.81      1730\n",
      "\n",
      "[[721 176]\n",
      " [149 684]]\n",
      "Accuracy on Test Data: 81.21%\n"
     ]
    }
   ],
   "source": [
    "# Define a prediction threshold (e.g., 0.5 for a binary classification threshold)\n",
    "threshold = 0.5\n",
    "\n",
    "# Make predictions on the test data\n",
    "model.eval()  # Set the model in evaluation mode\n",
    "with torch.no_grad():\n",
    "    test_outputs = model(torch.tensor(X_test.values, dtype=torch.float32))\n",
    "\n",
    "# Apply the threshold to convert probabilities to binary predictions\n",
    "test_predictions = (test_outputs >= threshold).float()\n",
    "    \n",
    "print(classification_report(y_test, test_predictions))\n",
    "print(confusion_matrix(y_test, test_predictions))\n",
    "\n",
    "# Calculate accuracy\n",
    "accuracy = accuracy_score(y_test, test_predictions)\n",
    "print(f'Accuracy on Test Data: {accuracy * 100:.2f}%')"
   ]
  },
  {
   "cell_type": "markdown",
   "id": "76d254b2",
   "metadata": {
    "papermill": {
     "duration": 0.047471,
     "end_time": "2023-10-27T23:07:38.209423",
     "exception": false,
     "start_time": "2023-10-27T23:07:38.161952",
     "status": "completed"
    },
    "tags": []
   },
   "source": [
    "## TEST SET PREDICTION"
   ]
  },
  {
   "cell_type": "code",
   "execution_count": 52,
   "id": "8a33deaf",
   "metadata": {
    "execution": {
     "iopub.execute_input": "2023-10-27T23:07:38.307370Z",
     "iopub.status.busy": "2023-10-27T23:07:38.306650Z",
     "iopub.status.idle": "2023-10-27T23:07:38.314313Z",
     "shell.execute_reply": "2023-10-27T23:07:38.313253Z"
    },
    "papermill": {
     "duration": 0.059663,
     "end_time": "2023-10-27T23:07:38.316680",
     "exception": false,
     "start_time": "2023-10-27T23:07:38.257017",
     "status": "completed"
    },
    "tags": []
   },
   "outputs": [],
   "source": [
    "def prepare_test_set(df):\n",
    "    \n",
    "    df = remove_unneccessary_cols(df, ['Name'])\n",
    "    df = make_age_categorical(df)\n",
    "    df = standardize_num_columns(df, num_columns)\n",
    "    df = impute_numeric_cols(df, num_columns)\n",
    "    df = map_vip_and_cryosleep(df)\n",
    "    df = split_cabin(df)\n",
    "    df = one_hot_encode_columns(df, ['HomePlanet', 'Destination', 'AgeGroup', 'deck'])\n",
    "    df = map_side_column(df)    \n",
    "    df = categorize_num_column(df)    \n",
    "    \n",
    "    df['VIP'].fillna(0, inplace=True)\n",
    "    df.replace({True:1., False:0.}, inplace=True)\n",
    "    \n",
    "    df = fill_most_freq(df, columns_with_nan)\n",
    "    df['num_label'] = df['num_label'].astype(float)\n",
    "     \n",
    "    return df"
   ]
  },
  {
   "cell_type": "code",
   "execution_count": 53,
   "id": "4b06d898",
   "metadata": {
    "execution": {
     "iopub.execute_input": "2023-10-27T23:07:38.413907Z",
     "iopub.status.busy": "2023-10-27T23:07:38.413471Z",
     "iopub.status.idle": "2023-10-27T23:07:38.510757Z",
     "shell.execute_reply": "2023-10-27T23:07:38.509960Z"
    },
    "papermill": {
     "duration": 0.14854,
     "end_time": "2023-10-27T23:07:38.513124",
     "exception": false,
     "start_time": "2023-10-27T23:07:38.364584",
     "status": "completed"
    },
    "tags": []
   },
   "outputs": [
    {
     "name": "stdout",
     "output_type": "stream",
     "text": [
      "Columns removed: ['Name']\n"
     ]
    }
   ],
   "source": [
    "test_df = prepare_test_set(test_df)"
   ]
  },
  {
   "cell_type": "code",
   "execution_count": 54,
   "id": "3a946e2c",
   "metadata": {
    "execution": {
     "iopub.execute_input": "2023-10-27T23:07:38.610770Z",
     "iopub.status.busy": "2023-10-27T23:07:38.610048Z",
     "iopub.status.idle": "2023-10-27T23:07:38.621065Z",
     "shell.execute_reply": "2023-10-27T23:07:38.620235Z"
    },
    "papermill": {
     "duration": 0.06262,
     "end_time": "2023-10-27T23:07:38.623499",
     "exception": false,
     "start_time": "2023-10-27T23:07:38.560879",
     "status": "completed"
    },
    "tags": []
   },
   "outputs": [],
   "source": [
    "# test_outputs = model(torch.tensor(X_test.values, dtype=torch.float32))\n",
    "y_pred_test = model(torch.tensor(test_df.drop('PassengerId', axis=1).values, dtype=torch.float32))"
   ]
  },
  {
   "cell_type": "code",
   "execution_count": 55,
   "id": "b53d816a",
   "metadata": {
    "execution": {
     "iopub.execute_input": "2023-10-27T23:07:38.721265Z",
     "iopub.status.busy": "2023-10-27T23:07:38.720863Z",
     "iopub.status.idle": "2023-10-27T23:07:38.761205Z",
     "shell.execute_reply": "2023-10-27T23:07:38.760352Z"
    },
    "papermill": {
     "duration": 0.092397,
     "end_time": "2023-10-27T23:07:38.763439",
     "exception": false,
     "start_time": "2023-10-27T23:07:38.671042",
     "status": "completed"
    },
    "tags": []
   },
   "outputs": [
    {
     "data": {
      "text/html": [
       "<div>\n",
       "<style scoped>\n",
       "    .dataframe tbody tr th:only-of-type {\n",
       "        vertical-align: middle;\n",
       "    }\n",
       "\n",
       "    .dataframe tbody tr th {\n",
       "        vertical-align: top;\n",
       "    }\n",
       "\n",
       "    .dataframe thead th {\n",
       "        text-align: right;\n",
       "    }\n",
       "</style>\n",
       "<table border=\"1\" class=\"dataframe\">\n",
       "  <thead>\n",
       "    <tr style=\"text-align: right;\">\n",
       "      <th></th>\n",
       "      <th>PassengerId</th>\n",
       "      <th>Transported</th>\n",
       "    </tr>\n",
       "  </thead>\n",
       "  <tbody>\n",
       "    <tr>\n",
       "      <th>0</th>\n",
       "      <td>0013_01</td>\n",
       "      <td>False</td>\n",
       "    </tr>\n",
       "    <tr>\n",
       "      <th>1</th>\n",
       "      <td>0018_01</td>\n",
       "      <td>False</td>\n",
       "    </tr>\n",
       "    <tr>\n",
       "      <th>2</th>\n",
       "      <td>0019_01</td>\n",
       "      <td>True</td>\n",
       "    </tr>\n",
       "    <tr>\n",
       "      <th>3</th>\n",
       "      <td>0021_01</td>\n",
       "      <td>True</td>\n",
       "    </tr>\n",
       "    <tr>\n",
       "      <th>4</th>\n",
       "      <td>0023_01</td>\n",
       "      <td>False</td>\n",
       "    </tr>\n",
       "  </tbody>\n",
       "</table>\n",
       "</div>"
      ],
      "text/plain": [
       "  PassengerId  Transported\n",
       "0     0013_01        False\n",
       "1     0018_01        False\n",
       "2     0019_01         True\n",
       "3     0021_01         True\n",
       "4     0023_01        False"
      ]
     },
     "execution_count": 55,
     "metadata": {},
     "output_type": "execute_result"
    }
   ],
   "source": [
    "y_pred_test = (y_pred_test >= 0.5).numpy().astype(int) \n",
    "y_pred_test = [arr[0] if arr.size == 1 else arr for arr in y_pred_test]\n",
    "res_df = pd.DataFrame(y_pred_test, index=None, columns= ['Transported'])\n",
    "res_df = pd.concat([test_df['PassengerId'], res_df['Transported']], axis = 1)\n",
    "\n",
    "mapping = {0: False, 1: True}\n",
    "res_df.replace(mapping, inplace=True)\n",
    "res_df.head()\n"
   ]
  },
  {
   "cell_type": "code",
   "execution_count": 56,
   "id": "5488e53c",
   "metadata": {
    "execution": {
     "iopub.execute_input": "2023-10-27T23:07:38.862530Z",
     "iopub.status.busy": "2023-10-27T23:07:38.861674Z",
     "iopub.status.idle": "2023-10-27T23:07:38.880802Z",
     "shell.execute_reply": "2023-10-27T23:07:38.879968Z"
    },
    "papermill": {
     "duration": 0.071228,
     "end_time": "2023-10-27T23:07:38.883394",
     "exception": false,
     "start_time": "2023-10-27T23:07:38.812166",
     "status": "completed"
    },
    "tags": []
   },
   "outputs": [],
   "source": [
    "res_df.to_csv('submission.csv', index=False)"
   ]
  },
  {
   "cell_type": "code",
   "execution_count": null,
   "id": "bee5c40e",
   "metadata": {
    "papermill": {
     "duration": 0.047705,
     "end_time": "2023-10-27T23:07:38.979029",
     "exception": false,
     "start_time": "2023-10-27T23:07:38.931324",
     "status": "completed"
    },
    "tags": []
   },
   "outputs": [],
   "source": []
  }
 ],
 "metadata": {
  "kernelspec": {
   "display_name": "Python 3",
   "language": "python",
   "name": "python3"
  },
  "language_info": {
   "codemirror_mode": {
    "name": "ipython",
    "version": 3
   },
   "file_extension": ".py",
   "mimetype": "text/x-python",
   "name": "python",
   "nbconvert_exporter": "python",
   "pygments_lexer": "ipython3",
   "version": "3.10.12"
  },
  "papermill": {
   "default_parameters": {},
   "duration": 73.32195,
   "end_time": "2023-10-27T23:07:40.049993",
   "environment_variables": {},
   "exception": null,
   "input_path": "__notebook__.ipynb",
   "output_path": "__notebook__.ipynb",
   "parameters": {},
   "start_time": "2023-10-27T23:06:26.728043",
   "version": "2.4.0"
  }
 },
 "nbformat": 4,
 "nbformat_minor": 5
}
