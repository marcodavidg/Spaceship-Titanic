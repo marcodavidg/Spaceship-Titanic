{
 "cells": [
  {
   "cell_type": "code",
   "execution_count": 1,
   "id": "09779c3e",
   "metadata": {
    "_cell_guid": "b1076dfc-b9ad-4769-8c92-a6c4dae69d19",
    "_uuid": "8f2839f25d086af736a60e9eeb907d3b93b6e0e5",
    "execution": {
     "iopub.execute_input": "2023-10-26T23:53:05.907753Z",
     "iopub.status.busy": "2023-10-26T23:53:05.906887Z",
     "iopub.status.idle": "2023-10-26T23:53:07.657706Z",
     "shell.execute_reply": "2023-10-26T23:53:07.656308Z"
    },
    "papermill": {
     "duration": 1.776965,
     "end_time": "2023-10-26T23:53:07.660641",
     "exception": false,
     "start_time": "2023-10-26T23:53:05.883676",
     "status": "completed"
    },
    "tags": []
   },
   "outputs": [],
   "source": [
    "import numpy as np\n",
    "import pandas as pd\n",
    "import matplotlib.pyplot as plt\n",
    "# import xgboost as xgb\n",
    "\n",
    "from sklearn.preprocessing import StandardScaler\n",
    "# from sklearn.impute import KNNImputer, SimpleImputer\n",
    "from sklearn.model_selection import train_test_split\n",
    "# from sklearn.metrics import classification_report, confusion_matrix, accuracy_score\n",
    "# from sklearn.ensemble import RandomForestClassifier, AdaBoostClassifier, GradientBoostingClassifier, HistGradientBoostingClassifier\n",
    "# from tensorflow import keras\n",
    "# from tensorflow.keras import layers"
   ]
  },
  {
   "cell_type": "markdown",
   "id": "d16950ac",
   "metadata": {
    "papermill": {
     "duration": 0.020052,
     "end_time": "2023-10-26T23:53:07.701332",
     "exception": false,
     "start_time": "2023-10-26T23:53:07.681280",
     "status": "completed"
    },
    "tags": []
   },
   "source": [
    "## DATA EXPLORATION"
   ]
  },
  {
   "cell_type": "code",
   "execution_count": 2,
   "id": "9e992759",
   "metadata": {
    "execution": {
     "iopub.execute_input": "2023-10-26T23:53:07.744526Z",
     "iopub.status.busy": "2023-10-26T23:53:07.743879Z",
     "iopub.status.idle": "2023-10-26T23:53:07.842683Z",
     "shell.execute_reply": "2023-10-26T23:53:07.841386Z"
    },
    "papermill": {
     "duration": 0.123755,
     "end_time": "2023-10-26T23:53:07.845763",
     "exception": false,
     "start_time": "2023-10-26T23:53:07.722008",
     "status": "completed"
    },
    "tags": []
   },
   "outputs": [],
   "source": [
    "train_df_org = pd.read_csv('/kaggle/input/spaceship-titanic/train.csv')\n",
    "test_df_org = pd.read_csv('/kaggle/input/spaceship-titanic/test.csv')"
   ]
  },
  {
   "cell_type": "code",
   "execution_count": 3,
   "id": "4f1634ff",
   "metadata": {
    "execution": {
     "iopub.execute_input": "2023-10-26T23:53:07.889047Z",
     "iopub.status.busy": "2023-10-26T23:53:07.888617Z",
     "iopub.status.idle": "2023-10-26T23:53:07.895710Z",
     "shell.execute_reply": "2023-10-26T23:53:07.894749Z"
    },
    "papermill": {
     "duration": 0.03195,
     "end_time": "2023-10-26T23:53:07.898149",
     "exception": false,
     "start_time": "2023-10-26T23:53:07.866199",
     "status": "completed"
    },
    "tags": []
   },
   "outputs": [],
   "source": [
    "train_df = train_df_org.copy()\n",
    "test_df = test_df_org.copy()"
   ]
  },
  {
   "cell_type": "code",
   "execution_count": 4,
   "id": "6d84b7ff",
   "metadata": {
    "execution": {
     "iopub.execute_input": "2023-10-26T23:53:07.940908Z",
     "iopub.status.busy": "2023-10-26T23:53:07.940420Z",
     "iopub.status.idle": "2023-10-26T23:53:07.949651Z",
     "shell.execute_reply": "2023-10-26T23:53:07.948494Z"
    },
    "papermill": {
     "duration": 0.034807,
     "end_time": "2023-10-26T23:53:07.953152",
     "exception": false,
     "start_time": "2023-10-26T23:53:07.918345",
     "status": "completed"
    },
    "tags": []
   },
   "outputs": [
    {
     "data": {
      "text/plain": [
       "Index(['PassengerId', 'HomePlanet', 'CryoSleep', 'Cabin', 'Destination', 'Age',\n",
       "       'VIP', 'RoomService', 'FoodCourt', 'ShoppingMall', 'Spa', 'VRDeck',\n",
       "       'Name', 'Transported'],\n",
       "      dtype='object')"
      ]
     },
     "execution_count": 4,
     "metadata": {},
     "output_type": "execute_result"
    }
   ],
   "source": [
    "train_df.columns"
   ]
  },
  {
   "cell_type": "code",
   "execution_count": 5,
   "id": "21888ff9",
   "metadata": {
    "execution": {
     "iopub.execute_input": "2023-10-26T23:53:07.997129Z",
     "iopub.status.busy": "2023-10-26T23:53:07.996504Z",
     "iopub.status.idle": "2023-10-26T23:53:08.030506Z",
     "shell.execute_reply": "2023-10-26T23:53:08.029559Z"
    },
    "papermill": {
     "duration": 0.058889,
     "end_time": "2023-10-26T23:53:08.032775",
     "exception": false,
     "start_time": "2023-10-26T23:53:07.973886",
     "status": "completed"
    },
    "tags": []
   },
   "outputs": [
    {
     "data": {
      "text/html": [
       "<div>\n",
       "<style scoped>\n",
       "    .dataframe tbody tr th:only-of-type {\n",
       "        vertical-align: middle;\n",
       "    }\n",
       "\n",
       "    .dataframe tbody tr th {\n",
       "        vertical-align: top;\n",
       "    }\n",
       "\n",
       "    .dataframe thead th {\n",
       "        text-align: right;\n",
       "    }\n",
       "</style>\n",
       "<table border=\"1\" class=\"dataframe\">\n",
       "  <thead>\n",
       "    <tr style=\"text-align: right;\">\n",
       "      <th></th>\n",
       "      <th>PassengerId</th>\n",
       "      <th>HomePlanet</th>\n",
       "      <th>CryoSleep</th>\n",
       "      <th>Cabin</th>\n",
       "      <th>Destination</th>\n",
       "      <th>Age</th>\n",
       "      <th>VIP</th>\n",
       "      <th>RoomService</th>\n",
       "      <th>FoodCourt</th>\n",
       "      <th>ShoppingMall</th>\n",
       "      <th>Spa</th>\n",
       "      <th>VRDeck</th>\n",
       "      <th>Name</th>\n",
       "      <th>Transported</th>\n",
       "    </tr>\n",
       "  </thead>\n",
       "  <tbody>\n",
       "    <tr>\n",
       "      <th>0</th>\n",
       "      <td>0001_01</td>\n",
       "      <td>Europa</td>\n",
       "      <td>False</td>\n",
       "      <td>B/0/P</td>\n",
       "      <td>TRAPPIST-1e</td>\n",
       "      <td>39.0</td>\n",
       "      <td>False</td>\n",
       "      <td>0.0</td>\n",
       "      <td>0.0</td>\n",
       "      <td>0.0</td>\n",
       "      <td>0.0</td>\n",
       "      <td>0.0</td>\n",
       "      <td>Maham Ofracculy</td>\n",
       "      <td>False</td>\n",
       "    </tr>\n",
       "    <tr>\n",
       "      <th>1</th>\n",
       "      <td>0002_01</td>\n",
       "      <td>Earth</td>\n",
       "      <td>False</td>\n",
       "      <td>F/0/S</td>\n",
       "      <td>TRAPPIST-1e</td>\n",
       "      <td>24.0</td>\n",
       "      <td>False</td>\n",
       "      <td>109.0</td>\n",
       "      <td>9.0</td>\n",
       "      <td>25.0</td>\n",
       "      <td>549.0</td>\n",
       "      <td>44.0</td>\n",
       "      <td>Juanna Vines</td>\n",
       "      <td>True</td>\n",
       "    </tr>\n",
       "    <tr>\n",
       "      <th>2</th>\n",
       "      <td>0003_01</td>\n",
       "      <td>Europa</td>\n",
       "      <td>False</td>\n",
       "      <td>A/0/S</td>\n",
       "      <td>TRAPPIST-1e</td>\n",
       "      <td>58.0</td>\n",
       "      <td>True</td>\n",
       "      <td>43.0</td>\n",
       "      <td>3576.0</td>\n",
       "      <td>0.0</td>\n",
       "      <td>6715.0</td>\n",
       "      <td>49.0</td>\n",
       "      <td>Altark Susent</td>\n",
       "      <td>False</td>\n",
       "    </tr>\n",
       "    <tr>\n",
       "      <th>3</th>\n",
       "      <td>0003_02</td>\n",
       "      <td>Europa</td>\n",
       "      <td>False</td>\n",
       "      <td>A/0/S</td>\n",
       "      <td>TRAPPIST-1e</td>\n",
       "      <td>33.0</td>\n",
       "      <td>False</td>\n",
       "      <td>0.0</td>\n",
       "      <td>1283.0</td>\n",
       "      <td>371.0</td>\n",
       "      <td>3329.0</td>\n",
       "      <td>193.0</td>\n",
       "      <td>Solam Susent</td>\n",
       "      <td>False</td>\n",
       "    </tr>\n",
       "    <tr>\n",
       "      <th>4</th>\n",
       "      <td>0004_01</td>\n",
       "      <td>Earth</td>\n",
       "      <td>False</td>\n",
       "      <td>F/1/S</td>\n",
       "      <td>TRAPPIST-1e</td>\n",
       "      <td>16.0</td>\n",
       "      <td>False</td>\n",
       "      <td>303.0</td>\n",
       "      <td>70.0</td>\n",
       "      <td>151.0</td>\n",
       "      <td>565.0</td>\n",
       "      <td>2.0</td>\n",
       "      <td>Willy Santantines</td>\n",
       "      <td>True</td>\n",
       "    </tr>\n",
       "  </tbody>\n",
       "</table>\n",
       "</div>"
      ],
      "text/plain": [
       "  PassengerId HomePlanet CryoSleep  Cabin  Destination   Age    VIP  \\\n",
       "0     0001_01     Europa     False  B/0/P  TRAPPIST-1e  39.0  False   \n",
       "1     0002_01      Earth     False  F/0/S  TRAPPIST-1e  24.0  False   \n",
       "2     0003_01     Europa     False  A/0/S  TRAPPIST-1e  58.0   True   \n",
       "3     0003_02     Europa     False  A/0/S  TRAPPIST-1e  33.0  False   \n",
       "4     0004_01      Earth     False  F/1/S  TRAPPIST-1e  16.0  False   \n",
       "\n",
       "   RoomService  FoodCourt  ShoppingMall     Spa  VRDeck               Name  \\\n",
       "0          0.0        0.0           0.0     0.0     0.0    Maham Ofracculy   \n",
       "1        109.0        9.0          25.0   549.0    44.0       Juanna Vines   \n",
       "2         43.0     3576.0           0.0  6715.0    49.0      Altark Susent   \n",
       "3          0.0     1283.0         371.0  3329.0   193.0       Solam Susent   \n",
       "4        303.0       70.0         151.0   565.0     2.0  Willy Santantines   \n",
       "\n",
       "   Transported  \n",
       "0        False  \n",
       "1         True  \n",
       "2        False  \n",
       "3        False  \n",
       "4         True  "
      ]
     },
     "execution_count": 5,
     "metadata": {},
     "output_type": "execute_result"
    }
   ],
   "source": [
    "train_df.head()"
   ]
  },
  {
   "cell_type": "code",
   "execution_count": 6,
   "id": "c99cacce",
   "metadata": {
    "execution": {
     "iopub.execute_input": "2023-10-26T23:53:08.079167Z",
     "iopub.status.busy": "2023-10-26T23:53:08.078476Z",
     "iopub.status.idle": "2023-10-26T23:53:08.095747Z",
     "shell.execute_reply": "2023-10-26T23:53:08.094661Z"
    },
    "papermill": {
     "duration": 0.043891,
     "end_time": "2023-10-26T23:53:08.098290",
     "exception": false,
     "start_time": "2023-10-26T23:53:08.054399",
     "status": "completed"
    },
    "tags": []
   },
   "outputs": [
    {
     "data": {
      "text/plain": [
       "PassengerId       0\n",
       "HomePlanet      201\n",
       "CryoSleep       217\n",
       "Cabin           199\n",
       "Destination     182\n",
       "Age             179\n",
       "VIP             203\n",
       "RoomService     181\n",
       "FoodCourt       183\n",
       "ShoppingMall    208\n",
       "Spa             183\n",
       "VRDeck          188\n",
       "Name            200\n",
       "Transported       0\n",
       "dtype: int64"
      ]
     },
     "execution_count": 6,
     "metadata": {},
     "output_type": "execute_result"
    }
   ],
   "source": [
    "# Checking null counts to fill or discard according to the dtypes and distributions \n",
    "train_df.isnull().sum()"
   ]
  },
  {
   "cell_type": "code",
   "execution_count": 7,
   "id": "8f4b1323",
   "metadata": {
    "execution": {
     "iopub.execute_input": "2023-10-26T23:53:08.143374Z",
     "iopub.status.busy": "2023-10-26T23:53:08.142870Z",
     "iopub.status.idle": "2023-10-26T23:53:08.151855Z",
     "shell.execute_reply": "2023-10-26T23:53:08.150636Z"
    },
    "papermill": {
     "duration": 0.034154,
     "end_time": "2023-10-26T23:53:08.154337",
     "exception": false,
     "start_time": "2023-10-26T23:53:08.120183",
     "status": "completed"
    },
    "tags": []
   },
   "outputs": [
    {
     "data": {
      "text/plain": [
       "PassengerId      object\n",
       "HomePlanet       object\n",
       "CryoSleep        object\n",
       "Cabin            object\n",
       "Destination      object\n",
       "Age             float64\n",
       "VIP              object\n",
       "RoomService     float64\n",
       "FoodCourt       float64\n",
       "ShoppingMall    float64\n",
       "Spa             float64\n",
       "VRDeck          float64\n",
       "Name             object\n",
       "Transported        bool\n",
       "dtype: object"
      ]
     },
     "execution_count": 7,
     "metadata": {},
     "output_type": "execute_result"
    }
   ],
   "source": [
    "# Checking dtypes to adjust data by their dtypes (numeric or not)\n",
    "train_df.dtypes"
   ]
  },
  {
   "cell_type": "code",
   "execution_count": 8,
   "id": "5d83e6ae",
   "metadata": {
    "execution": {
     "iopub.execute_input": "2023-10-26T23:53:08.198982Z",
     "iopub.status.busy": "2023-10-26T23:53:08.198476Z",
     "iopub.status.idle": "2023-10-26T23:53:08.561598Z",
     "shell.execute_reply": "2023-10-26T23:53:08.560562Z"
    },
    "papermill": {
     "duration": 0.388394,
     "end_time": "2023-10-26T23:53:08.563916",
     "exception": false,
     "start_time": "2023-10-26T23:53:08.175522",
     "status": "completed"
    },
    "tags": []
   },
   "outputs": [
    {
     "data": {
      "image/png": "[encoded data removed]",
      "text/plain": [
       "<Figure size 640x480 with 1 Axes>"
      ]
     },
     "metadata": {},
     "output_type": "display_data"
    }
   ],
   "source": [
    "train_df['Transported'].value_counts().plot(kind='bar', color=['blue', 'orange']);"
   ]
  },
  {
   "cell_type": "code",
   "execution_count": 9,
   "id": "94c391b7",
   "metadata": {
    "execution": {
     "iopub.execute_input": "2023-10-26T23:53:08.611395Z",
     "iopub.status.busy": "2023-10-26T23:53:08.610565Z",
     "iopub.status.idle": "2023-10-26T23:53:08.619707Z",
     "shell.execute_reply": "2023-10-26T23:53:08.618479Z"
    },
    "papermill": {
     "duration": 0.034783,
     "end_time": "2023-10-26T23:53:08.622256",
     "exception": false,
     "start_time": "2023-10-26T23:53:08.587473",
     "status": "completed"
    },
    "tags": []
   },
   "outputs": [
    {
     "name": "stdout",
     "output_type": "stream",
     "text": [
      "['Age', 'RoomService', 'FoodCourt', 'ShoppingMall', 'Spa', 'VRDeck']\n",
      "['PassengerId', 'HomePlanet', 'CryoSleep', 'Cabin', 'Destination', 'VIP', 'Name']\n"
     ]
    }
   ],
   "source": [
    "num_columns = [col for col, dtype in train_df.dtypes.items() if dtype == 'float64']\n",
    "str_columns = [col for col, dtype in train_df.dtypes.items() if dtype == 'object']\n",
    "\n",
    "print(num_columns) \n",
    "print(str_columns)"
   ]
  },
  {
   "cell_type": "markdown",
   "id": "49c70748",
   "metadata": {
    "papermill": {
     "duration": 0.021739,
     "end_time": "2023-10-26T23:53:08.665843",
     "exception": false,
     "start_time": "2023-10-26T23:53:08.644104",
     "status": "completed"
    },
    "tags": []
   },
   "source": [
    "## DATA PREPROCESSING"
   ]
  },
  {
   "cell_type": "code",
   "execution_count": 10,
   "id": "fc8ae9c3",
   "metadata": {
    "execution": {
     "iopub.execute_input": "2023-10-26T23:53:08.782526Z",
     "iopub.status.busy": "2023-10-26T23:53:08.781655Z",
     "iopub.status.idle": "2023-10-26T23:53:08.787796Z",
     "shell.execute_reply": "2023-10-26T23:53:08.786491Z"
    },
    "papermill": {
     "duration": 0.032433,
     "end_time": "2023-10-26T23:53:08.790532",
     "exception": false,
     "start_time": "2023-10-26T23:53:08.758099",
     "status": "completed"
    },
    "tags": []
   },
   "outputs": [],
   "source": [
    "# The process will continue with functions to apply all operations directly to the test data after all.\n",
    "def remove_unneccessary_cols(df, col_names_to_remove):\n",
    "    \n",
    "    for col in col_names_to_remove:\n",
    "        if col in df.columns:\n",
    "            df.drop(col_names_to_remove, axis=1, inplace=True)\n",
    "            \n",
    "    return df"
   ]
  },
  {
   "cell_type": "markdown",
   "id": "b94db0d4",
   "metadata": {
    "papermill": {
     "duration": 0.021429,
     "end_time": "2023-10-26T23:53:08.834404",
     "exception": false,
     "start_time": "2023-10-26T23:53:08.812975",
     "status": "completed"
    },
    "tags": []
   },
   "source": [
    "Name and PassengerID columns are irrelevant for training."
   ]
  },
  {
   "cell_type": "code",
   "execution_count": 11,
   "id": "7bc67436",
   "metadata": {
    "execution": {
     "iopub.execute_input": "2023-10-26T23:53:08.880909Z",
     "iopub.status.busy": "2023-10-26T23:53:08.880423Z",
     "iopub.status.idle": "2023-10-26T23:53:08.893785Z",
     "shell.execute_reply": "2023-10-26T23:53:08.892749Z"
    },
    "papermill": {
     "duration": 0.04051,
     "end_time": "2023-10-26T23:53:08.896532",
     "exception": false,
     "start_time": "2023-10-26T23:53:08.856022",
     "status": "completed"
    },
    "tags": []
   },
   "outputs": [],
   "source": [
    "cols = ['Name', 'PassengerId']\n",
    "train_df = remove_unneccessary_cols(train_df, cols)"
   ]
  },
  {
   "cell_type": "code",
   "execution_count": 12,
   "id": "e855f0fb",
   "metadata": {
    "execution": {
     "iopub.execute_input": "2023-10-26T23:53:08.941657Z",
     "iopub.status.busy": "2023-10-26T23:53:08.941183Z",
     "iopub.status.idle": "2023-10-26T23:53:08.949586Z",
     "shell.execute_reply": "2023-10-26T23:53:08.948485Z"
    },
    "papermill": {
     "duration": 0.034086,
     "end_time": "2023-10-26T23:53:08.952195",
     "exception": false,
     "start_time": "2023-10-26T23:53:08.918109",
     "status": "completed"
    },
    "tags": []
   },
   "outputs": [
    {
     "data": {
      "text/plain": [
       "Index(['HomePlanet', 'CryoSleep', 'Cabin', 'Destination', 'Age', 'VIP',\n",
       "       'RoomService', 'FoodCourt', 'ShoppingMall', 'Spa', 'VRDeck',\n",
       "       'Transported'],\n",
       "      dtype='object')"
      ]
     },
     "execution_count": 12,
     "metadata": {},
     "output_type": "execute_result"
    }
   ],
   "source": [
    "train_df.columns"
   ]
  },
  {
   "cell_type": "markdown",
   "id": "6e5009a7",
   "metadata": {
    "papermill": {
     "duration": 0.022305,
     "end_time": "2023-10-26T23:53:08.997610",
     "exception": false,
     "start_time": "2023-10-26T23:53:08.975305",
     "status": "completed"
    },
    "tags": []
   },
   "source": [
    "### Numeric Columns Preprocessing"
   ]
  },
  {
   "cell_type": "code",
   "execution_count": 13,
   "id": "2744a1ff",
   "metadata": {
    "execution": {
     "iopub.execute_input": "2023-10-26T23:53:09.045854Z",
     "iopub.status.busy": "2023-10-26T23:53:09.045108Z",
     "iopub.status.idle": "2023-10-26T23:53:12.283205Z",
     "shell.execute_reply": "2023-10-26T23:53:12.281766Z"
    },
    "papermill": {
     "duration": 3.265047,
     "end_time": "2023-10-26T23:53:12.285830",
     "exception": false,
     "start_time": "2023-10-26T23:53:09.020783",
     "status": "completed"
    },
    "tags": []
   },
   "outputs": [
    {
     "name": "stdout",
     "output_type": "stream",
     "text": [
      "min:0.0 | max: 79.0\n"
     ]
    },
    {
     "data": {
      "image/png": "[encoded data removed]",
      "text/plain": [
       "<Figure size 800x400 with 1 Axes>"
      ]
     },
     "metadata": {},
     "output_type": "display_data"
    },
    {
     "name": "stdout",
     "output_type": "stream",
     "text": [
      "min:0.0 | max: 14327.0\n"
     ]
    },
    {
     "data": {
      "image/png": "[encoded data removed]",
      "text/plain": [
       "<Figure size 800x400 with 1 Axes>"
      ]
     },
     "metadata": {},
     "output_type": "display_data"
    },
    {
     "name": "stdout",
     "output_type": "stream",
     "text": [
      "min:0.0 | max: 29813.0\n"
     ]
    },
    {
     "data": {
      "image/png": "[encoded data removed]",
      "text/plain": [
       "<Figure size 800x400 with 1 Axes>"
      ]
     },
     "metadata": {},
     "output_type": "display_data"
    },
    {
     "name": "stdout",
     "output_type": "stream",
     "text": [
      "min:0.0 | max: 23492.0\n"
     ]
    },
    {
     "data": {
      "image/png": "[encoded data removed]",
      "text/plain": [
       "<Figure size 800x400 with 1 Axes>"
      ]
     },
     "metadata": {},
     "output_type": "display_data"
    },
    {
     "name": "stdout",
     "output_type": "stream",
     "text": [
      "min:0.0 | max: 22408.0\n"
     ]
    },
    {
     "data": {
      "image/png": "[encoded data removed]",
      "text/plain": [
       "<Figure size 800x400 with 1 Axes>"
      ]
     },
     "metadata": {},
     "output_type": "display_data"
    },
    {
     "name": "stdout",
     "output_type": "stream",
     "text": [
      "min:0.0 | max: 24133.0\n"
     ]
    },
    {
     "data": {
      "image/png": "[encoded data removed]",
      "text/plain": [
       "<Figure size 800x400 with 1 Axes>"
      ]
     },
     "metadata": {},
     "output_type": "display_data"
    }
   ],
   "source": [
    "# Checkinge distributions of the numeric columns.\n",
    "# Bar Chart didn't show anything due to the skewness of the data\n",
    "\n",
    "for col in num_columns:\n",
    "    \n",
    "    min_val = train_df[col].min()\n",
    "    max_val = train_df[col].max()\n",
    "    \n",
    "    plt.figure(figsize=(8, 4))\n",
    "    plt.title(col)\n",
    "    plt.ylabel('Count')\n",
    "    \n",
    "    print(f\"min:{min_val} | max: {max_val}\")\n",
    "    \n",
    "    train_df[col].plot(kind='kde')\n",
    "\n",
    "    plt.show()"
   ]
  },
  {
   "cell_type": "code",
   "execution_count": 14,
   "id": "06e52e08",
   "metadata": {
    "execution": {
     "iopub.execute_input": "2023-10-26T23:53:12.342757Z",
     "iopub.status.busy": "2023-10-26T23:53:12.341425Z",
     "iopub.status.idle": "2023-10-26T23:53:12.376400Z",
     "shell.execute_reply": "2023-10-26T23:53:12.375056Z"
    },
    "papermill": {
     "duration": 0.065003,
     "end_time": "2023-10-26T23:53:12.379158",
     "exception": false,
     "start_time": "2023-10-26T23:53:12.314155",
     "status": "completed"
    },
    "tags": []
   },
   "outputs": [
    {
     "data": {
      "text/html": [
       "<div>\n",
       "<style scoped>\n",
       "    .dataframe tbody tr th:only-of-type {\n",
       "        vertical-align: middle;\n",
       "    }\n",
       "\n",
       "    .dataframe tbody tr th {\n",
       "        vertical-align: top;\n",
       "    }\n",
       "\n",
       "    .dataframe thead th {\n",
       "        text-align: right;\n",
       "    }\n",
       "</style>\n",
       "<table border=\"1\" class=\"dataframe\">\n",
       "  <thead>\n",
       "    <tr style=\"text-align: right;\">\n",
       "      <th></th>\n",
       "      <th>HomePlanet</th>\n",
       "      <th>CryoSleep</th>\n",
       "      <th>Cabin</th>\n",
       "      <th>Destination</th>\n",
       "      <th>VIP</th>\n",
       "      <th>RoomService</th>\n",
       "      <th>FoodCourt</th>\n",
       "      <th>ShoppingMall</th>\n",
       "      <th>Spa</th>\n",
       "      <th>VRDeck</th>\n",
       "      <th>Transported</th>\n",
       "      <th>AgeGroup</th>\n",
       "    </tr>\n",
       "  </thead>\n",
       "  <tbody>\n",
       "    <tr>\n",
       "      <th>0</th>\n",
       "      <td>Europa</td>\n",
       "      <td>False</td>\n",
       "      <td>B/0/P</td>\n",
       "      <td>TRAPPIST-1e</td>\n",
       "      <td>False</td>\n",
       "      <td>0.0</td>\n",
       "      <td>0.0</td>\n",
       "      <td>0.0</td>\n",
       "      <td>0.0</td>\n",
       "      <td>0.0</td>\n",
       "      <td>False</td>\n",
       "      <td>Adult</td>\n",
       "    </tr>\n",
       "    <tr>\n",
       "      <th>1</th>\n",
       "      <td>Earth</td>\n",
       "      <td>False</td>\n",
       "      <td>F/0/S</td>\n",
       "      <td>TRAPPIST-1e</td>\n",
       "      <td>False</td>\n",
       "      <td>109.0</td>\n",
       "      <td>9.0</td>\n",
       "      <td>25.0</td>\n",
       "      <td>549.0</td>\n",
       "      <td>44.0</td>\n",
       "      <td>True</td>\n",
       "      <td>Teen</td>\n",
       "    </tr>\n",
       "    <tr>\n",
       "      <th>2</th>\n",
       "      <td>Europa</td>\n",
       "      <td>False</td>\n",
       "      <td>A/0/S</td>\n",
       "      <td>TRAPPIST-1e</td>\n",
       "      <td>True</td>\n",
       "      <td>43.0</td>\n",
       "      <td>3576.0</td>\n",
       "      <td>0.0</td>\n",
       "      <td>6715.0</td>\n",
       "      <td>49.0</td>\n",
       "      <td>False</td>\n",
       "      <td>Senior</td>\n",
       "    </tr>\n",
       "    <tr>\n",
       "      <th>3</th>\n",
       "      <td>Europa</td>\n",
       "      <td>False</td>\n",
       "      <td>A/0/S</td>\n",
       "      <td>TRAPPIST-1e</td>\n",
       "      <td>False</td>\n",
       "      <td>0.0</td>\n",
       "      <td>1283.0</td>\n",
       "      <td>371.0</td>\n",
       "      <td>3329.0</td>\n",
       "      <td>193.0</td>\n",
       "      <td>False</td>\n",
       "      <td>Adult</td>\n",
       "    </tr>\n",
       "    <tr>\n",
       "      <th>4</th>\n",
       "      <td>Earth</td>\n",
       "      <td>False</td>\n",
       "      <td>F/1/S</td>\n",
       "      <td>TRAPPIST-1e</td>\n",
       "      <td>False</td>\n",
       "      <td>303.0</td>\n",
       "      <td>70.0</td>\n",
       "      <td>151.0</td>\n",
       "      <td>565.0</td>\n",
       "      <td>2.0</td>\n",
       "      <td>True</td>\n",
       "      <td>Child</td>\n",
       "    </tr>\n",
       "  </tbody>\n",
       "</table>\n",
       "</div>"
      ],
      "text/plain": [
       "  HomePlanet CryoSleep  Cabin  Destination    VIP  RoomService  FoodCourt  \\\n",
       "0     Europa     False  B/0/P  TRAPPIST-1e  False          0.0        0.0   \n",
       "1      Earth     False  F/0/S  TRAPPIST-1e  False        109.0        9.0   \n",
       "2     Europa     False  A/0/S  TRAPPIST-1e   True         43.0     3576.0   \n",
       "3     Europa     False  A/0/S  TRAPPIST-1e  False          0.0     1283.0   \n",
       "4      Earth     False  F/1/S  TRAPPIST-1e  False        303.0       70.0   \n",
       "\n",
       "   ShoppingMall     Spa  VRDeck  Transported AgeGroup  \n",
       "0           0.0     0.0     0.0        False    Adult  \n",
       "1          25.0   549.0    44.0         True     Teen  \n",
       "2           0.0  6715.0    49.0        False   Senior  \n",
       "3         371.0  3329.0   193.0        False    Adult  \n",
       "4         151.0   565.0     2.0         True    Child  "
      ]
     },
     "execution_count": 14,
     "metadata": {},
     "output_type": "execute_result"
    }
   ],
   "source": [
    "# We can make the age column categorical.\n",
    "\n",
    "def make_age_categorical(df):\n",
    "    \n",
    "    age_bins = [-1, 18, 30, 45, 60, 100]\n",
    "    age_labels = ['Child', 'Teen', 'Adult', 'Senior', 'Old']\n",
    "    df['AgeGroup'] = pd.cut(df.loc[~df['Age'].isna(), 'Age'], bins=age_bins, labels=age_labels)\n",
    "    # drop the original age column because it is unnecessary anymore\n",
    "    df.drop('Age', axis=1, inplace=True)\n",
    "    \n",
    "    return df\n",
    "\n",
    "\n",
    "num_columns.remove('Age')\n",
    "train_df = make_age_categorical(train_df)\n",
    "train_df.head()"
   ]
  },
  {
   "cell_type": "markdown",
   "id": "af1c224d",
   "metadata": {
    "papermill": {
     "duration": 0.025828,
     "end_time": "2023-10-26T23:53:12.430888",
     "exception": false,
     "start_time": "2023-10-26T23:53:12.405060",
     "status": "completed"
    },
    "tags": []
   },
   "source": [
    "### Anomaly Detection using IQR"
   ]
  },
  {
   "cell_type": "markdown",
   "id": "f85cbff5",
   "metadata": {
    "papermill": {
     "duration": 0.025866,
     "end_time": "2023-10-26T23:53:12.482622",
     "exception": false,
     "start_time": "2023-10-26T23:53:12.456756",
     "status": "completed"
    },
    "tags": []
   },
   "source": [
    "When I apply anomaly detection null values are vanishing for a column. So first, I keep the null values in a different variable, then merge it after removing the anomalies. After anomalies are removed, null values can be imputed more accuractely."
   ]
  },
  {
   "cell_type": "code",
   "execution_count": 15,
   "id": "13f0912c",
   "metadata": {
    "execution": {
     "iopub.execute_input": "2023-10-26T23:53:12.536551Z",
     "iopub.status.busy": "2023-10-26T23:53:12.536165Z",
     "iopub.status.idle": "2023-10-26T23:53:12.543913Z",
     "shell.execute_reply": "2023-10-26T23:53:12.542702Z"
    },
    "papermill": {
     "duration": 0.037677,
     "end_time": "2023-10-26T23:53:12.546229",
     "exception": false,
     "start_time": "2023-10-26T23:53:12.508552",
     "status": "completed"
    },
    "tags": []
   },
   "outputs": [],
   "source": [
    "def remove_anomalies(df, column_names, multiplier=1.5):\n",
    "    \n",
    "    for col in column_names:\n",
    "        \n",
    "        null_df = df[df[col].isna()]\n",
    "        \n",
    "        Q1 = df[col].quantile(0.01)\n",
    "        Q3 = df[col].quantile(0.99)\n",
    "\n",
    "        IQR = Q3 - Q1\n",
    "\n",
    "        lower_bound = Q1 - (multiplier * IQR)\n",
    "        upper_bound = Q3 + (multiplier * IQR)\n",
    "\n",
    "        df = df[(df[col] >= lower_bound) & (df[col] <= upper_bound)]\n",
    "        df = pd.concat([df, null_df])\n",
    "        \n",
    "    return df"
   ]
  },
  {
   "cell_type": "code",
   "execution_count": 16,
   "id": "abc8827c",
   "metadata": {
    "execution": {
     "iopub.execute_input": "2023-10-26T23:53:12.603041Z",
     "iopub.status.busy": "2023-10-26T23:53:12.602260Z",
     "iopub.status.idle": "2023-10-26T23:53:12.610142Z",
     "shell.execute_reply": "2023-10-26T23:53:12.609089Z"
    },
    "papermill": {
     "duration": 0.040093,
     "end_time": "2023-10-26T23:53:12.612335",
     "exception": false,
     "start_time": "2023-10-26T23:53:12.572242",
     "status": "completed"
    },
    "tags": []
   },
   "outputs": [
    {
     "data": {
      "text/plain": [
       "8693"
      ]
     },
     "execution_count": 16,
     "metadata": {},
     "output_type": "execute_result"
    }
   ],
   "source": [
    "len(train_df)"
   ]
  },
  {
   "cell_type": "code",
   "execution_count": 17,
   "id": "2495cdec",
   "metadata": {
    "execution": {
     "iopub.execute_input": "2023-10-26T23:53:12.667386Z",
     "iopub.status.busy": "2023-10-26T23:53:12.666689Z",
     "iopub.status.idle": "2023-10-26T23:53:12.716100Z",
     "shell.execute_reply": "2023-10-26T23:53:12.714713Z"
    },
    "papermill": {
     "duration": 0.079925,
     "end_time": "2023-10-26T23:53:12.718385",
     "exception": false,
     "start_time": "2023-10-26T23:53:12.638460",
     "status": "completed"
    },
    "tags": []
   },
   "outputs": [
    {
     "name": "stdout",
     "output_type": "stream",
     "text": [
      "8693\n"
     ]
    },
    {
     "data": {
      "text/plain": [
       "(  HomePlanet CryoSleep  Cabin  Destination    VIP  RoomService  FoodCourt  \\\n",
       " 0     Europa     False  B/0/P  TRAPPIST-1e  False          0.0        0.0   \n",
       " 1      Earth     False  F/0/S  TRAPPIST-1e  False        109.0        9.0   \n",
       " 2     Europa     False  A/0/S  TRAPPIST-1e   True         43.0     3576.0   \n",
       " 3     Europa     False  A/0/S  TRAPPIST-1e  False          0.0     1283.0   \n",
       " 4      Earth     False  F/1/S  TRAPPIST-1e  False        303.0       70.0   \n",
       " \n",
       "    ShoppingMall     Spa  VRDeck  Transported AgeGroup  \n",
       " 0           0.0     0.0     0.0        False    Adult  \n",
       " 1          25.0   549.0    44.0         True     Teen  \n",
       " 2           0.0  6715.0    49.0        False   Senior  \n",
       " 3         371.0  3329.0   193.0        False    Adult  \n",
       " 4         151.0   565.0     2.0         True    Child  ,\n",
       " 8649)"
      ]
     },
     "execution_count": 17,
     "metadata": {},
     "output_type": "execute_result"
    }
   ],
   "source": [
    "print(len(train_df)) # check len before removing anomalies to see how many data is removed.\n",
    "train_df = remove_anomalies(train_df, num_columns)\n",
    "train_df.head(), len(train_df)"
   ]
  },
  {
   "cell_type": "markdown",
   "id": "cc396580",
   "metadata": {
    "papermill": {
     "duration": 0.026456,
     "end_time": "2023-10-26T23:53:12.771852",
     "exception": false,
     "start_time": "2023-10-26T23:53:12.745396",
     "status": "completed"
    },
    "tags": []
   },
   "source": [
    "### Standardizing numerical columns"
   ]
  },
  {
   "cell_type": "code",
   "execution_count": 18,
   "id": "52803f94",
   "metadata": {
    "execution": {
     "iopub.execute_input": "2023-10-26T23:53:12.827529Z",
     "iopub.status.busy": "2023-10-26T23:53:12.826635Z",
     "iopub.status.idle": "2023-10-26T23:53:12.831615Z",
     "shell.execute_reply": "2023-10-26T23:53:12.830837Z"
    },
    "papermill": {
     "duration": 0.035322,
     "end_time": "2023-10-26T23:53:12.833909",
     "exception": false,
     "start_time": "2023-10-26T23:53:12.798587",
     "status": "completed"
    },
    "tags": []
   },
   "outputs": [],
   "source": [
    "def standardize_num_columns(df, columns):\n",
    "    \n",
    "    scaler = StandardScaler()\n",
    "    df[columns] = scaler.fit_transform(df[columns])\n",
    "    \n",
    "    return df"
   ]
  },
  {
   "cell_type": "code",
   "execution_count": 19,
   "id": "72a5eac7",
   "metadata": {
    "execution": {
     "iopub.execute_input": "2023-10-26T23:53:12.890149Z",
     "iopub.status.busy": "2023-10-26T23:53:12.889492Z",
     "iopub.status.idle": "2023-10-26T23:53:12.895977Z",
     "shell.execute_reply": "2023-10-26T23:53:12.894487Z"
    },
    "papermill": {
     "duration": 0.037546,
     "end_time": "2023-10-26T23:53:12.898408",
     "exception": false,
     "start_time": "2023-10-26T23:53:12.860862",
     "status": "completed"
    },
    "tags": []
   },
   "outputs": [
    {
     "data": {
      "text/plain": [
       "['RoomService', 'FoodCourt', 'ShoppingMall', 'Spa', 'VRDeck']"
      ]
     },
     "execution_count": 19,
     "metadata": {},
     "output_type": "execute_result"
    }
   ],
   "source": [
    "num_columns"
   ]
  },
  {
   "cell_type": "code",
   "execution_count": 20,
   "id": "c1d9d120",
   "metadata": {
    "execution": {
     "iopub.execute_input": "2023-10-26T23:53:12.954677Z",
     "iopub.status.busy": "2023-10-26T23:53:12.954265Z",
     "iopub.status.idle": "2023-10-26T23:53:12.965556Z",
     "shell.execute_reply": "2023-10-26T23:53:12.964703Z"
    },
    "papermill": {
     "duration": 0.04244,
     "end_time": "2023-10-26T23:53:12.968259",
     "exception": false,
     "start_time": "2023-10-26T23:53:12.925819",
     "status": "completed"
    },
    "tags": []
   },
   "outputs": [],
   "source": [
    "train_df = standardize_num_columns(train_df, num_columns)"
   ]
  },
  {
   "cell_type": "code",
   "execution_count": 21,
   "id": "344fb438",
   "metadata": {
    "execution": {
     "iopub.execute_input": "2023-10-26T23:53:13.027474Z",
     "iopub.status.busy": "2023-10-26T23:53:13.026666Z",
     "iopub.status.idle": "2023-10-26T23:53:13.046290Z",
     "shell.execute_reply": "2023-10-26T23:53:13.045234Z"
    },
    "papermill": {
     "duration": 0.053615,
     "end_time": "2023-10-26T23:53:13.048610",
     "exception": false,
     "start_time": "2023-10-26T23:53:12.994995",
     "status": "completed"
    },
    "tags": []
   },
   "outputs": [
    {
     "data": {
      "text/html": [
       "<div>\n",
       "<style scoped>\n",
       "    .dataframe tbody tr th:only-of-type {\n",
       "        vertical-align: middle;\n",
       "    }\n",
       "\n",
       "    .dataframe tbody tr th {\n",
       "        vertical-align: top;\n",
       "    }\n",
       "\n",
       "    .dataframe thead th {\n",
       "        text-align: right;\n",
       "    }\n",
       "</style>\n",
       "<table border=\"1\" class=\"dataframe\">\n",
       "  <thead>\n",
       "    <tr style=\"text-align: right;\">\n",
       "      <th></th>\n",
       "      <th>HomePlanet</th>\n",
       "      <th>CryoSleep</th>\n",
       "      <th>Cabin</th>\n",
       "      <th>Destination</th>\n",
       "      <th>VIP</th>\n",
       "      <th>RoomService</th>\n",
       "      <th>FoodCourt</th>\n",
       "      <th>ShoppingMall</th>\n",
       "      <th>Spa</th>\n",
       "      <th>VRDeck</th>\n",
       "      <th>Transported</th>\n",
       "      <th>AgeGroup</th>\n",
       "    </tr>\n",
       "  </thead>\n",
       "  <tbody>\n",
       "    <tr>\n",
       "      <th>0</th>\n",
       "      <td>Europa</td>\n",
       "      <td>False</td>\n",
       "      <td>B/0/P</td>\n",
       "      <td>TRAPPIST-1e</td>\n",
       "      <td>False</td>\n",
       "      <td>-0.359961</td>\n",
       "      <td>-0.297860</td>\n",
       "      <td>-0.352491</td>\n",
       "      <td>-0.293324</td>\n",
       "      <td>-0.280320</td>\n",
       "      <td>False</td>\n",
       "      <td>Adult</td>\n",
       "    </tr>\n",
       "    <tr>\n",
       "      <th>1</th>\n",
       "      <td>Earth</td>\n",
       "      <td>False</td>\n",
       "      <td>F/0/S</td>\n",
       "      <td>TRAPPIST-1e</td>\n",
       "      <td>False</td>\n",
       "      <td>-0.177836</td>\n",
       "      <td>-0.291700</td>\n",
       "      <td>-0.297105</td>\n",
       "      <td>0.264363</td>\n",
       "      <td>-0.237639</td>\n",
       "      <td>True</td>\n",
       "      <td>Teen</td>\n",
       "    </tr>\n",
       "    <tr>\n",
       "      <th>2</th>\n",
       "      <td>Europa</td>\n",
       "      <td>False</td>\n",
       "      <td>A/0/S</td>\n",
       "      <td>TRAPPIST-1e</td>\n",
       "      <td>True</td>\n",
       "      <td>-0.288114</td>\n",
       "      <td>2.150043</td>\n",
       "      <td>-0.352491</td>\n",
       "      <td>6.527927</td>\n",
       "      <td>-0.232789</td>\n",
       "      <td>False</td>\n",
       "      <td>Senior</td>\n",
       "    </tr>\n",
       "    <tr>\n",
       "      <th>3</th>\n",
       "      <td>Europa</td>\n",
       "      <td>False</td>\n",
       "      <td>A/0/S</td>\n",
       "      <td>TRAPPIST-1e</td>\n",
       "      <td>False</td>\n",
       "      <td>-0.359961</td>\n",
       "      <td>0.580400</td>\n",
       "      <td>0.469440</td>\n",
       "      <td>3.088351</td>\n",
       "      <td>-0.093104</td>\n",
       "      <td>False</td>\n",
       "      <td>Adult</td>\n",
       "    </tr>\n",
       "    <tr>\n",
       "      <th>4</th>\n",
       "      <td>Earth</td>\n",
       "      <td>False</td>\n",
       "      <td>F/1/S</td>\n",
       "      <td>TRAPPIST-1e</td>\n",
       "      <td>False</td>\n",
       "      <td>0.146315</td>\n",
       "      <td>-0.249943</td>\n",
       "      <td>-0.017958</td>\n",
       "      <td>0.280616</td>\n",
       "      <td>-0.278380</td>\n",
       "      <td>True</td>\n",
       "      <td>Child</td>\n",
       "    </tr>\n",
       "  </tbody>\n",
       "</table>\n",
       "</div>"
      ],
      "text/plain": [
       "  HomePlanet CryoSleep  Cabin  Destination    VIP  RoomService  FoodCourt  \\\n",
       "0     Europa     False  B/0/P  TRAPPIST-1e  False    -0.359961  -0.297860   \n",
       "1      Earth     False  F/0/S  TRAPPIST-1e  False    -0.177836  -0.291700   \n",
       "2     Europa     False  A/0/S  TRAPPIST-1e   True    -0.288114   2.150043   \n",
       "3     Europa     False  A/0/S  TRAPPIST-1e  False    -0.359961   0.580400   \n",
       "4      Earth     False  F/1/S  TRAPPIST-1e  False     0.146315  -0.249943   \n",
       "\n",
       "   ShoppingMall       Spa    VRDeck  Transported AgeGroup  \n",
       "0     -0.352491 -0.293324 -0.280320        False    Adult  \n",
       "1     -0.297105  0.264363 -0.237639         True     Teen  \n",
       "2     -0.352491  6.527927 -0.232789        False   Senior  \n",
       "3      0.469440  3.088351 -0.093104        False    Adult  \n",
       "4     -0.017958  0.280616 -0.278380         True    Child  "
      ]
     },
     "execution_count": 21,
     "metadata": {},
     "output_type": "execute_result"
    }
   ],
   "source": [
    "train_df.head()"
   ]
  },
  {
   "cell_type": "markdown",
   "id": "200ae000",
   "metadata": {
    "papermill": {
     "duration": 0.026546,
     "end_time": "2023-10-26T23:53:13.102679",
     "exception": false,
     "start_time": "2023-10-26T23:53:13.076133",
     "status": "completed"
    },
    "tags": []
   },
   "source": [
    "### Imputing null values for numeric columns"
   ]
  },
  {
   "cell_type": "code",
   "execution_count": 22,
   "id": "919fc0b3",
   "metadata": {
    "execution": {
     "iopub.execute_input": "2023-10-26T23:53:13.160376Z",
     "iopub.status.busy": "2023-10-26T23:53:13.159029Z",
     "iopub.status.idle": "2023-10-26T23:53:13.165425Z",
     "shell.execute_reply": "2023-10-26T23:53:13.164174Z"
    },
    "papermill": {
     "duration": 0.037796,
     "end_time": "2023-10-26T23:53:13.167680",
     "exception": false,
     "start_time": "2023-10-26T23:53:13.129884",
     "status": "completed"
    },
    "tags": []
   },
   "outputs": [],
   "source": [
    "def impute_numeric_cols(df, columns):\n",
    "    \n",
    "    for col in columns:\n",
    "        \n",
    "        df[col].fillna(df[col].median(), inplace=True)\n",
    "\n",
    "    return df"
   ]
  },
  {
   "cell_type": "code",
   "execution_count": 23,
   "id": "e55a1641",
   "metadata": {
    "execution": {
     "iopub.execute_input": "2023-10-26T23:53:13.225257Z",
     "iopub.status.busy": "2023-10-26T23:53:13.224256Z",
     "iopub.status.idle": "2023-10-26T23:53:13.235001Z",
     "shell.execute_reply": "2023-10-26T23:53:13.233722Z"
    },
    "papermill": {
     "duration": 0.042192,
     "end_time": "2023-10-26T23:53:13.237569",
     "exception": false,
     "start_time": "2023-10-26T23:53:13.195377",
     "status": "completed"
    },
    "tags": []
   },
   "outputs": [],
   "source": [
    "train_df = impute_numeric_cols(train_df, num_columns)"
   ]
  },
  {
   "cell_type": "code",
   "execution_count": 24,
   "id": "9d0a9431",
   "metadata": {
    "execution": {
     "iopub.execute_input": "2023-10-26T23:53:13.293100Z",
     "iopub.status.busy": "2023-10-26T23:53:13.292569Z",
     "iopub.status.idle": "2023-10-26T23:53:13.309357Z",
     "shell.execute_reply": "2023-10-26T23:53:13.308027Z"
    },
    "papermill": {
     "duration": 0.047356,
     "end_time": "2023-10-26T23:53:13.311843",
     "exception": false,
     "start_time": "2023-10-26T23:53:13.264487",
     "status": "completed"
    },
    "tags": []
   },
   "outputs": [
    {
     "data": {
      "text/plain": [
       "HomePlanet      200\n",
       "CryoSleep       216\n",
       "Cabin           197\n",
       "Destination     181\n",
       "VIP             202\n",
       "RoomService       0\n",
       "FoodCourt         0\n",
       "ShoppingMall      0\n",
       "Spa               0\n",
       "VRDeck            0\n",
       "Transported       0\n",
       "AgeGroup        179\n",
       "dtype: int64"
      ]
     },
     "execution_count": 24,
     "metadata": {},
     "output_type": "execute_result"
    }
   ],
   "source": [
    "train_df.isna().sum()"
   ]
  },
  {
   "cell_type": "markdown",
   "id": "600f1c7e",
   "metadata": {
    "papermill": {
     "duration": 0.028071,
     "end_time": "2023-10-26T23:53:13.367911",
     "exception": false,
     "start_time": "2023-10-26T23:53:13.339840",
     "status": "completed"
    },
    "tags": []
   },
   "source": [
    "## Categorical Columns Preprocessing"
   ]
  },
  {
   "cell_type": "code",
   "execution_count": 25,
   "id": "b47e6ccb",
   "metadata": {
    "execution": {
     "iopub.execute_input": "2023-10-26T23:53:13.426130Z",
     "iopub.status.busy": "2023-10-26T23:53:13.425233Z",
     "iopub.status.idle": "2023-10-26T23:53:13.433613Z",
     "shell.execute_reply": "2023-10-26T23:53:13.432406Z"
    },
    "papermill": {
     "duration": 0.040639,
     "end_time": "2023-10-26T23:53:13.435963",
     "exception": false,
     "start_time": "2023-10-26T23:53:13.395324",
     "status": "completed"
    },
    "tags": []
   },
   "outputs": [
    {
     "data": {
      "text/plain": [
       "['HomePlanet', 'CryoSleep', 'Cabin', 'Destination', 'VIP', 'AgeGroup']"
      ]
     },
     "execution_count": 25,
     "metadata": {},
     "output_type": "execute_result"
    }
   ],
   "source": [
    "str_columns.append('AgeGroup')\n",
    "str_columns.remove('PassengerId')\n",
    "str_columns.remove('Name')\n",
    "\n",
    "str_columns"
   ]
  },
  {
   "cell_type": "code",
   "execution_count": 26,
   "id": "4e2a1338",
   "metadata": {
    "execution": {
     "iopub.execute_input": "2023-10-26T23:53:13.494071Z",
     "iopub.status.busy": "2023-10-26T23:53:13.493189Z",
     "iopub.status.idle": "2023-10-26T23:53:13.512593Z",
     "shell.execute_reply": "2023-10-26T23:53:13.511623Z"
    },
    "papermill": {
     "duration": 0.051384,
     "end_time": "2023-10-26T23:53:13.514918",
     "exception": false,
     "start_time": "2023-10-26T23:53:13.463534",
     "status": "completed"
    },
    "tags": []
   },
   "outputs": [
    {
     "data": {
      "text/plain": [
       "HomePlanet        3\n",
       "CryoSleep         2\n",
       "Cabin          6540\n",
       "Destination       3\n",
       "VIP               2\n",
       "AgeGroup          5\n",
       "dtype: int64"
      ]
     },
     "execution_count": 26,
     "metadata": {},
     "output_type": "execute_result"
    }
   ],
   "source": [
    "train_df[str_columns].nunique()"
   ]
  },
  {
   "cell_type": "markdown",
   "id": "9be7d00f",
   "metadata": {
    "papermill": {
     "duration": 0.026926,
     "end_time": "2023-10-26T23:53:13.569186",
     "exception": false,
     "start_time": "2023-10-26T23:53:13.542260",
     "status": "completed"
    },
    "tags": []
   },
   "source": [
    "### VIP and CyroSleep columns are mapped to 0 and 1"
   ]
  },
  {
   "cell_type": "code",
   "execution_count": 27,
   "id": "7ee5c0e8",
   "metadata": {
    "execution": {
     "iopub.execute_input": "2023-10-26T23:53:13.628294Z",
     "iopub.status.busy": "2023-10-26T23:53:13.627850Z",
     "iopub.status.idle": "2023-10-26T23:53:13.633633Z",
     "shell.execute_reply": "2023-10-26T23:53:13.632785Z"
    },
    "papermill": {
     "duration": 0.039321,
     "end_time": "2023-10-26T23:53:13.635720",
     "exception": false,
     "start_time": "2023-10-26T23:53:13.596399",
     "status": "completed"
    },
    "tags": []
   },
   "outputs": [],
   "source": [
    "# VIP and CyroSleep columns are true or false values. So we can convert them as 0 and 1 using mapping easily.\n",
    "\n",
    "def map_vip_and_cryosleep(df):\n",
    "    \n",
    "    mapping = {False: 0., True:1.}\n",
    "    df['VIP'] = df['VIP'].map(mapping)\n",
    "    df['CryoSleep'] = df['CryoSleep'].map(mapping)\n",
    "    \n",
    "    return df"
   ]
  },
  {
   "cell_type": "code",
   "execution_count": 28,
   "id": "504e5ca1",
   "metadata": {
    "execution": {
     "iopub.execute_input": "2023-10-26T23:53:13.692624Z",
     "iopub.status.busy": "2023-10-26T23:53:13.692145Z",
     "iopub.status.idle": "2023-10-26T23:53:13.707908Z",
     "shell.execute_reply": "2023-10-26T23:53:13.706251Z"
    },
    "papermill": {
     "duration": 0.04757,
     "end_time": "2023-10-26T23:53:13.710683",
     "exception": false,
     "start_time": "2023-10-26T23:53:13.663113",
     "status": "completed"
    },
    "tags": []
   },
   "outputs": [],
   "source": [
    "train_df = map_vip_and_cryosleep(train_df)"
   ]
  },
  {
   "cell_type": "code",
   "execution_count": 29,
   "id": "4963394f",
   "metadata": {
    "execution": {
     "iopub.execute_input": "2023-10-26T23:53:13.768512Z",
     "iopub.status.busy": "2023-10-26T23:53:13.768129Z",
     "iopub.status.idle": "2023-10-26T23:53:13.777643Z",
     "shell.execute_reply": "2023-10-26T23:53:13.776370Z"
    },
    "papermill": {
     "duration": 0.040966,
     "end_time": "2023-10-26T23:53:13.779993",
     "exception": false,
     "start_time": "2023-10-26T23:53:13.739027",
     "status": "completed"
    },
    "tags": []
   },
   "outputs": [
    {
     "name": "stdout",
     "output_type": "stream",
     "text": [
      "VIP\n",
      "0.0    8253\n",
      "1.0     194\n",
      "Name: count, dtype: int64\n",
      "CryoSleep\n",
      "0.0    5396\n",
      "1.0    3037\n",
      "Name: count, dtype: int64\n"
     ]
    }
   ],
   "source": [
    "print(train_df['VIP'].value_counts())\n",
    "print(train_df['CryoSleep'].value_counts())"
   ]
  },
  {
   "cell_type": "markdown",
   "id": "7c89d5b8",
   "metadata": {
    "papermill": {
     "duration": 0.026981,
     "end_time": "2023-10-26T23:53:13.834325",
     "exception": false,
     "start_time": "2023-10-26T23:53:13.807344",
     "status": "completed"
    },
    "tags": []
   },
   "source": [
    "### Cabin Column"
   ]
  },
  {
   "cell_type": "code",
   "execution_count": 30,
   "id": "eefa5f23",
   "metadata": {
    "execution": {
     "iopub.execute_input": "2023-10-26T23:53:13.892355Z",
     "iopub.status.busy": "2023-10-26T23:53:13.891828Z",
     "iopub.status.idle": "2023-10-26T23:53:13.898476Z",
     "shell.execute_reply": "2023-10-26T23:53:13.897295Z"
    },
    "papermill": {
     "duration": 0.038581,
     "end_time": "2023-10-26T23:53:13.900680",
     "exception": false,
     "start_time": "2023-10-26T23:53:13.862099",
     "status": "completed"
    },
    "tags": []
   },
   "outputs": [],
   "source": [
    "# cabin column is splitted 3 by `/` as deck, num and side as indicated in Data part of the Competition\n",
    "\n",
    "def split_cabin(df):\n",
    "    \n",
    "    df[['deck','num', 'side']] = df['Cabin'].str.split('/',expand=True)\n",
    "    df['num'] = df['num'].astype(float)\n",
    "    df.drop('Cabin', axis=1, inplace=True)\n",
    "    return df"
   ]
  },
  {
   "cell_type": "code",
   "execution_count": 31,
   "id": "e2039207",
   "metadata": {
    "execution": {
     "iopub.execute_input": "2023-10-26T23:53:13.958269Z",
     "iopub.status.busy": "2023-10-26T23:53:13.957792Z",
     "iopub.status.idle": "2023-10-26T23:53:13.988737Z",
     "shell.execute_reply": "2023-10-26T23:53:13.987464Z"
    },
    "papermill": {
     "duration": 0.062752,
     "end_time": "2023-10-26T23:53:13.991193",
     "exception": false,
     "start_time": "2023-10-26T23:53:13.928441",
     "status": "completed"
    },
    "tags": []
   },
   "outputs": [],
   "source": [
    "train_df = split_cabin(train_df)"
   ]
  },
  {
   "cell_type": "code",
   "execution_count": 32,
   "id": "afe006a4",
   "metadata": {
    "execution": {
     "iopub.execute_input": "2023-10-26T23:53:14.049128Z",
     "iopub.status.busy": "2023-10-26T23:53:14.048195Z",
     "iopub.status.idle": "2023-10-26T23:53:14.061611Z",
     "shell.execute_reply": "2023-10-26T23:53:14.060240Z"
    },
    "papermill": {
     "duration": 0.045421,
     "end_time": "2023-10-26T23:53:14.064296",
     "exception": false,
     "start_time": "2023-10-26T23:53:14.018875",
     "status": "completed"
    },
    "tags": []
   },
   "outputs": [
    {
     "data": {
      "text/plain": [
       "deck       8\n",
       "num     1816\n",
       "side       2\n",
       "dtype: int64"
      ]
     },
     "execution_count": 32,
     "metadata": {},
     "output_type": "execute_result"
    }
   ],
   "source": [
    "train_df[['deck', 'num', 'side']].nunique() # checking unique values for deck, num  and side"
   ]
  },
  {
   "cell_type": "markdown",
   "id": "b6395911",
   "metadata": {
    "papermill": {
     "duration": 0.028448,
     "end_time": "2023-10-26T23:53:14.121904",
     "exception": false,
     "start_time": "2023-10-26T23:53:14.093456",
     "status": "completed"
    },
    "tags": []
   },
   "source": [
    "### One-Hot Encoding"
   ]
  },
  {
   "cell_type": "code",
   "execution_count": 33,
   "id": "6195633a",
   "metadata": {
    "execution": {
     "iopub.execute_input": "2023-10-26T23:53:14.180457Z",
     "iopub.status.busy": "2023-10-26T23:53:14.180008Z",
     "iopub.status.idle": "2023-10-26T23:53:14.186851Z",
     "shell.execute_reply": "2023-10-26T23:53:14.185576Z"
    },
    "papermill": {
     "duration": 0.039236,
     "end_time": "2023-10-26T23:53:14.189566",
     "exception": false,
     "start_time": "2023-10-26T23:53:14.150330",
     "status": "completed"
    },
    "tags": []
   },
   "outputs": [],
   "source": [
    "def one_hot_encode_columns(df, columns):\n",
    "    \n",
    "    for column in columns:\n",
    "        \n",
    "        df_encoded = pd.get_dummies(df[column], prefix=column)\n",
    "        df.drop(columns=[column], inplace=True)\n",
    "        df = pd.concat([df, df_encoded], axis=1)\n",
    "\n",
    "    return df"
   ]
  },
  {
   "cell_type": "code",
   "execution_count": 34,
   "id": "31a6ae70",
   "metadata": {
    "execution": {
     "iopub.execute_input": "2023-10-26T23:53:14.248066Z",
     "iopub.status.busy": "2023-10-26T23:53:14.247563Z",
     "iopub.status.idle": "2023-10-26T23:53:14.295271Z",
     "shell.execute_reply": "2023-10-26T23:53:14.294084Z"
    },
    "papermill": {
     "duration": 0.079797,
     "end_time": "2023-10-26T23:53:14.298137",
     "exception": false,
     "start_time": "2023-10-26T23:53:14.218340",
     "status": "completed"
    },
    "tags": []
   },
   "outputs": [
    {
     "data": {
      "text/html": [
       "<div>\n",
       "<style scoped>\n",
       "    .dataframe tbody tr th:only-of-type {\n",
       "        vertical-align: middle;\n",
       "    }\n",
       "\n",
       "    .dataframe tbody tr th {\n",
       "        vertical-align: top;\n",
       "    }\n",
       "\n",
       "    .dataframe thead th {\n",
       "        text-align: right;\n",
       "    }\n",
       "</style>\n",
       "<table border=\"1\" class=\"dataframe\">\n",
       "  <thead>\n",
       "    <tr style=\"text-align: right;\">\n",
       "      <th></th>\n",
       "      <th>CryoSleep</th>\n",
       "      <th>VIP</th>\n",
       "      <th>RoomService</th>\n",
       "      <th>FoodCourt</th>\n",
       "      <th>ShoppingMall</th>\n",
       "      <th>Spa</th>\n",
       "      <th>VRDeck</th>\n",
       "      <th>Transported</th>\n",
       "      <th>num</th>\n",
       "      <th>side</th>\n",
       "      <th>...</th>\n",
       "      <th>AgeGroup_Senior</th>\n",
       "      <th>AgeGroup_Old</th>\n",
       "      <th>deck_A</th>\n",
       "      <th>deck_B</th>\n",
       "      <th>deck_C</th>\n",
       "      <th>deck_D</th>\n",
       "      <th>deck_E</th>\n",
       "      <th>deck_F</th>\n",
       "      <th>deck_G</th>\n",
       "      <th>deck_T</th>\n",
       "    </tr>\n",
       "  </thead>\n",
       "  <tbody>\n",
       "    <tr>\n",
       "      <th>0</th>\n",
       "      <td>0.0</td>\n",
       "      <td>0.0</td>\n",
       "      <td>-0.359961</td>\n",
       "      <td>-0.297860</td>\n",
       "      <td>-0.352491</td>\n",
       "      <td>-0.293324</td>\n",
       "      <td>-0.280320</td>\n",
       "      <td>False</td>\n",
       "      <td>0.0</td>\n",
       "      <td>P</td>\n",
       "      <td>...</td>\n",
       "      <td>False</td>\n",
       "      <td>False</td>\n",
       "      <td>False</td>\n",
       "      <td>True</td>\n",
       "      <td>False</td>\n",
       "      <td>False</td>\n",
       "      <td>False</td>\n",
       "      <td>False</td>\n",
       "      <td>False</td>\n",
       "      <td>False</td>\n",
       "    </tr>\n",
       "    <tr>\n",
       "      <th>1</th>\n",
       "      <td>0.0</td>\n",
       "      <td>0.0</td>\n",
       "      <td>-0.177836</td>\n",
       "      <td>-0.291700</td>\n",
       "      <td>-0.297105</td>\n",
       "      <td>0.264363</td>\n",
       "      <td>-0.237639</td>\n",
       "      <td>True</td>\n",
       "      <td>0.0</td>\n",
       "      <td>S</td>\n",
       "      <td>...</td>\n",
       "      <td>False</td>\n",
       "      <td>False</td>\n",
       "      <td>False</td>\n",
       "      <td>False</td>\n",
       "      <td>False</td>\n",
       "      <td>False</td>\n",
       "      <td>False</td>\n",
       "      <td>True</td>\n",
       "      <td>False</td>\n",
       "      <td>False</td>\n",
       "    </tr>\n",
       "    <tr>\n",
       "      <th>2</th>\n",
       "      <td>0.0</td>\n",
       "      <td>1.0</td>\n",
       "      <td>-0.288114</td>\n",
       "      <td>2.150043</td>\n",
       "      <td>-0.352491</td>\n",
       "      <td>6.527927</td>\n",
       "      <td>-0.232789</td>\n",
       "      <td>False</td>\n",
       "      <td>0.0</td>\n",
       "      <td>S</td>\n",
       "      <td>...</td>\n",
       "      <td>True</td>\n",
       "      <td>False</td>\n",
       "      <td>True</td>\n",
       "      <td>False</td>\n",
       "      <td>False</td>\n",
       "      <td>False</td>\n",
       "      <td>False</td>\n",
       "      <td>False</td>\n",
       "      <td>False</td>\n",
       "      <td>False</td>\n",
       "    </tr>\n",
       "    <tr>\n",
       "      <th>3</th>\n",
       "      <td>0.0</td>\n",
       "      <td>0.0</td>\n",
       "      <td>-0.359961</td>\n",
       "      <td>0.580400</td>\n",
       "      <td>0.469440</td>\n",
       "      <td>3.088351</td>\n",
       "      <td>-0.093104</td>\n",
       "      <td>False</td>\n",
       "      <td>0.0</td>\n",
       "      <td>S</td>\n",
       "      <td>...</td>\n",
       "      <td>False</td>\n",
       "      <td>False</td>\n",
       "      <td>True</td>\n",
       "      <td>False</td>\n",
       "      <td>False</td>\n",
       "      <td>False</td>\n",
       "      <td>False</td>\n",
       "      <td>False</td>\n",
       "      <td>False</td>\n",
       "      <td>False</td>\n",
       "    </tr>\n",
       "    <tr>\n",
       "      <th>4</th>\n",
       "      <td>0.0</td>\n",
       "      <td>0.0</td>\n",
       "      <td>0.146315</td>\n",
       "      <td>-0.249943</td>\n",
       "      <td>-0.017958</td>\n",
       "      <td>0.280616</td>\n",
       "      <td>-0.278380</td>\n",
       "      <td>True</td>\n",
       "      <td>1.0</td>\n",
       "      <td>S</td>\n",
       "      <td>...</td>\n",
       "      <td>False</td>\n",
       "      <td>False</td>\n",
       "      <td>False</td>\n",
       "      <td>False</td>\n",
       "      <td>False</td>\n",
       "      <td>False</td>\n",
       "      <td>False</td>\n",
       "      <td>True</td>\n",
       "      <td>False</td>\n",
       "      <td>False</td>\n",
       "    </tr>\n",
       "  </tbody>\n",
       "</table>\n",
       "<p>5 rows × 29 columns</p>\n",
       "</div>"
      ],
      "text/plain": [
       "   CryoSleep  VIP  RoomService  FoodCourt  ShoppingMall       Spa    VRDeck  \\\n",
       "0        0.0  0.0    -0.359961  -0.297860     -0.352491 -0.293324 -0.280320   \n",
       "1        0.0  0.0    -0.177836  -0.291700     -0.297105  0.264363 -0.237639   \n",
       "2        0.0  1.0    -0.288114   2.150043     -0.352491  6.527927 -0.232789   \n",
       "3        0.0  0.0    -0.359961   0.580400      0.469440  3.088351 -0.093104   \n",
       "4        0.0  0.0     0.146315  -0.249943     -0.017958  0.280616 -0.278380   \n",
       "\n",
       "   Transported  num side  ...  AgeGroup_Senior  AgeGroup_Old  deck_A  deck_B  \\\n",
       "0        False  0.0    P  ...            False         False   False    True   \n",
       "1         True  0.0    S  ...            False         False   False   False   \n",
       "2        False  0.0    S  ...             True         False    True   False   \n",
       "3        False  0.0    S  ...            False         False    True   False   \n",
       "4         True  1.0    S  ...            False         False   False   False   \n",
       "\n",
       "   deck_C  deck_D  deck_E  deck_F  deck_G  deck_T  \n",
       "0   False   False   False   False   False   False  \n",
       "1   False   False   False    True   False   False  \n",
       "2   False   False   False   False   False   False  \n",
       "3   False   False   False   False   False   False  \n",
       "4   False   False   False    True   False   False  \n",
       "\n",
       "[5 rows x 29 columns]"
      ]
     },
     "execution_count": 34,
     "metadata": {},
     "output_type": "execute_result"
    }
   ],
   "source": [
    "train_df = one_hot_encode_columns(train_df, ['HomePlanet', 'Destination', 'AgeGroup', 'deck'])\n",
    "train_df.head()"
   ]
  },
  {
   "cell_type": "markdown",
   "id": "2206f2ed",
   "metadata": {
    "papermill": {
     "duration": 0.027361,
     "end_time": "2023-10-26T23:53:14.353143",
     "exception": false,
     "start_time": "2023-10-26T23:53:14.325782",
     "status": "completed"
    },
    "tags": []
   },
   "source": [
    "### Encoding `deck`, `num` and `side`"
   ]
  },
  {
   "cell_type": "code",
   "execution_count": 35,
   "id": "0cbe0f20",
   "metadata": {
    "execution": {
     "iopub.execute_input": "2023-10-26T23:53:14.410310Z",
     "iopub.status.busy": "2023-10-26T23:53:14.409875Z",
     "iopub.status.idle": "2023-10-26T23:53:14.416051Z",
     "shell.execute_reply": "2023-10-26T23:53:14.414960Z"
    },
    "papermill": {
     "duration": 0.037721,
     "end_time": "2023-10-26T23:53:14.418475",
     "exception": false,
     "start_time": "2023-10-26T23:53:14.380754",
     "status": "completed"
    },
    "tags": []
   },
   "outputs": [],
   "source": [
    "def map_side_column(df):\n",
    "    \n",
    "    side_mapping = {'P':0., 'S':1.}\n",
    "    df['side'] = df['side'].map(side_mapping)    \n",
    "    return df"
   ]
  },
  {
   "cell_type": "code",
   "execution_count": 36,
   "id": "92cc25fb",
   "metadata": {
    "execution": {
     "iopub.execute_input": "2023-10-26T23:53:14.478131Z",
     "iopub.status.busy": "2023-10-26T23:53:14.477390Z",
     "iopub.status.idle": "2023-10-26T23:53:14.484811Z",
     "shell.execute_reply": "2023-10-26T23:53:14.483461Z"
    },
    "papermill": {
     "duration": 0.040218,
     "end_time": "2023-10-26T23:53:14.487581",
     "exception": false,
     "start_time": "2023-10-26T23:53:14.447363",
     "status": "completed"
    },
    "tags": []
   },
   "outputs": [],
   "source": [
    "train_df = map_side_column(train_df)"
   ]
  },
  {
   "cell_type": "markdown",
   "id": "057bd0bf",
   "metadata": {
    "papermill": {
     "duration": 0.027772,
     "end_time": "2023-10-26T23:53:14.544181",
     "exception": false,
     "start_time": "2023-10-26T23:53:14.516409",
     "status": "completed"
    },
    "tags": []
   },
   "source": [
    "Num variable goes from 0 to 1800. It determines the passenger's region of the ship in a roughly and in my opinion.\n",
    "So I decide to group the column."
   ]
  },
  {
   "cell_type": "code",
   "execution_count": 37,
   "id": "c2469e27",
   "metadata": {
    "execution": {
     "iopub.execute_input": "2023-10-26T23:53:14.604069Z",
     "iopub.status.busy": "2023-10-26T23:53:14.603605Z",
     "iopub.status.idle": "2023-10-26T23:53:14.611362Z",
     "shell.execute_reply": "2023-10-26T23:53:14.609393Z"
    },
    "papermill": {
     "duration": 0.041129,
     "end_time": "2023-10-26T23:53:14.613991",
     "exception": false,
     "start_time": "2023-10-26T23:53:14.572862",
     "status": "completed"
    },
    "tags": []
   },
   "outputs": [],
   "source": [
    "def categorize_num_column(df):\n",
    "\n",
    "    bins = [0, 600, 1200, 1801]\n",
    "    labels = [0, 1, 2]\n",
    "\n",
    "    df['num_label'] = pd.cut(df['num'], bins=bins, labels=labels, include_lowest=True)\n",
    "    df.drop('num', axis=1, inplace=True)\n",
    "    \n",
    "    return df"
   ]
  },
  {
   "cell_type": "code",
   "execution_count": 38,
   "id": "bc053597",
   "metadata": {
    "execution": {
     "iopub.execute_input": "2023-10-26T23:53:14.674457Z",
     "iopub.status.busy": "2023-10-26T23:53:14.673348Z",
     "iopub.status.idle": "2023-10-26T23:53:14.682244Z",
     "shell.execute_reply": "2023-10-26T23:53:14.681432Z"
    },
    "papermill": {
     "duration": 0.041501,
     "end_time": "2023-10-26T23:53:14.684471",
     "exception": false,
     "start_time": "2023-10-26T23:53:14.642970",
     "status": "completed"
    },
    "tags": []
   },
   "outputs": [],
   "source": [
    "train_df = categorize_num_column(train_df)"
   ]
  },
  {
   "cell_type": "code",
   "execution_count": 39,
   "id": "96c0e111",
   "metadata": {
    "execution": {
     "iopub.execute_input": "2023-10-26T23:53:14.744241Z",
     "iopub.status.busy": "2023-10-26T23:53:14.743271Z",
     "iopub.status.idle": "2023-10-26T23:53:14.797938Z",
     "shell.execute_reply": "2023-10-26T23:53:14.796583Z"
    },
    "papermill": {
     "duration": 0.087728,
     "end_time": "2023-10-26T23:53:14.801096",
     "exception": false,
     "start_time": "2023-10-26T23:53:14.713368",
     "status": "completed"
    },
    "tags": []
   },
   "outputs": [],
   "source": [
    "train_df.replace({True:1., False:0.}, inplace=True)"
   ]
  },
  {
   "cell_type": "code",
   "execution_count": 40,
   "id": "b8297e10",
   "metadata": {
    "execution": {
     "iopub.execute_input": "2023-10-26T23:53:14.859162Z",
     "iopub.status.busy": "2023-10-26T23:53:14.858687Z",
     "iopub.status.idle": "2023-10-26T23:53:14.868403Z",
     "shell.execute_reply": "2023-10-26T23:53:14.866920Z"
    },
    "papermill": {
     "duration": 0.041523,
     "end_time": "2023-10-26T23:53:14.870800",
     "exception": false,
     "start_time": "2023-10-26T23:53:14.829277",
     "status": "completed"
    },
    "tags": []
   },
   "outputs": [
    {
     "data": {
      "text/plain": [
       "CryoSleep                     float64\n",
       "VIP                           float64\n",
       "RoomService                   float64\n",
       "FoodCourt                     float64\n",
       "ShoppingMall                  float64\n",
       "Spa                           float64\n",
       "VRDeck                        float64\n",
       "Transported                   float64\n",
       "side                          float64\n",
       "HomePlanet_Earth              float64\n",
       "HomePlanet_Europa             float64\n",
       "HomePlanet_Mars               float64\n",
       "Destination_55 Cancri e       float64\n",
       "Destination_PSO J318.5-22     float64\n",
       "Destination_TRAPPIST-1e       float64\n",
       "AgeGroup_Child                float64\n",
       "AgeGroup_Teen                 float64\n",
       "AgeGroup_Adult                float64\n",
       "AgeGroup_Senior               float64\n",
       "AgeGroup_Old                  float64\n",
       "deck_A                        float64\n",
       "deck_B                        float64\n",
       "deck_C                        float64\n",
       "deck_D                        float64\n",
       "deck_E                        float64\n",
       "deck_F                        float64\n",
       "deck_G                        float64\n",
       "deck_T                        float64\n",
       "num_label                    category\n",
       "dtype: object"
      ]
     },
     "execution_count": 40,
     "metadata": {},
     "output_type": "execute_result"
    }
   ],
   "source": [
    "train_df.dtypes"
   ]
  },
  {
   "cell_type": "code",
   "execution_count": 41,
   "id": "e5764922",
   "metadata": {
    "execution": {
     "iopub.execute_input": "2023-10-26T23:53:14.930491Z",
     "iopub.status.busy": "2023-10-26T23:53:14.930078Z",
     "iopub.status.idle": "2023-10-26T23:53:14.964585Z",
     "shell.execute_reply": "2023-10-26T23:53:14.963479Z"
    },
    "papermill": {
     "duration": 0.067754,
     "end_time": "2023-10-26T23:53:14.966841",
     "exception": false,
     "start_time": "2023-10-26T23:53:14.899087",
     "status": "completed"
    },
    "tags": []
   },
   "outputs": [
    {
     "data": {
      "text/html": [
       "<div>\n",
       "<style scoped>\n",
       "    .dataframe tbody tr th:only-of-type {\n",
       "        vertical-align: middle;\n",
       "    }\n",
       "\n",
       "    .dataframe tbody tr th {\n",
       "        vertical-align: top;\n",
       "    }\n",
       "\n",
       "    .dataframe thead th {\n",
       "        text-align: right;\n",
       "    }\n",
       "</style>\n",
       "<table border=\"1\" class=\"dataframe\">\n",
       "  <thead>\n",
       "    <tr style=\"text-align: right;\">\n",
       "      <th></th>\n",
       "      <th>CryoSleep</th>\n",
       "      <th>VIP</th>\n",
       "      <th>RoomService</th>\n",
       "      <th>FoodCourt</th>\n",
       "      <th>ShoppingMall</th>\n",
       "      <th>Spa</th>\n",
       "      <th>VRDeck</th>\n",
       "      <th>Transported</th>\n",
       "      <th>side</th>\n",
       "      <th>HomePlanet_Earth</th>\n",
       "      <th>...</th>\n",
       "      <th>AgeGroup_Old</th>\n",
       "      <th>deck_A</th>\n",
       "      <th>deck_B</th>\n",
       "      <th>deck_C</th>\n",
       "      <th>deck_D</th>\n",
       "      <th>deck_E</th>\n",
       "      <th>deck_F</th>\n",
       "      <th>deck_G</th>\n",
       "      <th>deck_T</th>\n",
       "      <th>num_label</th>\n",
       "    </tr>\n",
       "  </thead>\n",
       "  <tbody>\n",
       "    <tr>\n",
       "      <th>0</th>\n",
       "      <td>0.0</td>\n",
       "      <td>0.0</td>\n",
       "      <td>-0.359961</td>\n",
       "      <td>-0.297860</td>\n",
       "      <td>-0.352491</td>\n",
       "      <td>-0.293324</td>\n",
       "      <td>-0.280320</td>\n",
       "      <td>0</td>\n",
       "      <td>0.0</td>\n",
       "      <td>0.0</td>\n",
       "      <td>...</td>\n",
       "      <td>0.0</td>\n",
       "      <td>0.0</td>\n",
       "      <td>1.0</td>\n",
       "      <td>0.0</td>\n",
       "      <td>0.0</td>\n",
       "      <td>0.0</td>\n",
       "      <td>0.0</td>\n",
       "      <td>0.0</td>\n",
       "      <td>0.0</td>\n",
       "      <td>0</td>\n",
       "    </tr>\n",
       "    <tr>\n",
       "      <th>1</th>\n",
       "      <td>0.0</td>\n",
       "      <td>0.0</td>\n",
       "      <td>-0.177836</td>\n",
       "      <td>-0.291700</td>\n",
       "      <td>-0.297105</td>\n",
       "      <td>0.264363</td>\n",
       "      <td>-0.237639</td>\n",
       "      <td>1</td>\n",
       "      <td>1.0</td>\n",
       "      <td>1.0</td>\n",
       "      <td>...</td>\n",
       "      <td>0.0</td>\n",
       "      <td>0.0</td>\n",
       "      <td>0.0</td>\n",
       "      <td>0.0</td>\n",
       "      <td>0.0</td>\n",
       "      <td>0.0</td>\n",
       "      <td>1.0</td>\n",
       "      <td>0.0</td>\n",
       "      <td>0.0</td>\n",
       "      <td>0</td>\n",
       "    </tr>\n",
       "    <tr>\n",
       "      <th>2</th>\n",
       "      <td>0.0</td>\n",
       "      <td>1.0</td>\n",
       "      <td>-0.288114</td>\n",
       "      <td>2.150043</td>\n",
       "      <td>-0.352491</td>\n",
       "      <td>6.527927</td>\n",
       "      <td>-0.232789</td>\n",
       "      <td>0</td>\n",
       "      <td>1.0</td>\n",
       "      <td>0.0</td>\n",
       "      <td>...</td>\n",
       "      <td>0.0</td>\n",
       "      <td>1.0</td>\n",
       "      <td>0.0</td>\n",
       "      <td>0.0</td>\n",
       "      <td>0.0</td>\n",
       "      <td>0.0</td>\n",
       "      <td>0.0</td>\n",
       "      <td>0.0</td>\n",
       "      <td>0.0</td>\n",
       "      <td>0</td>\n",
       "    </tr>\n",
       "    <tr>\n",
       "      <th>3</th>\n",
       "      <td>0.0</td>\n",
       "      <td>0.0</td>\n",
       "      <td>-0.359961</td>\n",
       "      <td>0.580400</td>\n",
       "      <td>0.469440</td>\n",
       "      <td>3.088351</td>\n",
       "      <td>-0.093104</td>\n",
       "      <td>0</td>\n",
       "      <td>1.0</td>\n",
       "      <td>0.0</td>\n",
       "      <td>...</td>\n",
       "      <td>0.0</td>\n",
       "      <td>1.0</td>\n",
       "      <td>0.0</td>\n",
       "      <td>0.0</td>\n",
       "      <td>0.0</td>\n",
       "      <td>0.0</td>\n",
       "      <td>0.0</td>\n",
       "      <td>0.0</td>\n",
       "      <td>0.0</td>\n",
       "      <td>0</td>\n",
       "    </tr>\n",
       "    <tr>\n",
       "      <th>4</th>\n",
       "      <td>0.0</td>\n",
       "      <td>0.0</td>\n",
       "      <td>0.146315</td>\n",
       "      <td>-0.249943</td>\n",
       "      <td>-0.017958</td>\n",
       "      <td>0.280616</td>\n",
       "      <td>-0.278380</td>\n",
       "      <td>1</td>\n",
       "      <td>1.0</td>\n",
       "      <td>1.0</td>\n",
       "      <td>...</td>\n",
       "      <td>0.0</td>\n",
       "      <td>0.0</td>\n",
       "      <td>0.0</td>\n",
       "      <td>0.0</td>\n",
       "      <td>0.0</td>\n",
       "      <td>0.0</td>\n",
       "      <td>1.0</td>\n",
       "      <td>0.0</td>\n",
       "      <td>0.0</td>\n",
       "      <td>0</td>\n",
       "    </tr>\n",
       "  </tbody>\n",
       "</table>\n",
       "<p>5 rows × 29 columns</p>\n",
       "</div>"
      ],
      "text/plain": [
       "   CryoSleep  VIP  RoomService  FoodCourt  ShoppingMall       Spa    VRDeck  \\\n",
       "0        0.0  0.0    -0.359961  -0.297860     -0.352491 -0.293324 -0.280320   \n",
       "1        0.0  0.0    -0.177836  -0.291700     -0.297105  0.264363 -0.237639   \n",
       "2        0.0  1.0    -0.288114   2.150043     -0.352491  6.527927 -0.232789   \n",
       "3        0.0  0.0    -0.359961   0.580400      0.469440  3.088351 -0.093104   \n",
       "4        0.0  0.0     0.146315  -0.249943     -0.017958  0.280616 -0.278380   \n",
       "\n",
       "   Transported  side  HomePlanet_Earth  ...  AgeGroup_Old  deck_A  deck_B  \\\n",
       "0            0   0.0               0.0  ...           0.0     0.0     1.0   \n",
       "1            1   1.0               1.0  ...           0.0     0.0     0.0   \n",
       "2            0   1.0               0.0  ...           0.0     1.0     0.0   \n",
       "3            0   1.0               0.0  ...           0.0     1.0     0.0   \n",
       "4            1   1.0               1.0  ...           0.0     0.0     0.0   \n",
       "\n",
       "   deck_C  deck_D  deck_E  deck_F  deck_G  deck_T  num_label  \n",
       "0     0.0     0.0     0.0     0.0     0.0     0.0          0  \n",
       "1     0.0     0.0     0.0     1.0     0.0     0.0          0  \n",
       "2     0.0     0.0     0.0     0.0     0.0     0.0          0  \n",
       "3     0.0     0.0     0.0     0.0     0.0     0.0          0  \n",
       "4     0.0     0.0     0.0     1.0     0.0     0.0          0  \n",
       "\n",
       "[5 rows x 29 columns]"
      ]
     },
     "execution_count": 41,
     "metadata": {},
     "output_type": "execute_result"
    }
   ],
   "source": [
    "train_df['Transported'] = train_df['Transported'].astype(int)\n",
    "train_df.head()"
   ]
  },
  {
   "cell_type": "code",
   "execution_count": 42,
   "id": "3ef9f7f2",
   "metadata": {
    "execution": {
     "iopub.execute_input": "2023-10-26T23:53:15.027695Z",
     "iopub.status.busy": "2023-10-26T23:53:15.027278Z",
     "iopub.status.idle": "2023-10-26T23:53:15.036078Z",
     "shell.execute_reply": "2023-10-26T23:53:15.035270Z"
    },
    "papermill": {
     "duration": 0.042331,
     "end_time": "2023-10-26T23:53:15.038654",
     "exception": false,
     "start_time": "2023-10-26T23:53:14.996323",
     "status": "completed"
    },
    "tags": []
   },
   "outputs": [
    {
     "data": {
      "text/plain": [
       "CryoSleep\n",
       "0.0    5396\n",
       "1.0    3037\n",
       "Name: count, dtype: int64"
      ]
     },
     "execution_count": 42,
     "metadata": {},
     "output_type": "execute_result"
    }
   ],
   "source": [
    "train_df['CryoSleep'].value_counts()"
   ]
  },
  {
   "cell_type": "markdown",
   "id": "7534997b",
   "metadata": {
    "papermill": {
     "duration": 0.028641,
     "end_time": "2023-10-26T23:53:15.096397",
     "exception": false,
     "start_time": "2023-10-26T23:53:15.067756",
     "status": "completed"
    },
    "tags": []
   },
   "source": [
    "### VIP\n",
    "Most of the passengers are not VIP likely. So filling with 0s seems okey to me."
   ]
  },
  {
   "cell_type": "code",
   "execution_count": 43,
   "id": "08fc049c",
   "metadata": {
    "execution": {
     "iopub.execute_input": "2023-10-26T23:53:15.157274Z",
     "iopub.status.busy": "2023-10-26T23:53:15.156524Z",
     "iopub.status.idle": "2023-10-26T23:53:15.161904Z",
     "shell.execute_reply": "2023-10-26T23:53:15.161015Z"
    },
    "papermill": {
     "duration": 0.038575,
     "end_time": "2023-10-26T23:53:15.164179",
     "exception": false,
     "start_time": "2023-10-26T23:53:15.125604",
     "status": "completed"
    },
    "tags": []
   },
   "outputs": [],
   "source": [
    "train_df['VIP'].fillna(0, inplace=True)"
   ]
  },
  {
   "cell_type": "markdown",
   "id": "dd4f6ae3",
   "metadata": {
    "papermill": {
     "duration": 0.028508,
     "end_time": "2023-10-26T23:53:15.221602",
     "exception": false,
     "start_time": "2023-10-26T23:53:15.193094",
     "status": "completed"
    },
    "tags": []
   },
   "source": [
    "### Rest of the categorical columns are filled with most frequent."
   ]
  },
  {
   "cell_type": "code",
   "execution_count": 44,
   "id": "537c9d80",
   "metadata": {
    "execution": {
     "iopub.execute_input": "2023-10-26T23:53:15.283816Z",
     "iopub.status.busy": "2023-10-26T23:53:15.283084Z",
     "iopub.status.idle": "2023-10-26T23:53:15.289127Z",
     "shell.execute_reply": "2023-10-26T23:53:15.287908Z"
    },
    "papermill": {
     "duration": 0.040226,
     "end_time": "2023-10-26T23:53:15.291760",
     "exception": false,
     "start_time": "2023-10-26T23:53:15.251534",
     "status": "completed"
    },
    "tags": []
   },
   "outputs": [],
   "source": [
    "def fill_most_freq(df, cols):\n",
    "    \n",
    "    for col in df.columns:\n",
    "        \n",
    "        val = df[col].mode()[0]\n",
    "        df[col].fillna(val, inplace=True)\n",
    "        \n",
    "    return df"
   ]
  },
  {
   "cell_type": "code",
   "execution_count": 45,
   "id": "7f4f6cfd",
   "metadata": {
    "execution": {
     "iopub.execute_input": "2023-10-26T23:53:15.352112Z",
     "iopub.status.busy": "2023-10-26T23:53:15.351682Z",
     "iopub.status.idle": "2023-10-26T23:53:15.375213Z",
     "shell.execute_reply": "2023-10-26T23:53:15.374091Z"
    },
    "papermill": {
     "duration": 0.057158,
     "end_time": "2023-10-26T23:53:15.378218",
     "exception": false,
     "start_time": "2023-10-26T23:53:15.321060",
     "status": "completed"
    },
    "tags": []
   },
   "outputs": [],
   "source": [
    "columns_with_nan = ['CryoSleep', 'side', 'num_label']\n",
    "train_df = fill_most_freq(train_df, columns_with_nan)"
   ]
  },
  {
   "cell_type": "code",
   "execution_count": 46,
   "id": "85da47a8",
   "metadata": {
    "execution": {
     "iopub.execute_input": "2023-10-26T23:53:15.438877Z",
     "iopub.status.busy": "2023-10-26T23:53:15.438010Z",
     "iopub.status.idle": "2023-10-26T23:53:15.476385Z",
     "shell.execute_reply": "2023-10-26T23:53:15.475141Z"
    },
    "papermill": {
     "duration": 0.07156,
     "end_time": "2023-10-26T23:53:15.479420",
     "exception": false,
     "start_time": "2023-10-26T23:53:15.407860",
     "status": "completed"
    },
    "tags": []
   },
   "outputs": [
    {
     "data": {
      "text/html": [
       "<div>\n",
       "<style scoped>\n",
       "    .dataframe tbody tr th:only-of-type {\n",
       "        vertical-align: middle;\n",
       "    }\n",
       "\n",
       "    .dataframe tbody tr th {\n",
       "        vertical-align: top;\n",
       "    }\n",
       "\n",
       "    .dataframe thead th {\n",
       "        text-align: right;\n",
       "    }\n",
       "</style>\n",
       "<table border=\"1\" class=\"dataframe\">\n",
       "  <thead>\n",
       "    <tr style=\"text-align: right;\">\n",
       "      <th></th>\n",
       "      <th>CryoSleep</th>\n",
       "      <th>VIP</th>\n",
       "      <th>RoomService</th>\n",
       "      <th>FoodCourt</th>\n",
       "      <th>ShoppingMall</th>\n",
       "      <th>Spa</th>\n",
       "      <th>VRDeck</th>\n",
       "      <th>Transported</th>\n",
       "      <th>side</th>\n",
       "      <th>HomePlanet_Earth</th>\n",
       "      <th>...</th>\n",
       "      <th>AgeGroup_Old</th>\n",
       "      <th>deck_A</th>\n",
       "      <th>deck_B</th>\n",
       "      <th>deck_C</th>\n",
       "      <th>deck_D</th>\n",
       "      <th>deck_E</th>\n",
       "      <th>deck_F</th>\n",
       "      <th>deck_G</th>\n",
       "      <th>deck_T</th>\n",
       "      <th>num_label</th>\n",
       "    </tr>\n",
       "  </thead>\n",
       "  <tbody>\n",
       "    <tr>\n",
       "      <th>0</th>\n",
       "      <td>0.0</td>\n",
       "      <td>0.0</td>\n",
       "      <td>-0.359961</td>\n",
       "      <td>-0.297860</td>\n",
       "      <td>-0.352491</td>\n",
       "      <td>-0.293324</td>\n",
       "      <td>-0.280320</td>\n",
       "      <td>0</td>\n",
       "      <td>0.0</td>\n",
       "      <td>0.0</td>\n",
       "      <td>...</td>\n",
       "      <td>0.0</td>\n",
       "      <td>0.0</td>\n",
       "      <td>1.0</td>\n",
       "      <td>0.0</td>\n",
       "      <td>0.0</td>\n",
       "      <td>0.0</td>\n",
       "      <td>0.0</td>\n",
       "      <td>0.0</td>\n",
       "      <td>0.0</td>\n",
       "      <td>0</td>\n",
       "    </tr>\n",
       "    <tr>\n",
       "      <th>1</th>\n",
       "      <td>0.0</td>\n",
       "      <td>0.0</td>\n",
       "      <td>-0.177836</td>\n",
       "      <td>-0.291700</td>\n",
       "      <td>-0.297105</td>\n",
       "      <td>0.264363</td>\n",
       "      <td>-0.237639</td>\n",
       "      <td>1</td>\n",
       "      <td>1.0</td>\n",
       "      <td>1.0</td>\n",
       "      <td>...</td>\n",
       "      <td>0.0</td>\n",
       "      <td>0.0</td>\n",
       "      <td>0.0</td>\n",
       "      <td>0.0</td>\n",
       "      <td>0.0</td>\n",
       "      <td>0.0</td>\n",
       "      <td>1.0</td>\n",
       "      <td>0.0</td>\n",
       "      <td>0.0</td>\n",
       "      <td>0</td>\n",
       "    </tr>\n",
       "    <tr>\n",
       "      <th>2</th>\n",
       "      <td>0.0</td>\n",
       "      <td>1.0</td>\n",
       "      <td>-0.288114</td>\n",
       "      <td>2.150043</td>\n",
       "      <td>-0.352491</td>\n",
       "      <td>6.527927</td>\n",
       "      <td>-0.232789</td>\n",
       "      <td>0</td>\n",
       "      <td>1.0</td>\n",
       "      <td>0.0</td>\n",
       "      <td>...</td>\n",
       "      <td>0.0</td>\n",
       "      <td>1.0</td>\n",
       "      <td>0.0</td>\n",
       "      <td>0.0</td>\n",
       "      <td>0.0</td>\n",
       "      <td>0.0</td>\n",
       "      <td>0.0</td>\n",
       "      <td>0.0</td>\n",
       "      <td>0.0</td>\n",
       "      <td>0</td>\n",
       "    </tr>\n",
       "    <tr>\n",
       "      <th>3</th>\n",
       "      <td>0.0</td>\n",
       "      <td>0.0</td>\n",
       "      <td>-0.359961</td>\n",
       "      <td>0.580400</td>\n",
       "      <td>0.469440</td>\n",
       "      <td>3.088351</td>\n",
       "      <td>-0.093104</td>\n",
       "      <td>0</td>\n",
       "      <td>1.0</td>\n",
       "      <td>0.0</td>\n",
       "      <td>...</td>\n",
       "      <td>0.0</td>\n",
       "      <td>1.0</td>\n",
       "      <td>0.0</td>\n",
       "      <td>0.0</td>\n",
       "      <td>0.0</td>\n",
       "      <td>0.0</td>\n",
       "      <td>0.0</td>\n",
       "      <td>0.0</td>\n",
       "      <td>0.0</td>\n",
       "      <td>0</td>\n",
       "    </tr>\n",
       "    <tr>\n",
       "      <th>4</th>\n",
       "      <td>0.0</td>\n",
       "      <td>0.0</td>\n",
       "      <td>0.146315</td>\n",
       "      <td>-0.249943</td>\n",
       "      <td>-0.017958</td>\n",
       "      <td>0.280616</td>\n",
       "      <td>-0.278380</td>\n",
       "      <td>1</td>\n",
       "      <td>1.0</td>\n",
       "      <td>1.0</td>\n",
       "      <td>...</td>\n",
       "      <td>0.0</td>\n",
       "      <td>0.0</td>\n",
       "      <td>0.0</td>\n",
       "      <td>0.0</td>\n",
       "      <td>0.0</td>\n",
       "      <td>0.0</td>\n",
       "      <td>1.0</td>\n",
       "      <td>0.0</td>\n",
       "      <td>0.0</td>\n",
       "      <td>0</td>\n",
       "    </tr>\n",
       "  </tbody>\n",
       "</table>\n",
       "<p>5 rows × 29 columns</p>\n",
       "</div>"
      ],
      "text/plain": [
       "   CryoSleep  VIP  RoomService  FoodCourt  ShoppingMall       Spa    VRDeck  \\\n",
       "0        0.0  0.0    -0.359961  -0.297860     -0.352491 -0.293324 -0.280320   \n",
       "1        0.0  0.0    -0.177836  -0.291700     -0.297105  0.264363 -0.237639   \n",
       "2        0.0  1.0    -0.288114   2.150043     -0.352491  6.527927 -0.232789   \n",
       "3        0.0  0.0    -0.359961   0.580400      0.469440  3.088351 -0.093104   \n",
       "4        0.0  0.0     0.146315  -0.249943     -0.017958  0.280616 -0.278380   \n",
       "\n",
       "   Transported  side  HomePlanet_Earth  ...  AgeGroup_Old  deck_A  deck_B  \\\n",
       "0            0   0.0               0.0  ...           0.0     0.0     1.0   \n",
       "1            1   1.0               1.0  ...           0.0     0.0     0.0   \n",
       "2            0   1.0               0.0  ...           0.0     1.0     0.0   \n",
       "3            0   1.0               0.0  ...           0.0     1.0     0.0   \n",
       "4            1   1.0               1.0  ...           0.0     0.0     0.0   \n",
       "\n",
       "   deck_C  deck_D  deck_E  deck_F  deck_G  deck_T  num_label  \n",
       "0     0.0     0.0     0.0     0.0     0.0     0.0          0  \n",
       "1     0.0     0.0     0.0     1.0     0.0     0.0          0  \n",
       "2     0.0     0.0     0.0     0.0     0.0     0.0          0  \n",
       "3     0.0     0.0     0.0     0.0     0.0     0.0          0  \n",
       "4     0.0     0.0     0.0     1.0     0.0     0.0          0  \n",
       "\n",
       "[5 rows x 29 columns]"
      ]
     },
     "execution_count": 46,
     "metadata": {},
     "output_type": "execute_result"
    }
   ],
   "source": [
    "train_df.dropna()\n",
    "train_df.head()"
   ]
  },
  {
   "cell_type": "markdown",
   "id": "627329d2",
   "metadata": {
    "papermill": {
     "duration": 0.029238,
     "end_time": "2023-10-26T23:53:15.539853",
     "exception": false,
     "start_time": "2023-10-26T23:53:15.510615",
     "status": "completed"
    },
    "tags": []
   },
   "source": [
    "## TRAINING"
   ]
  },
  {
   "cell_type": "markdown",
   "id": "9d2cec4c",
   "metadata": {
    "papermill": {
     "duration": 0.028981,
     "end_time": "2023-10-26T23:53:15.598135",
     "exception": false,
     "start_time": "2023-10-26T23:53:15.569154",
     "status": "completed"
    },
    "tags": []
   },
   "source": [
    "### Trying Neural Nets"
   ]
  },
  {
   "cell_type": "code",
   "execution_count": 47,
   "id": "71789626",
   "metadata": {
    "execution": {
     "iopub.execute_input": "2023-10-26T23:53:15.662235Z",
     "iopub.status.busy": "2023-10-26T23:53:15.661848Z",
     "iopub.status.idle": "2023-10-26T23:53:15.675445Z",
     "shell.execute_reply": "2023-10-26T23:53:15.674275Z"
    },
    "papermill": {
     "duration": 0.047459,
     "end_time": "2023-10-26T23:53:15.677935",
     "exception": false,
     "start_time": "2023-10-26T23:53:15.630476",
     "status": "completed"
    },
    "tags": []
   },
   "outputs": [],
   "source": [
    "train_df['num_label'] = train_df['num_label'].astype(float)\n",
    "X = train_df.drop('Transported', axis=1)\n",
    "y = train_df['Transported']\n",
    "\n",
    "X_train, X_test, y_train, y_test = train_test_split(X, y, test_size=0.2, random_state=42)"
   ]
  },
  {
   "cell_type": "code",
   "execution_count": 48,
   "id": "76f6c804",
   "metadata": {
    "execution": {
     "iopub.execute_input": "2023-10-26T23:53:15.739919Z",
     "iopub.status.busy": "2023-10-26T23:53:15.739189Z",
     "iopub.status.idle": "2023-10-26T23:53:19.665782Z",
     "shell.execute_reply": "2023-10-26T23:53:19.664304Z"
    },
    "papermill": {
     "duration": 3.96079,
     "end_time": "2023-10-26T23:53:19.668610",
     "exception": false,
     "start_time": "2023-10-26T23:53:15.707820",
     "status": "completed"
    },
    "tags": []
   },
   "outputs": [],
   "source": [
    "\n",
    "import torch\n",
    "import torch.nn as nn\n",
    "import torch.optim as optim"
   ]
  },
  {
   "cell_type": "code",
   "execution_count": 49,
   "id": "47da2fcb",
   "metadata": {
    "execution": {
     "iopub.execute_input": "2023-10-26T23:53:19.731447Z",
     "iopub.status.busy": "2023-10-26T23:53:19.730539Z",
     "iopub.status.idle": "2023-10-26T23:53:19.739504Z",
     "shell.execute_reply": "2023-10-26T23:53:19.738700Z"
    },
    "papermill": {
     "duration": 0.042654,
     "end_time": "2023-10-26T23:53:19.741812",
     "exception": false,
     "start_time": "2023-10-26T23:53:19.699158",
     "status": "completed"
    },
    "tags": []
   },
   "outputs": [],
   "source": [
    "class SimpleBinaryClassifier(nn.Module):\n",
    "    def __init__(self, input_size):\n",
    "        super(SimpleBinaryClassifier, self).__init__()\n",
    "        self.input_size = input_size\n",
    "        \n",
    "#         self.layer1 = nn.Linear(input_size, 60)\n",
    "#         self.act1 = nn.ReLU()\n",
    "#         self.layer2 = nn.Linear(60, 60)\n",
    "#         self.act2 = nn.ReLU()\n",
    "#         self.layer3 = nn.Linear(60, 60)\n",
    "#         self.act3 = nn.ReLU()\n",
    "#         self.output = nn.Linear(60, 1)\n",
    "#         self.sigmoid = nn.Sigmoid()\n",
    "        \n",
    "        # Define the layers\n",
    "        self.hidden_layers = nn.Sequential(\n",
    "            nn.Linear(input_size, 64),\n",
    "            nn.ReLU(),\n",
    "            nn.Linear(64, 128),\n",
    "            nn.ReLU(),\n",
    "            nn.Linear(128, 64),\n",
    "            nn.ReLU(),\n",
    "            nn.Linear(64, 32),\n",
    "            nn.ReLU(),\n",
    "            nn.Linear(32, 1),\n",
    "            nn.Sigmoid()  # Sigmoid activation for binary classification\n",
    "       \n",
    "        )\n",
    "\n",
    "    def forward(self, x):\n",
    "#         x = self.act1(self.layer1(x))\n",
    "#         x = self.act2(self.layer2(x))\n",
    "#         x = self.act3(self.layer3(x))\n",
    "#         x = self.sigmoid(self.output(x))\n",
    "#         return x\n",
    "        x = self.hidden_layers(x)  # Apply sigmoid activation for binary classification\n",
    "        return x"
   ]
  },
  {
   "cell_type": "code",
   "execution_count": 50,
   "id": "285d70dd",
   "metadata": {
    "execution": {
     "iopub.execute_input": "2023-10-26T23:53:19.809521Z",
     "iopub.status.busy": "2023-10-26T23:53:19.808516Z",
     "iopub.status.idle": "2023-10-26T23:53:19.852157Z",
     "shell.execute_reply": "2023-10-26T23:53:19.851053Z"
    },
    "papermill": {
     "duration": 0.08405,
     "end_time": "2023-10-26T23:53:19.855181",
     "exception": false,
     "start_time": "2023-10-26T23:53:19.771131",
     "status": "completed"
    },
    "tags": []
   },
   "outputs": [],
   "source": [
    "model = SimpleBinaryClassifier(X_train.shape[1])\n",
    "criterion = nn.BCELoss()  # Binary Cross-Entropy Loss\n",
    "optimizer = optim.Adam(model.parameters(), lr=0.0001)  # Adjust optimizer and learning rate\n",
    "num_epochs = 1500\n",
    "\n"
   ]
  },
  {
   "cell_type": "code",
   "execution_count": 51,
   "id": "87cf5dfd",
   "metadata": {
    "execution": {
     "iopub.execute_input": "2023-10-26T23:53:19.929422Z",
     "iopub.status.busy": "2023-10-26T23:53:19.921556Z",
     "iopub.status.idle": "2023-10-26T23:53:47.191238Z",
     "shell.execute_reply": "2023-10-26T23:53:47.189827Z"
    },
    "papermill": {
     "duration": 27.309104,
     "end_time": "2023-10-26T23:53:47.194166",
     "exception": false,
     "start_time": "2023-10-26T23:53:19.885062",
     "status": "completed"
    },
    "tags": []
   },
   "outputs": [
    {
     "name": "stdout",
     "output_type": "stream",
     "text": [
      "Epoch [1/1500], Loss: 0.6939036846160889\n",
      "Epoch [11/1500], Loss: 0.6925355195999146\n",
      "Epoch [21/1500], Loss: 0.6910539865493774\n",
      "Epoch [31/1500], Loss: 0.6893364787101746\n",
      "Epoch [41/1500], Loss: 0.6871597170829773\n",
      "Epoch [51/1500], Loss: 0.6843186616897583\n",
      "Epoch [61/1500], Loss: 0.6805746555328369\n",
      "Epoch [71/1500], Loss: 0.675538957118988\n",
      "Epoch [81/1500], Loss: 0.668795108795166\n",
      "Epoch [91/1500], Loss: 0.6601237058639526\n",
      "Epoch [101/1500], Loss: 0.6495993137359619\n",
      "Epoch [111/1500], Loss: 0.6372719407081604\n",
      "Epoch [121/1500], Loss: 0.6231346726417542\n",
      "Epoch [131/1500], Loss: 0.6072566509246826\n",
      "Epoch [141/1500], Loss: 0.5897433161735535\n",
      "Epoch [151/1500], Loss: 0.5708882808685303\n",
      "Epoch [161/1500], Loss: 0.5512111186981201\n",
      "Epoch [171/1500], Loss: 0.5313317775726318\n",
      "Epoch [181/1500], Loss: 0.5118563771247864\n",
      "Epoch [191/1500], Loss: 0.49430611729621887\n",
      "Epoch [201/1500], Loss: 0.4793141782283783\n",
      "Epoch [211/1500], Loss: 0.46693772077560425\n",
      "Epoch [221/1500], Loss: 0.45685967803001404\n",
      "Epoch [231/1500], Loss: 0.4488358199596405\n",
      "Epoch [241/1500], Loss: 0.44246354699134827\n",
      "Epoch [251/1500], Loss: 0.4373937249183655\n",
      "Epoch [261/1500], Loss: 0.433214396238327\n",
      "Epoch [271/1500], Loss: 0.42972004413604736\n",
      "Epoch [281/1500], Loss: 0.42670196294784546\n",
      "Epoch [291/1500], Loss: 0.4240433871746063\n",
      "Epoch [301/1500], Loss: 0.4216344952583313\n",
      "Epoch [311/1500], Loss: 0.4194067418575287\n",
      "Epoch [321/1500], Loss: 0.41732364892959595\n",
      "Epoch [331/1500], Loss: 0.4153625965118408\n",
      "Epoch [341/1500], Loss: 0.41349634528160095\n",
      "Epoch [351/1500], Loss: 0.4117141664028168\n",
      "Epoch [361/1500], Loss: 0.40999796986579895\n",
      "Epoch [371/1500], Loss: 0.4083491861820221\n",
      "Epoch [381/1500], Loss: 0.40676501393318176\n",
      "Epoch [391/1500], Loss: 0.4052235186100006\n",
      "Epoch [401/1500], Loss: 0.40369734168052673\n",
      "Epoch [411/1500], Loss: 0.4022129774093628\n",
      "Epoch [421/1500], Loss: 0.4007309675216675\n",
      "Epoch [431/1500], Loss: 0.39926716685295105\n",
      "Epoch [441/1500], Loss: 0.39781925082206726\n",
      "Epoch [451/1500], Loss: 0.3963865041732788\n",
      "Epoch [461/1500], Loss: 0.3949708044528961\n",
      "Epoch [471/1500], Loss: 0.39358532428741455\n",
      "Epoch [481/1500], Loss: 0.3922249972820282\n",
      "Epoch [491/1500], Loss: 0.39089861512184143\n",
      "Epoch [501/1500], Loss: 0.3895917236804962\n",
      "Epoch [511/1500], Loss: 0.38829633593559265\n",
      "Epoch [521/1500], Loss: 0.3870149850845337\n",
      "Epoch [531/1500], Loss: 0.3857446610927582\n",
      "Epoch [541/1500], Loss: 0.3844794034957886\n",
      "Epoch [551/1500], Loss: 0.38322076201438904\n",
      "Epoch [561/1500], Loss: 0.38197919726371765\n",
      "Epoch [571/1500], Loss: 0.3807554841041565\n",
      "Epoch [581/1500], Loss: 0.37953802943229675\n",
      "Epoch [591/1500], Loss: 0.37833812832832336\n",
      "Epoch [601/1500], Loss: 0.37716013193130493\n",
      "Epoch [611/1500], Loss: 0.376000314950943\n",
      "Epoch [621/1500], Loss: 0.37486016750335693\n",
      "Epoch [631/1500], Loss: 0.37373119592666626\n",
      "Epoch [641/1500], Loss: 0.3726150393486023\n",
      "Epoch [651/1500], Loss: 0.37150508165359497\n",
      "Epoch [661/1500], Loss: 0.3703988492488861\n",
      "Epoch [671/1500], Loss: 0.36929288506507874\n",
      "Epoch [681/1500], Loss: 0.3681865632534027\n",
      "Epoch [691/1500], Loss: 0.3670831024646759\n",
      "Epoch [701/1500], Loss: 0.3659847676753998\n",
      "Epoch [711/1500], Loss: 0.36491674184799194\n",
      "Epoch [721/1500], Loss: 0.36385175585746765\n",
      "Epoch [731/1500], Loss: 0.3627866804599762\n",
      "Epoch [741/1500], Loss: 0.3617261052131653\n",
      "Epoch [751/1500], Loss: 0.36066606640815735\n",
      "Epoch [761/1500], Loss: 0.3596000075340271\n",
      "Epoch [771/1500], Loss: 0.3585267663002014\n",
      "Epoch [781/1500], Loss: 0.3574444651603699\n",
      "Epoch [791/1500], Loss: 0.3563609719276428\n",
      "Epoch [801/1500], Loss: 0.35528039932250977\n",
      "Epoch [811/1500], Loss: 0.3541911244392395\n",
      "Epoch [821/1500], Loss: 0.35310009121894836\n",
      "Epoch [831/1500], Loss: 0.3520006835460663\n",
      "Epoch [841/1500], Loss: 0.3509005308151245\n",
      "Epoch [851/1500], Loss: 0.34980684518814087\n",
      "Epoch [861/1500], Loss: 0.34869399666786194\n",
      "Epoch [871/1500], Loss: 0.3475669324398041\n",
      "Epoch [881/1500], Loss: 0.3464254140853882\n",
      "Epoch [891/1500], Loss: 0.3452807664871216\n",
      "Epoch [901/1500], Loss: 0.34410667419433594\n",
      "Epoch [911/1500], Loss: 0.3429158926010132\n",
      "Epoch [921/1500], Loss: 0.34171387553215027\n",
      "Epoch [931/1500], Loss: 0.3404864966869354\n",
      "Epoch [941/1500], Loss: 0.3392300605773926\n",
      "Epoch [951/1500], Loss: 0.3379537761211395\n",
      "Epoch [961/1500], Loss: 0.33665943145751953\n",
      "Epoch [971/1500], Loss: 0.33537235856056213\n",
      "Epoch [981/1500], Loss: 0.33406761288642883\n",
      "Epoch [991/1500], Loss: 0.33275243639945984\n",
      "Epoch [1001/1500], Loss: 0.3314173221588135\n",
      "Epoch [1011/1500], Loss: 0.33005422353744507\n",
      "Epoch [1021/1500], Loss: 0.3286708891391754\n",
      "Epoch [1031/1500], Loss: 0.3272881805896759\n",
      "Epoch [1041/1500], Loss: 0.32588818669319153\n",
      "Epoch [1051/1500], Loss: 0.32447946071624756\n",
      "Epoch [1061/1500], Loss: 0.32309380173683167\n",
      "Epoch [1071/1500], Loss: 0.32171764969825745\n",
      "Epoch [1081/1500], Loss: 0.32036253809928894\n",
      "Epoch [1091/1500], Loss: 0.3190328776836395\n",
      "Epoch [1101/1500], Loss: 0.3176838457584381\n",
      "Epoch [1111/1500], Loss: 0.31631147861480713\n",
      "Epoch [1121/1500], Loss: 0.31494617462158203\n",
      "Epoch [1131/1500], Loss: 0.31358569860458374\n",
      "Epoch [1141/1500], Loss: 0.3122180700302124\n",
      "Epoch [1151/1500], Loss: 0.31083226203918457\n",
      "Epoch [1161/1500], Loss: 0.309469074010849\n",
      "Epoch [1171/1500], Loss: 0.3080858588218689\n",
      "Epoch [1181/1500], Loss: 0.306719571352005\n",
      "Epoch [1191/1500], Loss: 0.3053591847419739\n",
      "Epoch [1201/1500], Loss: 0.3040253818035126\n",
      "Epoch [1211/1500], Loss: 0.30286186933517456\n",
      "Epoch [1221/1500], Loss: 0.30149099230766296\n",
      "Epoch [1231/1500], Loss: 0.3002609610557556\n",
      "Epoch [1241/1500], Loss: 0.2990546226501465\n",
      "Epoch [1251/1500], Loss: 0.2978608310222626\n",
      "Epoch [1261/1500], Loss: 0.2966753840446472\n",
      "Epoch [1271/1500], Loss: 0.2955378293991089\n",
      "Epoch [1281/1500], Loss: 0.2944951057434082\n",
      "Epoch [1291/1500], Loss: 0.2933499813079834\n",
      "Epoch [1301/1500], Loss: 0.2922544777393341\n",
      "Epoch [1311/1500], Loss: 0.2911969721317291\n",
      "Epoch [1321/1500], Loss: 0.2901294231414795\n",
      "Epoch [1331/1500], Loss: 0.289063960313797\n",
      "Epoch [1341/1500], Loss: 0.28802019357681274\n",
      "Epoch [1351/1500], Loss: 0.2870230972766876\n",
      "Epoch [1361/1500], Loss: 0.2860609292984009\n",
      "Epoch [1371/1500], Loss: 0.2851039469242096\n",
      "Epoch [1381/1500], Loss: 0.28412675857543945\n",
      "Epoch [1391/1500], Loss: 0.2831934988498688\n",
      "Epoch [1401/1500], Loss: 0.28231164813041687\n",
      "Epoch [1411/1500], Loss: 0.28138384222984314\n",
      "Epoch [1421/1500], Loss: 0.2804778814315796\n",
      "Epoch [1431/1500], Loss: 0.27958565950393677\n",
      "Epoch [1441/1500], Loss: 0.2787007689476013\n",
      "Epoch [1451/1500], Loss: 0.27784931659698486\n",
      "Epoch [1461/1500], Loss: 0.2770066261291504\n",
      "Epoch [1471/1500], Loss: 0.27609124779701233\n",
      "Epoch [1481/1500], Loss: 0.27522918581962585\n",
      "Epoch [1491/1500], Loss: 0.27441567182540894\n"
     ]
    }
   ],
   "source": [
    "for epoch in range(num_epochs):\n",
    "    model.train()  # Set the model in training mode\n",
    "    optimizer.zero_grad()  # Zero the gradient buffers\n",
    "\n",
    "    # Forward pass\n",
    "    outputs = model(torch.tensor(X_train.values, dtype=torch.float32))\n",
    "#     print(outputs>1)\n",
    "#     print()\n",
    "    loss = criterion(outputs, torch.tensor(y_train.values, dtype=torch.float32).view(-1, 1))\n",
    "\n",
    "    # Backpropagation and optimization\n",
    "    loss.backward()\n",
    "    optimizer.step()\n",
    "\n",
    "    if epoch % 10 == 0:\n",
    "        print(f'Epoch [{epoch + 1}/{num_epochs}], Loss: {loss.item()}')\n",
    "\n"
   ]
  },
  {
   "cell_type": "code",
   "execution_count": 52,
   "id": "cdb4c904",
   "metadata": {
    "execution": {
     "iopub.execute_input": "2023-10-26T23:53:47.270724Z",
     "iopub.status.busy": "2023-10-26T23:53:47.270341Z",
     "iopub.status.idle": "2023-10-26T23:53:47.282154Z",
     "shell.execute_reply": "2023-10-26T23:53:47.280518Z"
    },
    "papermill": {
     "duration": 0.053567,
     "end_time": "2023-10-26T23:53:47.284509",
     "exception": false,
     "start_time": "2023-10-26T23:53:47.230942",
     "status": "completed"
    },
    "tags": []
   },
   "outputs": [
    {
     "name": "stdout",
     "output_type": "stream",
     "text": [
      "Validation Loss: 0.48878711462020874\n"
     ]
    }
   ],
   "source": [
    "model.eval()  # Set the model in evaluation mode\n",
    "with torch.no_grad():\n",
    "    val_outputs = model(torch.tensor(X_test.values, dtype=torch.float32))\n",
    "    \n",
    "    # Clamp the validation output to be between 0 and 1\n",
    "    val_outputs = torch.clamp(val_outputs, 0, 1)\n",
    "    \n",
    "    val_loss = criterion(val_outputs, torch.tensor(y_test.values, dtype=torch.float32).view(-1, 1))\n",
    "\n",
    "print(f'Validation Loss: {val_loss.item()}')\n"
   ]
  },
  {
   "cell_type": "code",
   "execution_count": 53,
   "id": "e162414b",
   "metadata": {
    "execution": {
     "iopub.execute_input": "2023-10-26T23:53:47.358344Z",
     "iopub.status.busy": "2023-10-26T23:53:47.357966Z",
     "iopub.status.idle": "2023-10-26T23:53:47.362831Z",
     "shell.execute_reply": "2023-10-26T23:53:47.361624Z"
    },
    "papermill": {
     "duration": 0.044546,
     "end_time": "2023-10-26T23:53:47.365131",
     "exception": false,
     "start_time": "2023-10-26T23:53:47.320585",
     "status": "completed"
    },
    "tags": []
   },
   "outputs": [],
   "source": [
    "from sklearn.metrics import accuracy_score"
   ]
  },
  {
   "cell_type": "code",
   "execution_count": 54,
   "id": "6a970377",
   "metadata": {
    "execution": {
     "iopub.execute_input": "2023-10-26T23:53:47.438585Z",
     "iopub.status.busy": "2023-10-26T23:53:47.438207Z",
     "iopub.status.idle": "2023-10-26T23:53:47.454259Z",
     "shell.execute_reply": "2023-10-26T23:53:47.452476Z"
    },
    "papermill": {
     "duration": 0.055814,
     "end_time": "2023-10-26T23:53:47.456715",
     "exception": false,
     "start_time": "2023-10-26T23:53:47.400901",
     "status": "completed"
    },
    "tags": []
   },
   "outputs": [
    {
     "name": "stdout",
     "output_type": "stream",
     "text": [
      "Accuracy on Test Data: 78.03%\n"
     ]
    }
   ],
   "source": [
    "# Define a prediction threshold (e.g., 0.5 for a binary classification threshold)\n",
    "threshold = 0.5\n",
    "\n",
    "# Make predictions on the test data\n",
    "model.eval()  # Set the model in evaluation mode\n",
    "with torch.no_grad():\n",
    "    test_outputs = model(torch.tensor(X_test.values, dtype=torch.float32))\n",
    "    # Apply the threshold to convert probabilities to binary predictions\n",
    "    test_predictions = (test_outputs >= threshold).float()\n",
    "\n",
    "# Calculate accuracy\n",
    "accuracy = accuracy_score(y_test, test_predictions)\n",
    "print(f'Accuracy on Test Data: {accuracy * 100:.2f}%')"
   ]
  },
  {
   "cell_type": "markdown",
   "id": "3d35f895",
   "metadata": {
    "papermill": {
     "duration": 0.035158,
     "end_time": "2023-10-26T23:53:47.527884",
     "exception": false,
     "start_time": "2023-10-26T23:53:47.492726",
     "status": "completed"
    },
    "tags": []
   },
   "source": [
    "## TEST SET PREDICTION"
   ]
  }
 ],
 "metadata": {
  "kernelspec": {
   "display_name": "Python 3",
   "language": "python",
   "name": "python3"
  },
  "language_info": {
   "codemirror_mode": {
    "name": "ipython",
    "version": 3
   },
   "file_extension": ".py",
   "mimetype": "text/x-python",
   "name": "python",
   "nbconvert_exporter": "python",
   "pygments_lexer": "ipython3",
   "version": "3.10.12"
  },
  "papermill": {
   "default_parameters": {},
   "duration": 46.873264,
   "end_time": "2023-10-26T23:53:48.888319",
   "environment_variables": {},
   "exception": null,
   "input_path": "__notebook__.ipynb",
   "output_path": "__notebook__.ipynb",
   "parameters": {},
   "start_time": "2023-10-26T23:53:02.015055",
   "version": "2.4.0"
  }
 },
 "nbformat": 4,
 "nbformat_minor": 5
}
